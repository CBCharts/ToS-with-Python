{
 "cells": [
  {
   "cell_type": "code",
   "execution_count": 1,
   "metadata": {},
   "outputs": [
    {
     "name": "stdout",
     "output_type": "stream",
     "text": [
      "Top 5 and Bottom 5 Gamma Exposure data with Theo ES Price and Gamma Flip saved to C:\\Users\\Chris\\OneDrive\\Documents\\NinjaTrader 8\\bin\\Custom\\top_bottom_gamma_exposure.csv\n",
      "Top 10 and Lowest 10 Strike levels saved to top_bottom_gamma_exposure.csv\n"
     ]
    },
    {
     "data": {
      "application/vnd.plotly.v1+json": {
       "config": {
        "plotlyServerURL": "https://plot.ly"
       },
       "data": [
        {
         "marker": {
          "color": "blue",
          "line": {
           "color": "black",
           "width": 1
          }
         },
         "name": "Gamma Exposure",
         "type": "bar",
         "x": [
          5525,
          5530,
          5540,
          5550,
          5560,
          5570,
          5575,
          5580,
          5585,
          5590,
          5595,
          5600,
          5605,
          5610,
          5615,
          5620,
          5625,
          5630,
          5635,
          5640,
          5645,
          5650,
          5655,
          5660,
          5665,
          5670,
          5675,
          5680,
          5685,
          5690,
          5695,
          5700,
          5705,
          5710,
          5715,
          5720,
          5725,
          5730,
          5735,
          5740,
          5745,
          5750,
          5755,
          5760,
          5765,
          5770,
          5775,
          5780,
          5785,
          5790,
          5795,
          5800,
          5805,
          5810,
          5815,
          5820,
          5825,
          5830,
          5835,
          5840,
          5845,
          5850,
          5855,
          5860,
          5865,
          5870,
          5875,
          5880,
          5885,
          5890,
          5895,
          5900,
          5905,
          5910,
          5915,
          5920,
          5925,
          5930,
          5935,
          5940,
          5945,
          5950,
          5955,
          5960,
          5970,
          5975,
          5980,
          5990,
          6000,
          6010,
          6020,
          6025,
          6030,
          6040,
          6050
         ],
         "y": [
          -0.027894489202356938,
          -0.0019073443542698375,
          -0.012807901734689849,
          -0.016534818844625952,
          -0.0056713956020766855,
          -0.004611384757402829,
          -0.008051356256519582,
          -0.004277177516566167,
          -0.008848052305382733,
          -0.009513090956340536,
          -0.004111761811505597,
          -0.017591453858584283,
          -0.002984234352521304,
          -0.0015191238219848266,
          -0.003203663349030223,
          -0.005445214944136721,
          -0.03443009746760722,
          -0.0029977376753833906,
          -0.023867123158739387,
          -0.007889316382174534,
          -0.006373568390905226,
          -0.017760245394360382,
          -0.011430562802756939,
          -0.007960208827200492,
          -0.008777159860356772,
          -0.01101195979403223,
          -0.012733633458948365,
          -0.011201006314101454,
          -0.006495098296664012,
          -0.02807340823027959,
          -0.01702431429837662,
          -0.015707740319323094,
          -0.011909930764361037,
          -0.014340528879536763,
          -0.018175472572369566,
          -0.02888360760200483,
          -0.03275906126342389,
          -0.025149938830637677,
          -0.02513305967706007,
          -0.030463496376869043,
          -0.02906590246064301,
          0.0030247443211075366,
          -0.027209195567105993,
          -0.013935429193674147,
          0.023445144319299154,
          0.004928712844661861,
          0.20644892740773788,
          0.21576959601329365,
          0.16817038292443579,
          0.5621196999336875,
          0.37355592365678425,
          2.6824924756758146,
          1.6782672335759568,
          3.249223560366905,
          2.946357531893149,
          3.5875628179993666,
          4.461717302630168,
          2.2592409480558335,
          0.772038981316982,
          0.6747880500642289,
          0.33517948008273213,
          0.3440849215102787,
          0.1715597169628197,
          0.10471826879548736,
          0.07999368463500545,
          0.09128921420914149,
          0.09406414705730043,
          0.04214724648329012,
          0.006076495287939306,
          0.03321817424073487,
          0.001276064010467254,
          0.03183070781665539,
          0.0012152990575878611,
          0.018340888277430134,
          0.00018904652006922288,
          0.004874699553213531,
          0.016757623671850398,
          0.008412570143080417,
          0.0015596337905710884,
          0.008594865001718596,
          0.0009080984624753738,
          0.01916459097201747,
          0.00006751661431043673,
          0.0037876820628155003,
          0.0028086911553141677,
          0.0040813793350659,
          0.0041050101500745536,
          0.0016609087120367436,
          0.010968073994730444,
          0.0025622555130810735,
          0.00008777159860356777,
          0.000290321441534878,
          0.0001215299057587861,
          0.0006751661431043673,
          0.0009317292774840268
         ]
        },
        {
         "line": {
          "color": "red",
          "width": 2
         },
         "mode": "lines",
         "name": "SPX Spot: 5810",
         "type": "scatter",
         "x": [
          5810.18994140625,
          5810.18994140625
         ],
         "y": [
          -0.03443009746760722,
          4.461717302630168
         ]
        }
       ],
       "layout": {
        "showlegend": true,
        "template": {
         "data": {
          "bar": [
           {
            "error_x": {
             "color": "#2a3f5f"
            },
            "error_y": {
             "color": "#2a3f5f"
            },
            "marker": {
             "line": {
              "color": "#E5ECF6",
              "width": 0.5
             },
             "pattern": {
              "fillmode": "overlay",
              "size": 10,
              "solidity": 0.2
             }
            },
            "type": "bar"
           }
          ],
          "barpolar": [
           {
            "marker": {
             "line": {
              "color": "#E5ECF6",
              "width": 0.5
             },
             "pattern": {
              "fillmode": "overlay",
              "size": 10,
              "solidity": 0.2
             }
            },
            "type": "barpolar"
           }
          ],
          "carpet": [
           {
            "aaxis": {
             "endlinecolor": "#2a3f5f",
             "gridcolor": "white",
             "linecolor": "white",
             "minorgridcolor": "white",
             "startlinecolor": "#2a3f5f"
            },
            "baxis": {
             "endlinecolor": "#2a3f5f",
             "gridcolor": "white",
             "linecolor": "white",
             "minorgridcolor": "white",
             "startlinecolor": "#2a3f5f"
            },
            "type": "carpet"
           }
          ],
          "choropleth": [
           {
            "colorbar": {
             "outlinewidth": 0,
             "ticks": ""
            },
            "type": "choropleth"
           }
          ],
          "contour": [
           {
            "colorbar": {
             "outlinewidth": 0,
             "ticks": ""
            },
            "colorscale": [
             [
              0,
              "#0d0887"
             ],
             [
              0.1111111111111111,
              "#46039f"
             ],
             [
              0.2222222222222222,
              "#7201a8"
             ],
             [
              0.3333333333333333,
              "#9c179e"
             ],
             [
              0.4444444444444444,
              "#bd3786"
             ],
             [
              0.5555555555555556,
              "#d8576b"
             ],
             [
              0.6666666666666666,
              "#ed7953"
             ],
             [
              0.7777777777777778,
              "#fb9f3a"
             ],
             [
              0.8888888888888888,
              "#fdca26"
             ],
             [
              1,
              "#f0f921"
             ]
            ],
            "type": "contour"
           }
          ],
          "contourcarpet": [
           {
            "colorbar": {
             "outlinewidth": 0,
             "ticks": ""
            },
            "type": "contourcarpet"
           }
          ],
          "heatmap": [
           {
            "colorbar": {
             "outlinewidth": 0,
             "ticks": ""
            },
            "colorscale": [
             [
              0,
              "#0d0887"
             ],
             [
              0.1111111111111111,
              "#46039f"
             ],
             [
              0.2222222222222222,
              "#7201a8"
             ],
             [
              0.3333333333333333,
              "#9c179e"
             ],
             [
              0.4444444444444444,
              "#bd3786"
             ],
             [
              0.5555555555555556,
              "#d8576b"
             ],
             [
              0.6666666666666666,
              "#ed7953"
             ],
             [
              0.7777777777777778,
              "#fb9f3a"
             ],
             [
              0.8888888888888888,
              "#fdca26"
             ],
             [
              1,
              "#f0f921"
             ]
            ],
            "type": "heatmap"
           }
          ],
          "heatmapgl": [
           {
            "colorbar": {
             "outlinewidth": 0,
             "ticks": ""
            },
            "colorscale": [
             [
              0,
              "#0d0887"
             ],
             [
              0.1111111111111111,
              "#46039f"
             ],
             [
              0.2222222222222222,
              "#7201a8"
             ],
             [
              0.3333333333333333,
              "#9c179e"
             ],
             [
              0.4444444444444444,
              "#bd3786"
             ],
             [
              0.5555555555555556,
              "#d8576b"
             ],
             [
              0.6666666666666666,
              "#ed7953"
             ],
             [
              0.7777777777777778,
              "#fb9f3a"
             ],
             [
              0.8888888888888888,
              "#fdca26"
             ],
             [
              1,
              "#f0f921"
             ]
            ],
            "type": "heatmapgl"
           }
          ],
          "histogram": [
           {
            "marker": {
             "pattern": {
              "fillmode": "overlay",
              "size": 10,
              "solidity": 0.2
             }
            },
            "type": "histogram"
           }
          ],
          "histogram2d": [
           {
            "colorbar": {
             "outlinewidth": 0,
             "ticks": ""
            },
            "colorscale": [
             [
              0,
              "#0d0887"
             ],
             [
              0.1111111111111111,
              "#46039f"
             ],
             [
              0.2222222222222222,
              "#7201a8"
             ],
             [
              0.3333333333333333,
              "#9c179e"
             ],
             [
              0.4444444444444444,
              "#bd3786"
             ],
             [
              0.5555555555555556,
              "#d8576b"
             ],
             [
              0.6666666666666666,
              "#ed7953"
             ],
             [
              0.7777777777777778,
              "#fb9f3a"
             ],
             [
              0.8888888888888888,
              "#fdca26"
             ],
             [
              1,
              "#f0f921"
             ]
            ],
            "type": "histogram2d"
           }
          ],
          "histogram2dcontour": [
           {
            "colorbar": {
             "outlinewidth": 0,
             "ticks": ""
            },
            "colorscale": [
             [
              0,
              "#0d0887"
             ],
             [
              0.1111111111111111,
              "#46039f"
             ],
             [
              0.2222222222222222,
              "#7201a8"
             ],
             [
              0.3333333333333333,
              "#9c179e"
             ],
             [
              0.4444444444444444,
              "#bd3786"
             ],
             [
              0.5555555555555556,
              "#d8576b"
             ],
             [
              0.6666666666666666,
              "#ed7953"
             ],
             [
              0.7777777777777778,
              "#fb9f3a"
             ],
             [
              0.8888888888888888,
              "#fdca26"
             ],
             [
              1,
              "#f0f921"
             ]
            ],
            "type": "histogram2dcontour"
           }
          ],
          "mesh3d": [
           {
            "colorbar": {
             "outlinewidth": 0,
             "ticks": ""
            },
            "type": "mesh3d"
           }
          ],
          "parcoords": [
           {
            "line": {
             "colorbar": {
              "outlinewidth": 0,
              "ticks": ""
             }
            },
            "type": "parcoords"
           }
          ],
          "pie": [
           {
            "automargin": true,
            "type": "pie"
           }
          ],
          "scatter": [
           {
            "fillpattern": {
             "fillmode": "overlay",
             "size": 10,
             "solidity": 0.2
            },
            "type": "scatter"
           }
          ],
          "scatter3d": [
           {
            "line": {
             "colorbar": {
              "outlinewidth": 0,
              "ticks": ""
             }
            },
            "marker": {
             "colorbar": {
              "outlinewidth": 0,
              "ticks": ""
             }
            },
            "type": "scatter3d"
           }
          ],
          "scattercarpet": [
           {
            "marker": {
             "colorbar": {
              "outlinewidth": 0,
              "ticks": ""
             }
            },
            "type": "scattercarpet"
           }
          ],
          "scattergeo": [
           {
            "marker": {
             "colorbar": {
              "outlinewidth": 0,
              "ticks": ""
             }
            },
            "type": "scattergeo"
           }
          ],
          "scattergl": [
           {
            "marker": {
             "colorbar": {
              "outlinewidth": 0,
              "ticks": ""
             }
            },
            "type": "scattergl"
           }
          ],
          "scattermapbox": [
           {
            "marker": {
             "colorbar": {
              "outlinewidth": 0,
              "ticks": ""
             }
            },
            "type": "scattermapbox"
           }
          ],
          "scatterpolar": [
           {
            "marker": {
             "colorbar": {
              "outlinewidth": 0,
              "ticks": ""
             }
            },
            "type": "scatterpolar"
           }
          ],
          "scatterpolargl": [
           {
            "marker": {
             "colorbar": {
              "outlinewidth": 0,
              "ticks": ""
             }
            },
            "type": "scatterpolargl"
           }
          ],
          "scatterternary": [
           {
            "marker": {
             "colorbar": {
              "outlinewidth": 0,
              "ticks": ""
             }
            },
            "type": "scatterternary"
           }
          ],
          "surface": [
           {
            "colorbar": {
             "outlinewidth": 0,
             "ticks": ""
            },
            "colorscale": [
             [
              0,
              "#0d0887"
             ],
             [
              0.1111111111111111,
              "#46039f"
             ],
             [
              0.2222222222222222,
              "#7201a8"
             ],
             [
              0.3333333333333333,
              "#9c179e"
             ],
             [
              0.4444444444444444,
              "#bd3786"
             ],
             [
              0.5555555555555556,
              "#d8576b"
             ],
             [
              0.6666666666666666,
              "#ed7953"
             ],
             [
              0.7777777777777778,
              "#fb9f3a"
             ],
             [
              0.8888888888888888,
              "#fdca26"
             ],
             [
              1,
              "#f0f921"
             ]
            ],
            "type": "surface"
           }
          ],
          "table": [
           {
            "cells": {
             "fill": {
              "color": "#EBF0F8"
             },
             "line": {
              "color": "white"
             }
            },
            "header": {
             "fill": {
              "color": "#C8D4E3"
             },
             "line": {
              "color": "white"
             }
            },
            "type": "table"
           }
          ]
         },
         "layout": {
          "annotationdefaults": {
           "arrowcolor": "#2a3f5f",
           "arrowhead": 0,
           "arrowwidth": 1
          },
          "autotypenumbers": "strict",
          "coloraxis": {
           "colorbar": {
            "outlinewidth": 0,
            "ticks": ""
           }
          },
          "colorscale": {
           "diverging": [
            [
             0,
             "#8e0152"
            ],
            [
             0.1,
             "#c51b7d"
            ],
            [
             0.2,
             "#de77ae"
            ],
            [
             0.3,
             "#f1b6da"
            ],
            [
             0.4,
             "#fde0ef"
            ],
            [
             0.5,
             "#f7f7f7"
            ],
            [
             0.6,
             "#e6f5d0"
            ],
            [
             0.7,
             "#b8e186"
            ],
            [
             0.8,
             "#7fbc41"
            ],
            [
             0.9,
             "#4d9221"
            ],
            [
             1,
             "#276419"
            ]
           ],
           "sequential": [
            [
             0,
             "#0d0887"
            ],
            [
             0.1111111111111111,
             "#46039f"
            ],
            [
             0.2222222222222222,
             "#7201a8"
            ],
            [
             0.3333333333333333,
             "#9c179e"
            ],
            [
             0.4444444444444444,
             "#bd3786"
            ],
            [
             0.5555555555555556,
             "#d8576b"
            ],
            [
             0.6666666666666666,
             "#ed7953"
            ],
            [
             0.7777777777777778,
             "#fb9f3a"
            ],
            [
             0.8888888888888888,
             "#fdca26"
            ],
            [
             1,
             "#f0f921"
            ]
           ],
           "sequentialminus": [
            [
             0,
             "#0d0887"
            ],
            [
             0.1111111111111111,
             "#46039f"
            ],
            [
             0.2222222222222222,
             "#7201a8"
            ],
            [
             0.3333333333333333,
             "#9c179e"
            ],
            [
             0.4444444444444444,
             "#bd3786"
            ],
            [
             0.5555555555555556,
             "#d8576b"
            ],
            [
             0.6666666666666666,
             "#ed7953"
            ],
            [
             0.7777777777777778,
             "#fb9f3a"
            ],
            [
             0.8888888888888888,
             "#fdca26"
            ],
            [
             1,
             "#f0f921"
            ]
           ]
          },
          "colorway": [
           "#636efa",
           "#EF553B",
           "#00cc96",
           "#ab63fa",
           "#FFA15A",
           "#19d3f3",
           "#FF6692",
           "#B6E880",
           "#FF97FF",
           "#FECB52"
          ],
          "font": {
           "color": "#2a3f5f"
          },
          "geo": {
           "bgcolor": "white",
           "lakecolor": "white",
           "landcolor": "#E5ECF6",
           "showlakes": true,
           "showland": true,
           "subunitcolor": "white"
          },
          "hoverlabel": {
           "align": "left"
          },
          "hovermode": "closest",
          "mapbox": {
           "style": "light"
          },
          "paper_bgcolor": "white",
          "plot_bgcolor": "#E5ECF6",
          "polar": {
           "angularaxis": {
            "gridcolor": "white",
            "linecolor": "white",
            "ticks": ""
           },
           "bgcolor": "#E5ECF6",
           "radialaxis": {
            "gridcolor": "white",
            "linecolor": "white",
            "ticks": ""
           }
          },
          "scene": {
           "xaxis": {
            "backgroundcolor": "#E5ECF6",
            "gridcolor": "white",
            "gridwidth": 2,
            "linecolor": "white",
            "showbackground": true,
            "ticks": "",
            "zerolinecolor": "white"
           },
           "yaxis": {
            "backgroundcolor": "#E5ECF6",
            "gridcolor": "white",
            "gridwidth": 2,
            "linecolor": "white",
            "showbackground": true,
            "ticks": "",
            "zerolinecolor": "white"
           },
           "zaxis": {
            "backgroundcolor": "#E5ECF6",
            "gridcolor": "white",
            "gridwidth": 2,
            "linecolor": "white",
            "showbackground": true,
            "ticks": "",
            "zerolinecolor": "white"
           }
          },
          "shapedefaults": {
           "line": {
            "color": "#2a3f5f"
           }
          },
          "ternary": {
           "aaxis": {
            "gridcolor": "white",
            "linecolor": "white",
            "ticks": ""
           },
           "baxis": {
            "gridcolor": "white",
            "linecolor": "white",
            "ticks": ""
           },
           "bgcolor": "#E5ECF6",
           "caxis": {
            "gridcolor": "white",
            "linecolor": "white",
            "ticks": ""
           }
          },
          "title": {
           "x": 0.05
          },
          "xaxis": {
           "automargin": true,
           "gridcolor": "white",
           "linecolor": "white",
           "ticks": "",
           "title": {
            "standoff": 15
           },
           "zerolinecolor": "white",
           "zerolinewidth": 2
          },
          "yaxis": {
           "automargin": true,
           "gridcolor": "white",
           "linecolor": "white",
           "ticks": "",
           "title": {
            "standoff": 15
           },
           "zerolinecolor": "white",
           "zerolinewidth": 2
          }
         }
        },
        "title": {
         "text": "Total Gamma: $24.70 Bn per 1% SPX Move (0DTE)"
        },
        "xaxis": {
         "range": [
          5460.18994140625,
          6160.18994140625
         ],
         "title": {
          "text": "Strike"
         }
        },
        "yaxis": {
         "title": {
          "text": "Spot Gamma Exposure ($ billions/1% move)"
         }
        }
       }
      }
     },
     "metadata": {},
     "output_type": "display_data"
    },
    {
     "data": {
      "application/vnd.plotly.v1+json": {
       "config": {
        "plotlyServerURL": "https://plot.ly"
       },
       "data": [
        {
         "line": {
          "color": "blue"
         },
         "mode": "lines",
         "name": "0DTE Gamma Exposure",
         "type": "scatter",
         "x": [
          4648.151953125001,
          4687.543071371822,
          4726.934189618644,
          4766.325307865467,
          4805.716426112289,
          4845.107544359111,
          4884.498662605933,
          4923.8897808527545,
          4963.280899099576,
          5002.672017346399,
          5042.063135593221,
          5081.454253840043,
          5120.845372086865,
          5160.236490333687,
          5199.627608580508,
          5239.018726827331,
          5278.409845074153,
          5317.800963320975,
          5357.192081567797,
          5396.583199814619,
          5435.9743180614405,
          5475.365436308263,
          5514.756554555085,
          5554.147672801907,
          5593.538791048729,
          5632.929909295551,
          5672.3210275423735,
          5711.712145789195,
          5751.103264036017,
          5790.494382282839,
          5829.885500529661,
          5869.276618776483,
          5908.667737023305,
          5948.058855270127,
          5987.449973516949,
          6026.841091763771,
          6066.232210010593,
          6105.623328257415,
          6145.014446504238,
          6184.4055647510595,
          6223.796682997881,
          6263.187801244703,
          6302.578919491525,
          6341.970037738347,
          6381.361155985169,
          6420.752274231992,
          6460.143392478813,
          6499.534510725635,
          6538.925628972457,
          6578.31674721928,
          6617.707865466102,
          6657.098983712924,
          6696.4901019597455,
          6735.881220206567,
          6775.272338453389,
          6814.663456700211,
          6854.054574947033,
          6893.445693193856,
          6932.836811440678,
          6972.227929687499
         ],
         "y": [
          -2.9944526410361596,
          -3.1196581181212015,
          -3.251034711946171,
          -3.389092608071126,
          -3.5343841425833182,
          -3.6875195009045276,
          -3.849192461079477,
          -4.02021671816581,
          -4.201570056457075,
          -4.394438885786538,
          -4.600250581304494,
          -4.820678180908603,
          -5.0576046585391135,
          -5.313044274054773,
          -5.58903342431173,
          -5.887511465039181,
          -6.210194299501535,
          -6.558385325357817,
          -6.932579553671056,
          -7.331639882784691,
          -7.751278403921162,
          -8.181426765762868,
          -8.601557380669085,
          -8.972144331733752,
          -9.219084624006763,
          -9.199313313000832,
          -8.596211269296637,
          -6.6368152055080065,
          -2.015290696739256,
          4.801787267642201,
          8.845918600875834,
          7.0288178217308195,
          3.0823829791267547,
          0.4079070838219185,
          -0.8803550183773565,
          -1.4349319887055632,
          -1.6502979691249193,
          -1.7175259715055633,
          -1.7235833133309284,
          -1.704263379731867,
          -1.6724384809571329,
          -1.632228078255794,
          -1.5852055803293794,
          -1.5325760271396645,
          -1.475679981100215,
          -1.4159557698549579,
          -1.3547941161394705,
          -1.2934209998580444,
          -1.2328365614263888,
          -1.1738018398134684,
          -1.1168561541000843,
          -1.0623495406986108,
          -1.0104795197242897,
          -0.961326151077072,
          -0.9148826651836001,
          -0.8710808923731167,
          -0.8298116631542424,
          -0.790940725612194,
          -0.7543208228503722,
          -0.7198005608229774
         ]
        },
        {
         "line": {
          "color": "red",
          "width": 2
         },
         "mode": "lines",
         "name": "SPX Spot: 5810",
         "type": "scatter",
         "x": [
          5810.18994140625,
          5810.18994140625
         ],
         "y": [
          -9.219084624006763,
          8.845918600875834
         ]
        },
        {
         "line": {
          "color": "black",
          "width": 2
         },
         "mode": "lines",
         "name": "Gamma Flip: 5763",
         "type": "scatter",
         "x": [
          5762.748217277238,
          5762.748217277238
         ],
         "y": [
          -9.219084624006763,
          8.845918600875834
         ]
        }
       ],
       "layout": {
        "shapes": [
         {
          "fillcolor": "red",
          "line": {
           "width": 0
          },
          "opacity": 0.1,
          "type": "rect",
          "x0": 4648.151953125001,
          "x1": 5762.748217277238,
          "y0": -9.219084624006763,
          "y1": 8.845918600875834
         },
         {
          "fillcolor": "green",
          "line": {
           "width": 0
          },
          "opacity": 0.1,
          "type": "rect",
          "x0": 5762.748217277238,
          "x1": 6972.227929687499,
          "y0": -9.219084624006763,
          "y1": 8.845918600875834
         }
        ],
        "showlegend": true,
        "template": {
         "data": {
          "bar": [
           {
            "error_x": {
             "color": "#2a3f5f"
            },
            "error_y": {
             "color": "#2a3f5f"
            },
            "marker": {
             "line": {
              "color": "#E5ECF6",
              "width": 0.5
             },
             "pattern": {
              "fillmode": "overlay",
              "size": 10,
              "solidity": 0.2
             }
            },
            "type": "bar"
           }
          ],
          "barpolar": [
           {
            "marker": {
             "line": {
              "color": "#E5ECF6",
              "width": 0.5
             },
             "pattern": {
              "fillmode": "overlay",
              "size": 10,
              "solidity": 0.2
             }
            },
            "type": "barpolar"
           }
          ],
          "carpet": [
           {
            "aaxis": {
             "endlinecolor": "#2a3f5f",
             "gridcolor": "white",
             "linecolor": "white",
             "minorgridcolor": "white",
             "startlinecolor": "#2a3f5f"
            },
            "baxis": {
             "endlinecolor": "#2a3f5f",
             "gridcolor": "white",
             "linecolor": "white",
             "minorgridcolor": "white",
             "startlinecolor": "#2a3f5f"
            },
            "type": "carpet"
           }
          ],
          "choropleth": [
           {
            "colorbar": {
             "outlinewidth": 0,
             "ticks": ""
            },
            "type": "choropleth"
           }
          ],
          "contour": [
           {
            "colorbar": {
             "outlinewidth": 0,
             "ticks": ""
            },
            "colorscale": [
             [
              0,
              "#0d0887"
             ],
             [
              0.1111111111111111,
              "#46039f"
             ],
             [
              0.2222222222222222,
              "#7201a8"
             ],
             [
              0.3333333333333333,
              "#9c179e"
             ],
             [
              0.4444444444444444,
              "#bd3786"
             ],
             [
              0.5555555555555556,
              "#d8576b"
             ],
             [
              0.6666666666666666,
              "#ed7953"
             ],
             [
              0.7777777777777778,
              "#fb9f3a"
             ],
             [
              0.8888888888888888,
              "#fdca26"
             ],
             [
              1,
              "#f0f921"
             ]
            ],
            "type": "contour"
           }
          ],
          "contourcarpet": [
           {
            "colorbar": {
             "outlinewidth": 0,
             "ticks": ""
            },
            "type": "contourcarpet"
           }
          ],
          "heatmap": [
           {
            "colorbar": {
             "outlinewidth": 0,
             "ticks": ""
            },
            "colorscale": [
             [
              0,
              "#0d0887"
             ],
             [
              0.1111111111111111,
              "#46039f"
             ],
             [
              0.2222222222222222,
              "#7201a8"
             ],
             [
              0.3333333333333333,
              "#9c179e"
             ],
             [
              0.4444444444444444,
              "#bd3786"
             ],
             [
              0.5555555555555556,
              "#d8576b"
             ],
             [
              0.6666666666666666,
              "#ed7953"
             ],
             [
              0.7777777777777778,
              "#fb9f3a"
             ],
             [
              0.8888888888888888,
              "#fdca26"
             ],
             [
              1,
              "#f0f921"
             ]
            ],
            "type": "heatmap"
           }
          ],
          "heatmapgl": [
           {
            "colorbar": {
             "outlinewidth": 0,
             "ticks": ""
            },
            "colorscale": [
             [
              0,
              "#0d0887"
             ],
             [
              0.1111111111111111,
              "#46039f"
             ],
             [
              0.2222222222222222,
              "#7201a8"
             ],
             [
              0.3333333333333333,
              "#9c179e"
             ],
             [
              0.4444444444444444,
              "#bd3786"
             ],
             [
              0.5555555555555556,
              "#d8576b"
             ],
             [
              0.6666666666666666,
              "#ed7953"
             ],
             [
              0.7777777777777778,
              "#fb9f3a"
             ],
             [
              0.8888888888888888,
              "#fdca26"
             ],
             [
              1,
              "#f0f921"
             ]
            ],
            "type": "heatmapgl"
           }
          ],
          "histogram": [
           {
            "marker": {
             "pattern": {
              "fillmode": "overlay",
              "size": 10,
              "solidity": 0.2
             }
            },
            "type": "histogram"
           }
          ],
          "histogram2d": [
           {
            "colorbar": {
             "outlinewidth": 0,
             "ticks": ""
            },
            "colorscale": [
             [
              0,
              "#0d0887"
             ],
             [
              0.1111111111111111,
              "#46039f"
             ],
             [
              0.2222222222222222,
              "#7201a8"
             ],
             [
              0.3333333333333333,
              "#9c179e"
             ],
             [
              0.4444444444444444,
              "#bd3786"
             ],
             [
              0.5555555555555556,
              "#d8576b"
             ],
             [
              0.6666666666666666,
              "#ed7953"
             ],
             [
              0.7777777777777778,
              "#fb9f3a"
             ],
             [
              0.8888888888888888,
              "#fdca26"
             ],
             [
              1,
              "#f0f921"
             ]
            ],
            "type": "histogram2d"
           }
          ],
          "histogram2dcontour": [
           {
            "colorbar": {
             "outlinewidth": 0,
             "ticks": ""
            },
            "colorscale": [
             [
              0,
              "#0d0887"
             ],
             [
              0.1111111111111111,
              "#46039f"
             ],
             [
              0.2222222222222222,
              "#7201a8"
             ],
             [
              0.3333333333333333,
              "#9c179e"
             ],
             [
              0.4444444444444444,
              "#bd3786"
             ],
             [
              0.5555555555555556,
              "#d8576b"
             ],
             [
              0.6666666666666666,
              "#ed7953"
             ],
             [
              0.7777777777777778,
              "#fb9f3a"
             ],
             [
              0.8888888888888888,
              "#fdca26"
             ],
             [
              1,
              "#f0f921"
             ]
            ],
            "type": "histogram2dcontour"
           }
          ],
          "mesh3d": [
           {
            "colorbar": {
             "outlinewidth": 0,
             "ticks": ""
            },
            "type": "mesh3d"
           }
          ],
          "parcoords": [
           {
            "line": {
             "colorbar": {
              "outlinewidth": 0,
              "ticks": ""
             }
            },
            "type": "parcoords"
           }
          ],
          "pie": [
           {
            "automargin": true,
            "type": "pie"
           }
          ],
          "scatter": [
           {
            "fillpattern": {
             "fillmode": "overlay",
             "size": 10,
             "solidity": 0.2
            },
            "type": "scatter"
           }
          ],
          "scatter3d": [
           {
            "line": {
             "colorbar": {
              "outlinewidth": 0,
              "ticks": ""
             }
            },
            "marker": {
             "colorbar": {
              "outlinewidth": 0,
              "ticks": ""
             }
            },
            "type": "scatter3d"
           }
          ],
          "scattercarpet": [
           {
            "marker": {
             "colorbar": {
              "outlinewidth": 0,
              "ticks": ""
             }
            },
            "type": "scattercarpet"
           }
          ],
          "scattergeo": [
           {
            "marker": {
             "colorbar": {
              "outlinewidth": 0,
              "ticks": ""
             }
            },
            "type": "scattergeo"
           }
          ],
          "scattergl": [
           {
            "marker": {
             "colorbar": {
              "outlinewidth": 0,
              "ticks": ""
             }
            },
            "type": "scattergl"
           }
          ],
          "scattermapbox": [
           {
            "marker": {
             "colorbar": {
              "outlinewidth": 0,
              "ticks": ""
             }
            },
            "type": "scattermapbox"
           }
          ],
          "scatterpolar": [
           {
            "marker": {
             "colorbar": {
              "outlinewidth": 0,
              "ticks": ""
             }
            },
            "type": "scatterpolar"
           }
          ],
          "scatterpolargl": [
           {
            "marker": {
             "colorbar": {
              "outlinewidth": 0,
              "ticks": ""
             }
            },
            "type": "scatterpolargl"
           }
          ],
          "scatterternary": [
           {
            "marker": {
             "colorbar": {
              "outlinewidth": 0,
              "ticks": ""
             }
            },
            "type": "scatterternary"
           }
          ],
          "surface": [
           {
            "colorbar": {
             "outlinewidth": 0,
             "ticks": ""
            },
            "colorscale": [
             [
              0,
              "#0d0887"
             ],
             [
              0.1111111111111111,
              "#46039f"
             ],
             [
              0.2222222222222222,
              "#7201a8"
             ],
             [
              0.3333333333333333,
              "#9c179e"
             ],
             [
              0.4444444444444444,
              "#bd3786"
             ],
             [
              0.5555555555555556,
              "#d8576b"
             ],
             [
              0.6666666666666666,
              "#ed7953"
             ],
             [
              0.7777777777777778,
              "#fb9f3a"
             ],
             [
              0.8888888888888888,
              "#fdca26"
             ],
             [
              1,
              "#f0f921"
             ]
            ],
            "type": "surface"
           }
          ],
          "table": [
           {
            "cells": {
             "fill": {
              "color": "#EBF0F8"
             },
             "line": {
              "color": "white"
             }
            },
            "header": {
             "fill": {
              "color": "#C8D4E3"
             },
             "line": {
              "color": "white"
             }
            },
            "type": "table"
           }
          ]
         },
         "layout": {
          "annotationdefaults": {
           "arrowcolor": "#2a3f5f",
           "arrowhead": 0,
           "arrowwidth": 1
          },
          "autotypenumbers": "strict",
          "coloraxis": {
           "colorbar": {
            "outlinewidth": 0,
            "ticks": ""
           }
          },
          "colorscale": {
           "diverging": [
            [
             0,
             "#8e0152"
            ],
            [
             0.1,
             "#c51b7d"
            ],
            [
             0.2,
             "#de77ae"
            ],
            [
             0.3,
             "#f1b6da"
            ],
            [
             0.4,
             "#fde0ef"
            ],
            [
             0.5,
             "#f7f7f7"
            ],
            [
             0.6,
             "#e6f5d0"
            ],
            [
             0.7,
             "#b8e186"
            ],
            [
             0.8,
             "#7fbc41"
            ],
            [
             0.9,
             "#4d9221"
            ],
            [
             1,
             "#276419"
            ]
           ],
           "sequential": [
            [
             0,
             "#0d0887"
            ],
            [
             0.1111111111111111,
             "#46039f"
            ],
            [
             0.2222222222222222,
             "#7201a8"
            ],
            [
             0.3333333333333333,
             "#9c179e"
            ],
            [
             0.4444444444444444,
             "#bd3786"
            ],
            [
             0.5555555555555556,
             "#d8576b"
            ],
            [
             0.6666666666666666,
             "#ed7953"
            ],
            [
             0.7777777777777778,
             "#fb9f3a"
            ],
            [
             0.8888888888888888,
             "#fdca26"
            ],
            [
             1,
             "#f0f921"
            ]
           ],
           "sequentialminus": [
            [
             0,
             "#0d0887"
            ],
            [
             0.1111111111111111,
             "#46039f"
            ],
            [
             0.2222222222222222,
             "#7201a8"
            ],
            [
             0.3333333333333333,
             "#9c179e"
            ],
            [
             0.4444444444444444,
             "#bd3786"
            ],
            [
             0.5555555555555556,
             "#d8576b"
            ],
            [
             0.6666666666666666,
             "#ed7953"
            ],
            [
             0.7777777777777778,
             "#fb9f3a"
            ],
            [
             0.8888888888888888,
             "#fdca26"
            ],
            [
             1,
             "#f0f921"
            ]
           ]
          },
          "colorway": [
           "#636efa",
           "#EF553B",
           "#00cc96",
           "#ab63fa",
           "#FFA15A",
           "#19d3f3",
           "#FF6692",
           "#B6E880",
           "#FF97FF",
           "#FECB52"
          ],
          "font": {
           "color": "#2a3f5f"
          },
          "geo": {
           "bgcolor": "white",
           "lakecolor": "white",
           "landcolor": "#E5ECF6",
           "showlakes": true,
           "showland": true,
           "subunitcolor": "white"
          },
          "hoverlabel": {
           "align": "left"
          },
          "hovermode": "closest",
          "mapbox": {
           "style": "light"
          },
          "paper_bgcolor": "white",
          "plot_bgcolor": "#E5ECF6",
          "polar": {
           "angularaxis": {
            "gridcolor": "white",
            "linecolor": "white",
            "ticks": ""
           },
           "bgcolor": "#E5ECF6",
           "radialaxis": {
            "gridcolor": "white",
            "linecolor": "white",
            "ticks": ""
           }
          },
          "scene": {
           "xaxis": {
            "backgroundcolor": "#E5ECF6",
            "gridcolor": "white",
            "gridwidth": 2,
            "linecolor": "white",
            "showbackground": true,
            "ticks": "",
            "zerolinecolor": "white"
           },
           "yaxis": {
            "backgroundcolor": "#E5ECF6",
            "gridcolor": "white",
            "gridwidth": 2,
            "linecolor": "white",
            "showbackground": true,
            "ticks": "",
            "zerolinecolor": "white"
           },
           "zaxis": {
            "backgroundcolor": "#E5ECF6",
            "gridcolor": "white",
            "gridwidth": 2,
            "linecolor": "white",
            "showbackground": true,
            "ticks": "",
            "zerolinecolor": "white"
           }
          },
          "shapedefaults": {
           "line": {
            "color": "#2a3f5f"
           }
          },
          "ternary": {
           "aaxis": {
            "gridcolor": "white",
            "linecolor": "white",
            "ticks": ""
           },
           "baxis": {
            "gridcolor": "white",
            "linecolor": "white",
            "ticks": ""
           },
           "bgcolor": "#E5ECF6",
           "caxis": {
            "gridcolor": "white",
            "linecolor": "white",
            "ticks": ""
           }
          },
          "title": {
           "x": 0.05
          },
          "xaxis": {
           "automargin": true,
           "gridcolor": "white",
           "linecolor": "white",
           "ticks": "",
           "title": {
            "standoff": 15
           },
           "zerolinecolor": "white",
           "zerolinewidth": 2
          },
          "yaxis": {
           "automargin": true,
           "gridcolor": "white",
           "linecolor": "white",
           "ticks": "",
           "title": {
            "standoff": 15
           },
           "zerolinecolor": "white",
           "zerolinewidth": 2
          }
         }
        },
        "title": {
         "text": "Gamma Exposure Profile, SPX (0DTE), 11 Oct 2024"
        },
        "xaxis": {
         "range": [
          4648.151953125001,
          6972.227929687499
         ],
         "title": {
          "text": "Index Price"
         }
        },
        "yaxis": {
         "title": {
          "text": "Gamma Exposure ($ billions/1% move)"
         }
        }
       }
      }
     },
     "metadata": {},
     "output_type": "display_data"
    },
    {
     "data": {
      "application/vnd.plotly.v1+json": {
       "config": {
        "plotlyServerURL": "https://plot.ly"
       },
       "data": [
        {
         "marker": {
          "color": "blue",
          "line": {
           "color": "black",
           "width": 1
          }
         },
         "name": "Gamma Exposure",
         "type": "bar",
         "x": [
          5525,
          5530,
          5540,
          5550,
          5560,
          5570,
          5575,
          5580,
          5585,
          5590,
          5595,
          5600,
          5605,
          5610,
          5615,
          5620,
          5625,
          5630,
          5635,
          5640,
          5645,
          5650,
          5655,
          5660,
          5665,
          5670,
          5675,
          5680,
          5685,
          5690,
          5695,
          5700,
          5705,
          5710,
          5715,
          5720,
          5725,
          5730,
          5735,
          5740,
          5745,
          5750,
          5755,
          5760,
          5765,
          5770,
          5775,
          5780,
          5785,
          5790,
          5795,
          5800,
          5805,
          5810,
          5815,
          5820,
          5825,
          5830,
          5835,
          5840,
          5845,
          5850,
          5855,
          5860,
          5865,
          5870,
          5875,
          5880,
          5885,
          5890,
          5895,
          5900,
          5905,
          5910,
          5915,
          5920,
          5925,
          5930,
          5935,
          5940,
          5945,
          5950,
          5955,
          5960,
          5970,
          5975,
          5980,
          5990,
          6000,
          6010,
          6020,
          6025,
          6030,
          6040,
          6050
         ],
         "y": [
          -0.027894489202356938,
          -0.0019073443542698375,
          -0.012807901734689849,
          -0.016534818844625952,
          -0.0056713956020766855,
          -0.004611384757402829,
          -0.008051356256519582,
          -0.004277177516566167,
          -0.008848052305382733,
          -0.009513090956340536,
          -0.004111761811505597,
          -0.017591453858584283,
          -0.002984234352521304,
          -0.0015191238219848266,
          -0.003203663349030223,
          -0.005445214944136721,
          -0.03443009746760722,
          -0.0029977376753833906,
          -0.023867123158739387,
          -0.007889316382174534,
          -0.006373568390905226,
          -0.017760245394360382,
          -0.011430562802756939,
          -0.007960208827200492,
          -0.008777159860356772,
          -0.01101195979403223,
          -0.012733633458948365,
          -0.011201006314101454,
          -0.006495098296664012,
          -0.02807340823027959,
          -0.01702431429837662,
          -0.015707740319323094,
          -0.011909930764361037,
          -0.014340528879536763,
          -0.018175472572369566,
          -0.02888360760200483,
          -0.03275906126342389,
          -0.025149938830637677,
          -0.02513305967706007,
          -0.030463496376869043,
          -0.02906590246064301,
          0.0030247443211075366,
          -0.027209195567105993,
          -0.013935429193674147,
          0.023445144319299154,
          0.004928712844661861,
          0.20644892740773788,
          0.21576959601329365,
          0.16817038292443579,
          0.5621196999336875,
          0.37355592365678425,
          2.6824924756758146,
          1.6782672335759568,
          3.249223560366905,
          2.946357531893149,
          3.5875628179993666,
          4.461717302630168,
          2.2592409480558335,
          0.772038981316982,
          0.6747880500642289,
          0.33517948008273213,
          0.3440849215102787,
          0.1715597169628197,
          0.10471826879548736,
          0.07999368463500545,
          0.09128921420914149,
          0.09406414705730043,
          0.04214724648329012,
          0.006076495287939306,
          0.03321817424073487,
          0.001276064010467254,
          0.03183070781665539,
          0.0012152990575878611,
          0.018340888277430134,
          0.00018904652006922288,
          0.004874699553213531,
          0.016757623671850398,
          0.008412570143080417,
          0.0015596337905710884,
          0.008594865001718596,
          0.0009080984624753738,
          0.01916459097201747,
          0.00006751661431043673,
          0.0037876820628155003,
          0.0028086911553141677,
          0.0040813793350659,
          0.0041050101500745536,
          0.0016609087120367436,
          0.010968073994730444,
          0.0025622555130810735,
          0.00008777159860356777,
          0.000290321441534878,
          0.0001215299057587861,
          0.0006751661431043673,
          0.0009317292774840268
         ]
        },
        {
         "marker": {
          "color": "green",
          "size": 10
         },
         "mode": "markers+text",
         "name": "Top Strike: 5825",
         "type": "scatter",
         "x": [
          5825
         ],
         "y": [
          4.461717302630168
         ]
        },
        {
         "marker": {
          "color": "green",
          "size": 10
         },
         "mode": "markers+text",
         "name": "Top Strike: 5820",
         "type": "scatter",
         "x": [
          5820
         ],
         "y": [
          3.5875628179993666
         ]
        },
        {
         "marker": {
          "color": "green",
          "size": 10
         },
         "mode": "markers+text",
         "name": "Top Strike: 5810",
         "type": "scatter",
         "x": [
          5810
         ],
         "y": [
          3.249223560366905
         ]
        },
        {
         "marker": {
          "color": "green",
          "size": 10
         },
         "mode": "markers+text",
         "name": "Top Strike: 5815",
         "type": "scatter",
         "x": [
          5815
         ],
         "y": [
          2.946357531893149
         ]
        },
        {
         "marker": {
          "color": "green",
          "size": 10
         },
         "mode": "markers+text",
         "name": "Top Strike: 5800",
         "type": "scatter",
         "x": [
          5800
         ],
         "y": [
          2.6824924756758146
         ]
        },
        {
         "marker": {
          "color": "green",
          "size": 10
         },
         "mode": "markers+text",
         "name": "Top Strike: 5830",
         "type": "scatter",
         "x": [
          5830
         ],
         "y": [
          2.2592409480558335
         ]
        },
        {
         "marker": {
          "color": "green",
          "size": 10
         },
         "mode": "markers+text",
         "name": "Top Strike: 5805",
         "type": "scatter",
         "x": [
          5805
         ],
         "y": [
          1.6782672335759568
         ]
        },
        {
         "marker": {
          "color": "green",
          "size": 10
         },
         "mode": "markers+text",
         "name": "Top Strike: 5835",
         "type": "scatter",
         "x": [
          5835
         ],
         "y": [
          0.772038981316982
         ]
        },
        {
         "marker": {
          "color": "green",
          "size": 10
         },
         "mode": "markers+text",
         "name": "Top Strike: 5840",
         "type": "scatter",
         "x": [
          5840
         ],
         "y": [
          0.6747880500642289
         ]
        },
        {
         "marker": {
          "color": "green",
          "size": 10
         },
         "mode": "markers+text",
         "name": "Top Strike: 5790",
         "type": "scatter",
         "x": [
          5790
         ],
         "y": [
          0.5621196999336875
         ]
        },
        {
         "marker": {
          "color": "blue",
          "size": 10
         },
         "mode": "markers+text",
         "name": "Low Strike: 5625",
         "type": "scatter",
         "x": [
          5625
         ],
         "y": [
          -0.03443009746760722
         ]
        },
        {
         "marker": {
          "color": "blue",
          "size": 10
         },
         "mode": "markers+text",
         "name": "Low Strike: 5725",
         "type": "scatter",
         "x": [
          5725
         ],
         "y": [
          -0.03275906126342389
         ]
        },
        {
         "marker": {
          "color": "blue",
          "size": 10
         },
         "mode": "markers+text",
         "name": "Low Strike: 5740",
         "type": "scatter",
         "x": [
          5740
         ],
         "y": [
          -0.030463496376869043
         ]
        },
        {
         "marker": {
          "color": "blue",
          "size": 10
         },
         "mode": "markers+text",
         "name": "Low Strike: 5745",
         "type": "scatter",
         "x": [
          5745
         ],
         "y": [
          -0.02906590246064301
         ]
        },
        {
         "marker": {
          "color": "blue",
          "size": 10
         },
         "mode": "markers+text",
         "name": "Low Strike: 5720",
         "type": "scatter",
         "x": [
          5720
         ],
         "y": [
          -0.02888360760200483
         ]
        },
        {
         "marker": {
          "color": "blue",
          "size": 10
         },
         "mode": "markers+text",
         "name": "Low Strike: 5690",
         "type": "scatter",
         "x": [
          5690
         ],
         "y": [
          -0.02807340823027959
         ]
        },
        {
         "marker": {
          "color": "blue",
          "size": 10
         },
         "mode": "markers+text",
         "name": "Low Strike: 5525",
         "type": "scatter",
         "x": [
          5525
         ],
         "y": [
          -0.027894489202356938
         ]
        },
        {
         "marker": {
          "color": "blue",
          "size": 10
         },
         "mode": "markers+text",
         "name": "Low Strike: 5755",
         "type": "scatter",
         "x": [
          5755
         ],
         "y": [
          -0.027209195567105993
         ]
        },
        {
         "marker": {
          "color": "blue",
          "size": 10
         },
         "mode": "markers+text",
         "name": "Low Strike: 5730",
         "type": "scatter",
         "x": [
          5730
         ],
         "y": [
          -0.025149938830637677
         ]
        },
        {
         "marker": {
          "color": "blue",
          "size": 10
         },
         "mode": "markers+text",
         "name": "Low Strike: 5735",
         "type": "scatter",
         "x": [
          5735
         ],
         "y": [
          -0.02513305967706007
         ]
        },
        {
         "line": {
          "color": "red",
          "width": 2
         },
         "mode": "lines",
         "name": "SPX Spot: 5810",
         "type": "scatter",
         "x": [
          5810.18994140625,
          5810.18994140625
         ],
         "y": [
          -0.03443009746760722,
          4.461717302630168
         ]
        }
       ],
       "layout": {
        "showlegend": true,
        "template": {
         "data": {
          "bar": [
           {
            "error_x": {
             "color": "#2a3f5f"
            },
            "error_y": {
             "color": "#2a3f5f"
            },
            "marker": {
             "line": {
              "color": "#E5ECF6",
              "width": 0.5
             },
             "pattern": {
              "fillmode": "overlay",
              "size": 10,
              "solidity": 0.2
             }
            },
            "type": "bar"
           }
          ],
          "barpolar": [
           {
            "marker": {
             "line": {
              "color": "#E5ECF6",
              "width": 0.5
             },
             "pattern": {
              "fillmode": "overlay",
              "size": 10,
              "solidity": 0.2
             }
            },
            "type": "barpolar"
           }
          ],
          "carpet": [
           {
            "aaxis": {
             "endlinecolor": "#2a3f5f",
             "gridcolor": "white",
             "linecolor": "white",
             "minorgridcolor": "white",
             "startlinecolor": "#2a3f5f"
            },
            "baxis": {
             "endlinecolor": "#2a3f5f",
             "gridcolor": "white",
             "linecolor": "white",
             "minorgridcolor": "white",
             "startlinecolor": "#2a3f5f"
            },
            "type": "carpet"
           }
          ],
          "choropleth": [
           {
            "colorbar": {
             "outlinewidth": 0,
             "ticks": ""
            },
            "type": "choropleth"
           }
          ],
          "contour": [
           {
            "colorbar": {
             "outlinewidth": 0,
             "ticks": ""
            },
            "colorscale": [
             [
              0,
              "#0d0887"
             ],
             [
              0.1111111111111111,
              "#46039f"
             ],
             [
              0.2222222222222222,
              "#7201a8"
             ],
             [
              0.3333333333333333,
              "#9c179e"
             ],
             [
              0.4444444444444444,
              "#bd3786"
             ],
             [
              0.5555555555555556,
              "#d8576b"
             ],
             [
              0.6666666666666666,
              "#ed7953"
             ],
             [
              0.7777777777777778,
              "#fb9f3a"
             ],
             [
              0.8888888888888888,
              "#fdca26"
             ],
             [
              1,
              "#f0f921"
             ]
            ],
            "type": "contour"
           }
          ],
          "contourcarpet": [
           {
            "colorbar": {
             "outlinewidth": 0,
             "ticks": ""
            },
            "type": "contourcarpet"
           }
          ],
          "heatmap": [
           {
            "colorbar": {
             "outlinewidth": 0,
             "ticks": ""
            },
            "colorscale": [
             [
              0,
              "#0d0887"
             ],
             [
              0.1111111111111111,
              "#46039f"
             ],
             [
              0.2222222222222222,
              "#7201a8"
             ],
             [
              0.3333333333333333,
              "#9c179e"
             ],
             [
              0.4444444444444444,
              "#bd3786"
             ],
             [
              0.5555555555555556,
              "#d8576b"
             ],
             [
              0.6666666666666666,
              "#ed7953"
             ],
             [
              0.7777777777777778,
              "#fb9f3a"
             ],
             [
              0.8888888888888888,
              "#fdca26"
             ],
             [
              1,
              "#f0f921"
             ]
            ],
            "type": "heatmap"
           }
          ],
          "heatmapgl": [
           {
            "colorbar": {
             "outlinewidth": 0,
             "ticks": ""
            },
            "colorscale": [
             [
              0,
              "#0d0887"
             ],
             [
              0.1111111111111111,
              "#46039f"
             ],
             [
              0.2222222222222222,
              "#7201a8"
             ],
             [
              0.3333333333333333,
              "#9c179e"
             ],
             [
              0.4444444444444444,
              "#bd3786"
             ],
             [
              0.5555555555555556,
              "#d8576b"
             ],
             [
              0.6666666666666666,
              "#ed7953"
             ],
             [
              0.7777777777777778,
              "#fb9f3a"
             ],
             [
              0.8888888888888888,
              "#fdca26"
             ],
             [
              1,
              "#f0f921"
             ]
            ],
            "type": "heatmapgl"
           }
          ],
          "histogram": [
           {
            "marker": {
             "pattern": {
              "fillmode": "overlay",
              "size": 10,
              "solidity": 0.2
             }
            },
            "type": "histogram"
           }
          ],
          "histogram2d": [
           {
            "colorbar": {
             "outlinewidth": 0,
             "ticks": ""
            },
            "colorscale": [
             [
              0,
              "#0d0887"
             ],
             [
              0.1111111111111111,
              "#46039f"
             ],
             [
              0.2222222222222222,
              "#7201a8"
             ],
             [
              0.3333333333333333,
              "#9c179e"
             ],
             [
              0.4444444444444444,
              "#bd3786"
             ],
             [
              0.5555555555555556,
              "#d8576b"
             ],
             [
              0.6666666666666666,
              "#ed7953"
             ],
             [
              0.7777777777777778,
              "#fb9f3a"
             ],
             [
              0.8888888888888888,
              "#fdca26"
             ],
             [
              1,
              "#f0f921"
             ]
            ],
            "type": "histogram2d"
           }
          ],
          "histogram2dcontour": [
           {
            "colorbar": {
             "outlinewidth": 0,
             "ticks": ""
            },
            "colorscale": [
             [
              0,
              "#0d0887"
             ],
             [
              0.1111111111111111,
              "#46039f"
             ],
             [
              0.2222222222222222,
              "#7201a8"
             ],
             [
              0.3333333333333333,
              "#9c179e"
             ],
             [
              0.4444444444444444,
              "#bd3786"
             ],
             [
              0.5555555555555556,
              "#d8576b"
             ],
             [
              0.6666666666666666,
              "#ed7953"
             ],
             [
              0.7777777777777778,
              "#fb9f3a"
             ],
             [
              0.8888888888888888,
              "#fdca26"
             ],
             [
              1,
              "#f0f921"
             ]
            ],
            "type": "histogram2dcontour"
           }
          ],
          "mesh3d": [
           {
            "colorbar": {
             "outlinewidth": 0,
             "ticks": ""
            },
            "type": "mesh3d"
           }
          ],
          "parcoords": [
           {
            "line": {
             "colorbar": {
              "outlinewidth": 0,
              "ticks": ""
             }
            },
            "type": "parcoords"
           }
          ],
          "pie": [
           {
            "automargin": true,
            "type": "pie"
           }
          ],
          "scatter": [
           {
            "fillpattern": {
             "fillmode": "overlay",
             "size": 10,
             "solidity": 0.2
            },
            "type": "scatter"
           }
          ],
          "scatter3d": [
           {
            "line": {
             "colorbar": {
              "outlinewidth": 0,
              "ticks": ""
             }
            },
            "marker": {
             "colorbar": {
              "outlinewidth": 0,
              "ticks": ""
             }
            },
            "type": "scatter3d"
           }
          ],
          "scattercarpet": [
           {
            "marker": {
             "colorbar": {
              "outlinewidth": 0,
              "ticks": ""
             }
            },
            "type": "scattercarpet"
           }
          ],
          "scattergeo": [
           {
            "marker": {
             "colorbar": {
              "outlinewidth": 0,
              "ticks": ""
             }
            },
            "type": "scattergeo"
           }
          ],
          "scattergl": [
           {
            "marker": {
             "colorbar": {
              "outlinewidth": 0,
              "ticks": ""
             }
            },
            "type": "scattergl"
           }
          ],
          "scattermapbox": [
           {
            "marker": {
             "colorbar": {
              "outlinewidth": 0,
              "ticks": ""
             }
            },
            "type": "scattermapbox"
           }
          ],
          "scatterpolar": [
           {
            "marker": {
             "colorbar": {
              "outlinewidth": 0,
              "ticks": ""
             }
            },
            "type": "scatterpolar"
           }
          ],
          "scatterpolargl": [
           {
            "marker": {
             "colorbar": {
              "outlinewidth": 0,
              "ticks": ""
             }
            },
            "type": "scatterpolargl"
           }
          ],
          "scatterternary": [
           {
            "marker": {
             "colorbar": {
              "outlinewidth": 0,
              "ticks": ""
             }
            },
            "type": "scatterternary"
           }
          ],
          "surface": [
           {
            "colorbar": {
             "outlinewidth": 0,
             "ticks": ""
            },
            "colorscale": [
             [
              0,
              "#0d0887"
             ],
             [
              0.1111111111111111,
              "#46039f"
             ],
             [
              0.2222222222222222,
              "#7201a8"
             ],
             [
              0.3333333333333333,
              "#9c179e"
             ],
             [
              0.4444444444444444,
              "#bd3786"
             ],
             [
              0.5555555555555556,
              "#d8576b"
             ],
             [
              0.6666666666666666,
              "#ed7953"
             ],
             [
              0.7777777777777778,
              "#fb9f3a"
             ],
             [
              0.8888888888888888,
              "#fdca26"
             ],
             [
              1,
              "#f0f921"
             ]
            ],
            "type": "surface"
           }
          ],
          "table": [
           {
            "cells": {
             "fill": {
              "color": "#EBF0F8"
             },
             "line": {
              "color": "white"
             }
            },
            "header": {
             "fill": {
              "color": "#C8D4E3"
             },
             "line": {
              "color": "white"
             }
            },
            "type": "table"
           }
          ]
         },
         "layout": {
          "annotationdefaults": {
           "arrowcolor": "#2a3f5f",
           "arrowhead": 0,
           "arrowwidth": 1
          },
          "autotypenumbers": "strict",
          "coloraxis": {
           "colorbar": {
            "outlinewidth": 0,
            "ticks": ""
           }
          },
          "colorscale": {
           "diverging": [
            [
             0,
             "#8e0152"
            ],
            [
             0.1,
             "#c51b7d"
            ],
            [
             0.2,
             "#de77ae"
            ],
            [
             0.3,
             "#f1b6da"
            ],
            [
             0.4,
             "#fde0ef"
            ],
            [
             0.5,
             "#f7f7f7"
            ],
            [
             0.6,
             "#e6f5d0"
            ],
            [
             0.7,
             "#b8e186"
            ],
            [
             0.8,
             "#7fbc41"
            ],
            [
             0.9,
             "#4d9221"
            ],
            [
             1,
             "#276419"
            ]
           ],
           "sequential": [
            [
             0,
             "#0d0887"
            ],
            [
             0.1111111111111111,
             "#46039f"
            ],
            [
             0.2222222222222222,
             "#7201a8"
            ],
            [
             0.3333333333333333,
             "#9c179e"
            ],
            [
             0.4444444444444444,
             "#bd3786"
            ],
            [
             0.5555555555555556,
             "#d8576b"
            ],
            [
             0.6666666666666666,
             "#ed7953"
            ],
            [
             0.7777777777777778,
             "#fb9f3a"
            ],
            [
             0.8888888888888888,
             "#fdca26"
            ],
            [
             1,
             "#f0f921"
            ]
           ],
           "sequentialminus": [
            [
             0,
             "#0d0887"
            ],
            [
             0.1111111111111111,
             "#46039f"
            ],
            [
             0.2222222222222222,
             "#7201a8"
            ],
            [
             0.3333333333333333,
             "#9c179e"
            ],
            [
             0.4444444444444444,
             "#bd3786"
            ],
            [
             0.5555555555555556,
             "#d8576b"
            ],
            [
             0.6666666666666666,
             "#ed7953"
            ],
            [
             0.7777777777777778,
             "#fb9f3a"
            ],
            [
             0.8888888888888888,
             "#fdca26"
            ],
            [
             1,
             "#f0f921"
            ]
           ]
          },
          "colorway": [
           "#636efa",
           "#EF553B",
           "#00cc96",
           "#ab63fa",
           "#FFA15A",
           "#19d3f3",
           "#FF6692",
           "#B6E880",
           "#FF97FF",
           "#FECB52"
          ],
          "font": {
           "color": "#2a3f5f"
          },
          "geo": {
           "bgcolor": "white",
           "lakecolor": "white",
           "landcolor": "#E5ECF6",
           "showlakes": true,
           "showland": true,
           "subunitcolor": "white"
          },
          "hoverlabel": {
           "align": "left"
          },
          "hovermode": "closest",
          "mapbox": {
           "style": "light"
          },
          "paper_bgcolor": "white",
          "plot_bgcolor": "#E5ECF6",
          "polar": {
           "angularaxis": {
            "gridcolor": "white",
            "linecolor": "white",
            "ticks": ""
           },
           "bgcolor": "#E5ECF6",
           "radialaxis": {
            "gridcolor": "white",
            "linecolor": "white",
            "ticks": ""
           }
          },
          "scene": {
           "xaxis": {
            "backgroundcolor": "#E5ECF6",
            "gridcolor": "white",
            "gridwidth": 2,
            "linecolor": "white",
            "showbackground": true,
            "ticks": "",
            "zerolinecolor": "white"
           },
           "yaxis": {
            "backgroundcolor": "#E5ECF6",
            "gridcolor": "white",
            "gridwidth": 2,
            "linecolor": "white",
            "showbackground": true,
            "ticks": "",
            "zerolinecolor": "white"
           },
           "zaxis": {
            "backgroundcolor": "#E5ECF6",
            "gridcolor": "white",
            "gridwidth": 2,
            "linecolor": "white",
            "showbackground": true,
            "ticks": "",
            "zerolinecolor": "white"
           }
          },
          "shapedefaults": {
           "line": {
            "color": "#2a3f5f"
           }
          },
          "ternary": {
           "aaxis": {
            "gridcolor": "white",
            "linecolor": "white",
            "ticks": ""
           },
           "baxis": {
            "gridcolor": "white",
            "linecolor": "white",
            "ticks": ""
           },
           "bgcolor": "#E5ECF6",
           "caxis": {
            "gridcolor": "white",
            "linecolor": "white",
            "ticks": ""
           }
          },
          "title": {
           "x": 0.05
          },
          "xaxis": {
           "automargin": true,
           "gridcolor": "white",
           "linecolor": "white",
           "ticks": "",
           "title": {
            "standoff": 15
           },
           "zerolinecolor": "white",
           "zerolinewidth": 2
          },
          "yaxis": {
           "automargin": true,
           "gridcolor": "white",
           "linecolor": "white",
           "ticks": "",
           "title": {
            "standoff": 15
           },
           "zerolinecolor": "white",
           "zerolinewidth": 2
          }
         }
        },
        "title": {
         "text": "Top 10 Highest and Lowest Gamma Exposure Levels (0DTE)"
        },
        "xaxis": {
         "range": [
          5460.18994140625,
          6160.18994140625
         ],
         "title": {
          "text": "Strike"
         }
        },
        "yaxis": {
         "title": {
          "text": "Spot Gamma Exposure ($ billions/1% move)"
         }
        }
       }
      }
     },
     "metadata": {},
     "output_type": "display_data"
    }
   ],
   "source": [
    "import plotly.graph_objects as go\n",
    "import pandas as pd\n",
    "import numpy as np\n",
    "import yfinance as yf\n",
    "from scipy.stats import norm  # Import norm from scipy.stats\n",
    "from datetime import datetime\n",
    "import os  # Add this line to import the os module\n",
    "\n",
    "# Load the CSV data into a dataframe (modify the filename/path accordingly)\n",
    "filename = 'copy_spx_quotedata.csv'\n",
    "\n",
    "# Reading the CSV file\n",
    "df = pd.read_csv(filename, sep=\",\", header=None, skiprows=4)\n",
    "\n",
    "# Assign the correct column names\n",
    "df.columns = ['ExpirationDate','Calls','CallLastSale','CallNet','CallBid','CallAsk','CallVol',\n",
    "              'CallIV','CallDelta','CallGamma','CallOpenInt','StrikePrice','Puts','PutLastSale',\n",
    "              'PutNet','PutBid','PutAsk','PutVol','PutIV','PutDelta','PutGamma','PutOpenInt']\n",
    "\n",
    "# Convert necessary columns to the correct data types\n",
    "df['ExpirationDate'] = pd.to_datetime(df['ExpirationDate'], format='%a %b %d %Y')\n",
    "df['StrikePrice'] = df['StrikePrice'].astype(float)\n",
    "df['CallGamma'] = df['CallGamma'].astype(float)\n",
    "df['PutGamma'] = df['PutGamma'].astype(float)\n",
    "df['CallOpenInt'] = df['CallOpenInt'].astype(float)\n",
    "df['PutOpenInt'] = df['PutOpenInt'].astype(float)\n",
    "\n",
    "# Create a new column \"Theo ES Price\" using the new logic and round to the nearest 0.25\n",
    "df['Theo ES Price'] = (df['StrikePrice'] *.0085) + df['StrikePrice'] ####You need to manually change the .0085 to get an accurate difference in ES and SPX\n",
    "df['Theo ES Price'] = (df['Theo ES Price'] / 0.25).round() * 0.25\n",
    "\n",
    "# Retrieve SPX spot price from yfinance\n",
    "ticker = yf.Ticker(\"^GSPC\")\n",
    "spotPrice = ticker.history(period=\"1d\")['Close'].iloc[-1]\n",
    "\n",
    "# Define the ±350 range from the SPX Spot Price\n",
    "minStrike = spotPrice - 350\n",
    "maxStrike = spotPrice + 350\n",
    "\n",
    "# Filter for options expiring today (0DTE)\n",
    "todayDate = datetime.now()\n",
    "df = df[df['ExpirationDate'].dt.date == todayDate.date()]\n",
    "\n",
    "# ---=== Calculate TotalGamma ===---\n",
    "df['CallGEX'] = df['CallGamma'] * df['CallOpenInt'] * 100 * spotPrice * spotPrice * 0.01\n",
    "df['PutGEX'] = df['PutGamma'] * df['PutOpenInt'] * 100 * spotPrice * spotPrice * 0.01 * -1\n",
    "df['TotalGamma'] = (df['CallGEX'] + df['PutGEX']) / 10**9\n",
    "\n",
    "# ---=== Group data by StrikePrice and aggregate TotalGamma ===---\n",
    "dfAgg = df.groupby(['StrikePrice']).agg({\n",
    "    'TotalGamma': 'sum'\n",
    "})\n",
    "\n",
    "# Filter out rows with zero TotalGamma and within the 350-point range from SPX Spot Price\n",
    "dfAgg_filtered = dfAgg[(dfAgg['TotalGamma'] != 0) & (dfAgg.index >= minStrike) & (dfAgg.index <= maxStrike)]\n",
    "strikes_nonzero = dfAgg_filtered.index.values\n",
    "\n",
    "# --- Derive Top 5 Highest and Lowest Strikes by Total Gamma ---\n",
    "top_5 = dfAgg.nlargest(5, 'TotalGamma').reset_index()  # Get top 5 positive gamma (calls)\n",
    "bottom_5 = dfAgg.nsmallest(5, 'TotalGamma').reset_index()  # Get bottom 5 negative gamma (puts)\n",
    "\n",
    "# Assign \"Call Gamma 1\" to \"Call Gamma 5\" for the top 5 rows\n",
    "top_5['GammaType'] = [f\"Call Gamma {i+1}\" for i in range(len(top_5))]\n",
    "\n",
    "# Assign \"Put Gamma 1\" to \"Put Gamma 5\" for the bottom 5 rows\n",
    "bottom_5['GammaType'] = [f\"Put Gamma {i+1}\" for i in range(len(bottom_5))]\n",
    "\n",
    "# Combine top 5 and bottom 5 into a single DataFrame\n",
    "top_bottom_5 = pd.concat([top_5, bottom_5])\n",
    "\n",
    "# ---=== Calculate Gamma Flip Point (for fig2) ===---\n",
    "fromStrike = 0.8 * spotPrice\n",
    "toStrike = 1.2 * spotPrice\n",
    "levels = np.linspace(fromStrike, toStrike, 60)\n",
    "\n",
    "totalGamma = []\n",
    "\n",
    "# Function to calculate gamma exposure for each level (used in fig2)\n",
    "def calcGammaEx(S, K, vol, T, r, q, optType, OI):\n",
    "    if vol == 0:\n",
    "        return 0\n",
    "    T = max(T, 1/365)  # Ensure T is not zero\n",
    "    dp = (np.log(S/K) + (r - q + 0.5*vol**2)*T) / (vol*np.sqrt(T))\n",
    "    gamma = np.exp(-q*T) * norm.pdf(dp) / (S * vol * np.sqrt(T))\n",
    "    return OI * 100 * S * S * 0.01 * gamma \n",
    "\n",
    "# Calculate Gamma Exposure for different index levels (used in fig2)\n",
    "for level in levels:\n",
    "    df['callGammaEx'] = df.apply(lambda row: calcGammaEx(level, row['StrikePrice'], row['CallIV'], \n",
    "                                                         0, 0, 0, \"call\", row['CallOpenInt']), axis=1)\n",
    "\n",
    "    df['putGammaEx'] = df.apply(lambda row: calcGammaEx(level, row['StrikePrice'], row['PutIV'], \n",
    "                                                        0, 0, 0, \"put\", row['PutOpenInt']), axis=1)\n",
    "\n",
    "    totalGamma.append(df['callGammaEx'].sum() - df['putGammaEx'].sum())\n",
    "\n",
    "totalGamma = np.array(totalGamma) / 10**9\n",
    "\n",
    "# Find Gamma Flip Point (zero gamma) for fig2\n",
    "zeroCrossIdx = np.where(np.diff(np.sign(totalGamma)))[0]\n",
    "\n",
    "if zeroCrossIdx.size > 0:\n",
    "    negGamma = totalGamma[zeroCrossIdx]\n",
    "    posGamma = totalGamma[zeroCrossIdx + 1]\n",
    "    negStrike = levels[zeroCrossIdx]\n",
    "    posStrike = levels[zeroCrossIdx + 1]\n",
    "    zeroGamma = posStrike - ((posStrike - negStrike) * posGamma / (posGamma - negGamma))\n",
    "    zeroGamma = zeroGamma[0]\n",
    "else:\n",
    "    zeroGamma = None\n",
    "    print(\"Warning: No Gamma Flip Point found.\")\n",
    "\n",
    "# Select the relevant columns for the final CSV, including the new \"Theo ES Price\" column\n",
    "final_df = top_bottom_5[['StrikePrice', 'TotalGamma', 'GammaType']]\n",
    "\n",
    "# Now merge the 'Theo ES Price' column from the original DataFrame (df)\n",
    "final_df = pd.merge(final_df, df[['StrikePrice', 'Theo ES Price']], on='StrikePrice', how='left')\n",
    "\n",
    "# --- Add the \"Gamma Flip\" column ---\n",
    "# Insert the Gamma Flip value in all rows\n",
    "if zeroGamma is not None:\n",
    "    final_df['Gamma Flip'] = zeroGamma\n",
    "else:\n",
    "    final_df['Gamma Flip'] = np.nan\n",
    "\n",
    "# Define the output CSV filename with a full directory path\n",
    "output_directory = r'C:\\Users\\Chris\\OneDrive\\Documents\\NinjaTrader 8\\bin\\Custom'  # Modify this path to your desired directory\n",
    "if not os.path.exists(output_directory):\n",
    "    os.makedirs(output_directory)  # Create the directory if it doesn't exist\n",
    "\n",
    "# Combine the directory and the filename\n",
    "csv_filename = os.path.join(output_directory, 'top_bottom_gamma_exposure.csv')\n",
    "\n",
    "# Save the final DataFrame to a CSV file\n",
    "final_df.to_csv(csv_filename, index=False)\n",
    "print(f\"Top 5 and Bottom 5 Gamma Exposure data with Theo ES Price and Gamma Flip saved to {csv_filename}\")\n",
    "\n",
    "\n",
    "# ---=== First Figure: Absolute Gamma Exposure (Filtered and Range-Restricted) ===---\n",
    "fig1 = go.Figure()\n",
    "\n",
    "# Add bar trace for Gamma Exposure (filtered and restricted to the range)\n",
    "fig1.add_trace(go.Bar(\n",
    "    x=strikes_nonzero,\n",
    "    y=dfAgg_filtered['TotalGamma'].to_numpy(),\n",
    "    marker=dict(color='blue', line=dict(color='black', width=1)),\n",
    "    name='Gamma Exposure',\n",
    "))\n",
    "\n",
    "# Add a vertical line for the SPX spot price\n",
    "fig1.add_trace(go.Scatter(\n",
    "    x=[spotPrice, spotPrice],\n",
    "    y=[min(dfAgg_filtered['TotalGamma'].to_numpy()), max(dfAgg_filtered['TotalGamma'].to_numpy())],\n",
    "    mode=\"lines\",\n",
    "    line=dict(color=\"red\", width=2),\n",
    "    name=f\"SPX Spot: {spotPrice:.0f}\"\n",
    "))\n",
    "\n",
    "# Update layout for the first plot (set x-axis range between minStrike and maxStrike)\n",
    "fig1.update_layout(\n",
    "    title=f\"Total Gamma: ${df['TotalGamma'].sum():.2f} Bn per 1% SPX Move (0DTE)\",\n",
    "    xaxis_title='Strike',\n",
    "    yaxis_title='Spot Gamma Exposure ($ billions/1% move)',\n",
    "    xaxis=dict(range=[minStrike, maxStrike]),  # Limit x-axis range\n",
    "    showlegend=True\n",
    ")\n",
    "\n",
    "# ---=== Second Figure: Gamma Exposure Profile (0DTE with Full Range) ===---\n",
    "\n",
    "# Define levels (price range for the x-axis)\n",
    "fromStrike = 0.8 * spotPrice\n",
    "toStrike = 1.2 * spotPrice\n",
    "levels = np.linspace(fromStrike, toStrike, 60)\n",
    "\n",
    "totalGamma = []\n",
    "\n",
    "# Function to calculate gamma exposure for each level\n",
    "def calcGammaEx(S, K, vol, T, r, q, optType, OI):\n",
    "    if vol == 0:\n",
    "        return 0\n",
    "    T = max(T, 1/365)  # Ensure T is not zero\n",
    "    dp = (np.log(S/K) + (r - q + 0.5*vol**2)*T) / (vol*np.sqrt(T))\n",
    "    gamma = np.exp(-q*T) * norm.pdf(dp) / (S * vol * np.sqrt(T))\n",
    "    return OI * 100 * S * S * 0.01 * gamma \n",
    "\n",
    "# Calculate Gamma Exposure for different index levels\n",
    "for level in levels:\n",
    "    df['callGammaEx'] = df.apply(lambda row: calcGammaEx(level, row['StrikePrice'], row['CallIV'], \n",
    "                                                         0, 0, 0, \"call\", row['CallOpenInt']), axis=1)\n",
    "\n",
    "    df['putGammaEx'] = df.apply(lambda row: calcGammaEx(level, row['StrikePrice'], row['PutIV'], \n",
    "                                                        0, 0, 0, \"put\", row['PutOpenInt']), axis=1)\n",
    "\n",
    "    totalGamma.append(df['callGammaEx'].sum() - df['putGammaEx'].sum())\n",
    "\n",
    "totalGamma = np.array(totalGamma) / 10**9\n",
    "\n",
    "# Find Gamma Flip Point (the point where totalGamma crosses zero)\n",
    "zeroCrossIdx = np.where(np.diff(np.sign(totalGamma)))[0]\n",
    "\n",
    "# Check if there's any zero-crossing index\n",
    "if zeroCrossIdx.size > 0:\n",
    "    negGamma = totalGamma[zeroCrossIdx]\n",
    "    posGamma = totalGamma[zeroCrossIdx + 1]\n",
    "    negStrike = levels[zeroCrossIdx]\n",
    "    posStrike = levels[zeroCrossIdx + 1]\n",
    "\n",
    "    zeroGamma = posStrike - ((posStrike - negStrike) * posGamma / (posGamma - negGamma))\n",
    "    zeroGamma = zeroGamma[0]\n",
    "else:\n",
    "    # Handle the case where no zero-crossing is found\n",
    "    zeroGamma = None\n",
    "    print(\"Warning: No Gamma Flip Point found. Skipping the Gamma Flip line in the chart.\")\n",
    "\n",
    "# --- Create the Gamma Exposure Profile Plot (Full Range) ---\n",
    "fig2 = go.Figure()\n",
    "\n",
    "# Add line trace for Gamma Exposure Profile\n",
    "fig2.add_trace(go.Scatter(\n",
    "    x=levels,\n",
    "    y=totalGamma,\n",
    "    mode='lines',\n",
    "    line=dict(color='blue'),\n",
    "    name='0DTE Gamma Exposure'\n",
    "))\n",
    "\n",
    "# Add vertical line for the SPX spot price\n",
    "fig2.add_trace(go.Scatter(\n",
    "    x=[spotPrice, spotPrice],\n",
    "    y=[min(totalGamma), max(totalGamma)],\n",
    "    mode=\"lines\",\n",
    "    line=dict(color=\"red\", width=2),\n",
    "    name=f\"SPX Spot: {spotPrice:.0f}\"\n",
    "))\n",
    "\n",
    "# Add vertical line for Gamma Flip point if found\n",
    "if zeroGamma is not None:\n",
    "    fig2.add_trace(go.Scatter(\n",
    "        x=[zeroGamma, zeroGamma],\n",
    "        y=[min(totalGamma), max(totalGamma)],\n",
    "        mode=\"lines\",\n",
    "        line=dict(color=\"black\", width=2),\n",
    "        name=f\"Gamma Flip: {zeroGamma:.0f}\"\n",
    "    ))\n",
    "\n",
    "# Fill areas with positive and negative gamma exposure\n",
    "fig2.add_shape(\n",
    "    type=\"rect\",\n",
    "    x0=fromStrike, y0=min(totalGamma),\n",
    "    x1=zeroGamma if zeroGamma is not None else spotPrice,\n",
    "    y1=max(totalGamma),\n",
    "    fillcolor=\"red\",\n",
    "    opacity=0.1,\n",
    "    line_width=0,\n",
    ")\n",
    "\n",
    "fig2.add_shape(\n",
    "    type=\"rect\",\n",
    "    x0=zeroGamma if zeroGamma is not None else spotPrice,\n",
    "    y0=min(totalGamma),\n",
    "    x1=toStrike, y1=max(totalGamma),\n",
    "    fillcolor=\"green\",\n",
    "    opacity=0.1,\n",
    "    line_width=0,\n",
    ")\n",
    "\n",
    "# Update layout for the second plot (with full range)\n",
    "fig2.update_layout(\n",
    "    title=f\"Gamma Exposure Profile, SPX (0DTE), {todayDate.strftime('%d %b %Y')}\",\n",
    "    xaxis_title='Index Price',\n",
    "    yaxis_title='Gamma Exposure ($ billions/1% move)',\n",
    "    xaxis=dict(range=[fromStrike, toStrike]),  # Full range (no restriction to ±350)\n",
    "    showlegend=True\n",
    ")\n",
    "\n",
    "# ---=== Third Figure: Top 10 Highest and Lowest Gamma Exposure Levels (0DTE) ===---\n",
    "\n",
    "# Sort and select top 10 highest and lowest gamma exposures along with strike prices\n",
    "top_10 = dfAgg.nlargest(10, 'TotalGamma').reset_index()  # Reset index to keep the 'StrikePrice' column\n",
    "bottom_10 = dfAgg.nsmallest(10, 'TotalGamma').reset_index()  # Reset index to keep the 'StrikePrice' column\n",
    "\n",
    "# Combine top 10 and bottom 10 into a single DataFrame\n",
    "combined_gamma = pd.concat([top_10, bottom_10])\n",
    "\n",
    "# Filter the combined data to only include strikes within ±350 of SPX Spot Price\n",
    "combined_gamma_filtered = combined_gamma[(combined_gamma['StrikePrice'] >= minStrike) & (combined_gamma['StrikePrice'] <= maxStrike)]\n",
    "\n",
    "# --- Save Top 10 and Lowest 10 to a CSV File ---\n",
    "csv_filename = 'top_bottom_gamma_exposure.csv'\n",
    "combined_gamma_filtered.to_csv(csv_filename, index=False)\n",
    "print(f\"Top 10 and Lowest 10 Strike levels saved to {csv_filename}\")\n",
    "\n",
    "# --- Create the Top 10 Gamma Exposure Levels Plot ---\n",
    "fig3 = go.Figure()\n",
    "\n",
    "# Add bar trace for all strikes within the range\n",
    "fig3.add_trace(go.Bar(\n",
    "    x=dfAgg_filtered.index,\n",
    "    y=dfAgg_filtered['TotalGamma'],\n",
    "    marker=dict(color='blue', line=dict(color='black', width=1)),\n",
    "    name='Gamma Exposure',\n",
    "))\n",
    "\n",
    "# Highlight top 10 highest gamma exposures within the range\n",
    "for i, row in top_10.iterrows():\n",
    "    if minStrike <= row['StrikePrice'] <= maxStrike:\n",
    "        fig3.add_trace(go.Scatter(\n",
    "            x=[row['StrikePrice']], y=[row['TotalGamma']],\n",
    "            mode='markers+text',\n",
    "            marker=dict(color='green', size=10),\n",
    "            name=f\"Top Strike: {row['StrikePrice']:.0f}\"\n",
    "        ))\n",
    "\n",
    "# Highlight top 10 lowest gamma exposures within the range\n",
    "for i, row in bottom_10.iterrows():\n",
    "    if minStrike <= row['StrikePrice'] <= maxStrike:\n",
    "        fig3.add_trace(go.Scatter(\n",
    "            x=[row['StrikePrice']], y=[row['TotalGamma']],\n",
    "            mode='markers+text',\n",
    "            marker=dict(color='blue', size=10),\n",
    "            name=f\"Low Strike: {row['StrikePrice']:.0f}\"\n",
    "        ))\n",
    "\n",
    "# Add a vertical line for the SPX spot price\n",
    "fig3.add_trace(go.Scatter(\n",
    "    x=[spotPrice, spotPrice],\n",
    "    y=[min(dfAgg_filtered['TotalGamma']), max(dfAgg_filtered['TotalGamma'])],\n",
    "    mode=\"lines\",\n",
    "    line=dict(color=\"red\", width=2),\n",
    "    name=f\"SPX Spot: {spotPrice:.0f}\"\n",
    "))\n",
    "\n",
    "# Update layout for the third plot (set x-axis range between minStrike and maxStrike)\n",
    "fig3.update_layout(\n",
    "    title=f\"Top 10 Highest and Lowest Gamma Exposure Levels (0DTE)\",\n",
    "    xaxis_title='Strike',\n",
    "    yaxis_title='Spot Gamma Exposure ($ billions/1% move)',\n",
    "    xaxis=dict(range=[minStrike, maxStrike]),\n",
    "    showlegend=True\n",
    ")\n",
    "\n",
    "# Show all three figures\n",
    "fig1.show()\n",
    "fig2.show()\n",
    "fig3.show()"
   ]
  },
  {
   "cell_type": "code",
   "execution_count": null,
   "metadata": {},
   "outputs": [],
   "source": []
  }
 ],
 "metadata": {
  "kernelspec": {
   "display_name": "Python 3",
   "language": "python",
   "name": "python3"
  },
  "language_info": {
   "codemirror_mode": {
    "name": "ipython",
    "version": 3
   },
   "file_extension": ".py",
   "mimetype": "text/x-python",
   "name": "python",
   "nbconvert_exporter": "python",
   "pygments_lexer": "ipython3",
   "version": "3.12.5"
  }
 },
 "nbformat": 4,
 "nbformat_minor": 4
}
