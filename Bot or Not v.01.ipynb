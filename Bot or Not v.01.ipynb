{
 "cells": [
  {
   "cell_type": "code",
   "execution_count": 1,
   "metadata": {},
   "outputs": [
    {
     "data": {
      "application/vnd.plotly.v1+json": {
       "config": {
        "plotlyServerURL": "https://plot.ly"
       },
       "data": [
        {
         "marker": {
          "color": "blue"
         },
         "name": "Bot Call",
         "offsetgroup": "0",
         "type": "bar",
         "x": [
          "2024-10-10T00:00:00"
         ],
         "y": [
          10403750
         ]
        },
        {
         "marker": {
          "color": "lightcoral"
         },
         "name": "Sold Call",
         "offsetgroup": "1",
         "type": "bar",
         "x": [
          "2024-10-10T00:00:00"
         ],
         "y": [
          12907230
         ]
        },
        {
         "marker": {
          "color": "red"
         },
         "name": "Bot Put",
         "offsetgroup": "2",
         "type": "bar",
         "x": [
          "2024-10-10T00:00:00"
         ],
         "y": [
          5199735
         ]
        },
        {
         "marker": {
          "color": "lightblue"
         },
         "name": "Sold Put",
         "offsetgroup": "3",
         "type": "bar",
         "x": [
          "2024-10-10T00:00:00"
         ],
         "y": [
          5671835
         ]
        }
       ],
       "layout": {
        "annotations": [
         {
          "align": "left",
          "bgcolor": "black",
          "bordercolor": "white",
          "borderwidth": 1,
          "opacity": 0.8,
          "showarrow": false,
          "text": "Mid Calls (of total): 28.78%<br>Mid Puts (of total): 13.77%<br>Mid Calls (of Call): 73.90%<br>Mid Puts (of Put): 74.39%",
          "x": 0.5,
          "xref": "paper",
          "y": 1.25,
          "yref": "paper"
         }
        ],
        "barmode": "group",
        "template": {
         "data": {
          "bar": [
           {
            "error_x": {
             "color": "#f2f5fa"
            },
            "error_y": {
             "color": "#f2f5fa"
            },
            "marker": {
             "line": {
              "color": "rgb(17,17,17)",
              "width": 0.5
             },
             "pattern": {
              "fillmode": "overlay",
              "size": 10,
              "solidity": 0.2
             }
            },
            "type": "bar"
           }
          ],
          "barpolar": [
           {
            "marker": {
             "line": {
              "color": "rgb(17,17,17)",
              "width": 0.5
             },
             "pattern": {
              "fillmode": "overlay",
              "size": 10,
              "solidity": 0.2
             }
            },
            "type": "barpolar"
           }
          ],
          "carpet": [
           {
            "aaxis": {
             "endlinecolor": "#A2B1C6",
             "gridcolor": "#506784",
             "linecolor": "#506784",
             "minorgridcolor": "#506784",
             "startlinecolor": "#A2B1C6"
            },
            "baxis": {
             "endlinecolor": "#A2B1C6",
             "gridcolor": "#506784",
             "linecolor": "#506784",
             "minorgridcolor": "#506784",
             "startlinecolor": "#A2B1C6"
            },
            "type": "carpet"
           }
          ],
          "choropleth": [
           {
            "colorbar": {
             "outlinewidth": 0,
             "ticks": ""
            },
            "type": "choropleth"
           }
          ],
          "contour": [
           {
            "colorbar": {
             "outlinewidth": 0,
             "ticks": ""
            },
            "colorscale": [
             [
              0,
              "#0d0887"
             ],
             [
              0.1111111111111111,
              "#46039f"
             ],
             [
              0.2222222222222222,
              "#7201a8"
             ],
             [
              0.3333333333333333,
              "#9c179e"
             ],
             [
              0.4444444444444444,
              "#bd3786"
             ],
             [
              0.5555555555555556,
              "#d8576b"
             ],
             [
              0.6666666666666666,
              "#ed7953"
             ],
             [
              0.7777777777777778,
              "#fb9f3a"
             ],
             [
              0.8888888888888888,
              "#fdca26"
             ],
             [
              1,
              "#f0f921"
             ]
            ],
            "type": "contour"
           }
          ],
          "contourcarpet": [
           {
            "colorbar": {
             "outlinewidth": 0,
             "ticks": ""
            },
            "type": "contourcarpet"
           }
          ],
          "heatmap": [
           {
            "colorbar": {
             "outlinewidth": 0,
             "ticks": ""
            },
            "colorscale": [
             [
              0,
              "#0d0887"
             ],
             [
              0.1111111111111111,
              "#46039f"
             ],
             [
              0.2222222222222222,
              "#7201a8"
             ],
             [
              0.3333333333333333,
              "#9c179e"
             ],
             [
              0.4444444444444444,
              "#bd3786"
             ],
             [
              0.5555555555555556,
              "#d8576b"
             ],
             [
              0.6666666666666666,
              "#ed7953"
             ],
             [
              0.7777777777777778,
              "#fb9f3a"
             ],
             [
              0.8888888888888888,
              "#fdca26"
             ],
             [
              1,
              "#f0f921"
             ]
            ],
            "type": "heatmap"
           }
          ],
          "heatmapgl": [
           {
            "colorbar": {
             "outlinewidth": 0,
             "ticks": ""
            },
            "colorscale": [
             [
              0,
              "#0d0887"
             ],
             [
              0.1111111111111111,
              "#46039f"
             ],
             [
              0.2222222222222222,
              "#7201a8"
             ],
             [
              0.3333333333333333,
              "#9c179e"
             ],
             [
              0.4444444444444444,
              "#bd3786"
             ],
             [
              0.5555555555555556,
              "#d8576b"
             ],
             [
              0.6666666666666666,
              "#ed7953"
             ],
             [
              0.7777777777777778,
              "#fb9f3a"
             ],
             [
              0.8888888888888888,
              "#fdca26"
             ],
             [
              1,
              "#f0f921"
             ]
            ],
            "type": "heatmapgl"
           }
          ],
          "histogram": [
           {
            "marker": {
             "pattern": {
              "fillmode": "overlay",
              "size": 10,
              "solidity": 0.2
             }
            },
            "type": "histogram"
           }
          ],
          "histogram2d": [
           {
            "colorbar": {
             "outlinewidth": 0,
             "ticks": ""
            },
            "colorscale": [
             [
              0,
              "#0d0887"
             ],
             [
              0.1111111111111111,
              "#46039f"
             ],
             [
              0.2222222222222222,
              "#7201a8"
             ],
             [
              0.3333333333333333,
              "#9c179e"
             ],
             [
              0.4444444444444444,
              "#bd3786"
             ],
             [
              0.5555555555555556,
              "#d8576b"
             ],
             [
              0.6666666666666666,
              "#ed7953"
             ],
             [
              0.7777777777777778,
              "#fb9f3a"
             ],
             [
              0.8888888888888888,
              "#fdca26"
             ],
             [
              1,
              "#f0f921"
             ]
            ],
            "type": "histogram2d"
           }
          ],
          "histogram2dcontour": [
           {
            "colorbar": {
             "outlinewidth": 0,
             "ticks": ""
            },
            "colorscale": [
             [
              0,
              "#0d0887"
             ],
             [
              0.1111111111111111,
              "#46039f"
             ],
             [
              0.2222222222222222,
              "#7201a8"
             ],
             [
              0.3333333333333333,
              "#9c179e"
             ],
             [
              0.4444444444444444,
              "#bd3786"
             ],
             [
              0.5555555555555556,
              "#d8576b"
             ],
             [
              0.6666666666666666,
              "#ed7953"
             ],
             [
              0.7777777777777778,
              "#fb9f3a"
             ],
             [
              0.8888888888888888,
              "#fdca26"
             ],
             [
              1,
              "#f0f921"
             ]
            ],
            "type": "histogram2dcontour"
           }
          ],
          "mesh3d": [
           {
            "colorbar": {
             "outlinewidth": 0,
             "ticks": ""
            },
            "type": "mesh3d"
           }
          ],
          "parcoords": [
           {
            "line": {
             "colorbar": {
              "outlinewidth": 0,
              "ticks": ""
             }
            },
            "type": "parcoords"
           }
          ],
          "pie": [
           {
            "automargin": true,
            "type": "pie"
           }
          ],
          "scatter": [
           {
            "marker": {
             "line": {
              "color": "#283442"
             }
            },
            "type": "scatter"
           }
          ],
          "scatter3d": [
           {
            "line": {
             "colorbar": {
              "outlinewidth": 0,
              "ticks": ""
             }
            },
            "marker": {
             "colorbar": {
              "outlinewidth": 0,
              "ticks": ""
             }
            },
            "type": "scatter3d"
           }
          ],
          "scattercarpet": [
           {
            "marker": {
             "colorbar": {
              "outlinewidth": 0,
              "ticks": ""
             }
            },
            "type": "scattercarpet"
           }
          ],
          "scattergeo": [
           {
            "marker": {
             "colorbar": {
              "outlinewidth": 0,
              "ticks": ""
             }
            },
            "type": "scattergeo"
           }
          ],
          "scattergl": [
           {
            "marker": {
             "line": {
              "color": "#283442"
             }
            },
            "type": "scattergl"
           }
          ],
          "scattermapbox": [
           {
            "marker": {
             "colorbar": {
              "outlinewidth": 0,
              "ticks": ""
             }
            },
            "type": "scattermapbox"
           }
          ],
          "scatterpolar": [
           {
            "marker": {
             "colorbar": {
              "outlinewidth": 0,
              "ticks": ""
             }
            },
            "type": "scatterpolar"
           }
          ],
          "scatterpolargl": [
           {
            "marker": {
             "colorbar": {
              "outlinewidth": 0,
              "ticks": ""
             }
            },
            "type": "scatterpolargl"
           }
          ],
          "scatterternary": [
           {
            "marker": {
             "colorbar": {
              "outlinewidth": 0,
              "ticks": ""
             }
            },
            "type": "scatterternary"
           }
          ],
          "surface": [
           {
            "colorbar": {
             "outlinewidth": 0,
             "ticks": ""
            },
            "colorscale": [
             [
              0,
              "#0d0887"
             ],
             [
              0.1111111111111111,
              "#46039f"
             ],
             [
              0.2222222222222222,
              "#7201a8"
             ],
             [
              0.3333333333333333,
              "#9c179e"
             ],
             [
              0.4444444444444444,
              "#bd3786"
             ],
             [
              0.5555555555555556,
              "#d8576b"
             ],
             [
              0.6666666666666666,
              "#ed7953"
             ],
             [
              0.7777777777777778,
              "#fb9f3a"
             ],
             [
              0.8888888888888888,
              "#fdca26"
             ],
             [
              1,
              "#f0f921"
             ]
            ],
            "type": "surface"
           }
          ],
          "table": [
           {
            "cells": {
             "fill": {
              "color": "#506784"
             },
             "line": {
              "color": "rgb(17,17,17)"
             }
            },
            "header": {
             "fill": {
              "color": "#2a3f5f"
             },
             "line": {
              "color": "rgb(17,17,17)"
             }
            },
            "type": "table"
           }
          ]
         },
         "layout": {
          "annotationdefaults": {
           "arrowcolor": "#f2f5fa",
           "arrowhead": 0,
           "arrowwidth": 1
          },
          "autotypenumbers": "strict",
          "coloraxis": {
           "colorbar": {
            "outlinewidth": 0,
            "ticks": ""
           }
          },
          "colorscale": {
           "diverging": [
            [
             0,
             "#8e0152"
            ],
            [
             0.1,
             "#c51b7d"
            ],
            [
             0.2,
             "#de77ae"
            ],
            [
             0.3,
             "#f1b6da"
            ],
            [
             0.4,
             "#fde0ef"
            ],
            [
             0.5,
             "#f7f7f7"
            ],
            [
             0.6,
             "#e6f5d0"
            ],
            [
             0.7,
             "#b8e186"
            ],
            [
             0.8,
             "#7fbc41"
            ],
            [
             0.9,
             "#4d9221"
            ],
            [
             1,
             "#276419"
            ]
           ],
           "sequential": [
            [
             0,
             "#0d0887"
            ],
            [
             0.1111111111111111,
             "#46039f"
            ],
            [
             0.2222222222222222,
             "#7201a8"
            ],
            [
             0.3333333333333333,
             "#9c179e"
            ],
            [
             0.4444444444444444,
             "#bd3786"
            ],
            [
             0.5555555555555556,
             "#d8576b"
            ],
            [
             0.6666666666666666,
             "#ed7953"
            ],
            [
             0.7777777777777778,
             "#fb9f3a"
            ],
            [
             0.8888888888888888,
             "#fdca26"
            ],
            [
             1,
             "#f0f921"
            ]
           ],
           "sequentialminus": [
            [
             0,
             "#0d0887"
            ],
            [
             0.1111111111111111,
             "#46039f"
            ],
            [
             0.2222222222222222,
             "#7201a8"
            ],
            [
             0.3333333333333333,
             "#9c179e"
            ],
            [
             0.4444444444444444,
             "#bd3786"
            ],
            [
             0.5555555555555556,
             "#d8576b"
            ],
            [
             0.6666666666666666,
             "#ed7953"
            ],
            [
             0.7777777777777778,
             "#fb9f3a"
            ],
            [
             0.8888888888888888,
             "#fdca26"
            ],
            [
             1,
             "#f0f921"
            ]
           ]
          },
          "colorway": [
           "#636efa",
           "#EF553B",
           "#00cc96",
           "#ab63fa",
           "#FFA15A",
           "#19d3f3",
           "#FF6692",
           "#B6E880",
           "#FF97FF",
           "#FECB52"
          ],
          "font": {
           "color": "#f2f5fa"
          },
          "geo": {
           "bgcolor": "rgb(17,17,17)",
           "lakecolor": "rgb(17,17,17)",
           "landcolor": "rgb(17,17,17)",
           "showlakes": true,
           "showland": true,
           "subunitcolor": "#506784"
          },
          "hoverlabel": {
           "align": "left"
          },
          "hovermode": "closest",
          "mapbox": {
           "style": "dark"
          },
          "paper_bgcolor": "rgb(17,17,17)",
          "plot_bgcolor": "rgb(17,17,17)",
          "polar": {
           "angularaxis": {
            "gridcolor": "#506784",
            "linecolor": "#506784",
            "ticks": ""
           },
           "bgcolor": "rgb(17,17,17)",
           "radialaxis": {
            "gridcolor": "#506784",
            "linecolor": "#506784",
            "ticks": ""
           }
          },
          "scene": {
           "xaxis": {
            "backgroundcolor": "rgb(17,17,17)",
            "gridcolor": "#506784",
            "gridwidth": 2,
            "linecolor": "#506784",
            "showbackground": true,
            "ticks": "",
            "zerolinecolor": "#C8D4E3"
           },
           "yaxis": {
            "backgroundcolor": "rgb(17,17,17)",
            "gridcolor": "#506784",
            "gridwidth": 2,
            "linecolor": "#506784",
            "showbackground": true,
            "ticks": "",
            "zerolinecolor": "#C8D4E3"
           },
           "zaxis": {
            "backgroundcolor": "rgb(17,17,17)",
            "gridcolor": "#506784",
            "gridwidth": 2,
            "linecolor": "#506784",
            "showbackground": true,
            "ticks": "",
            "zerolinecolor": "#C8D4E3"
           }
          },
          "shapedefaults": {
           "line": {
            "color": "#f2f5fa"
           }
          },
          "sliderdefaults": {
           "bgcolor": "#C8D4E3",
           "bordercolor": "rgb(17,17,17)",
           "borderwidth": 1,
           "tickwidth": 0
          },
          "ternary": {
           "aaxis": {
            "gridcolor": "#506784",
            "linecolor": "#506784",
            "ticks": ""
           },
           "baxis": {
            "gridcolor": "#506784",
            "linecolor": "#506784",
            "ticks": ""
           },
           "bgcolor": "rgb(17,17,17)",
           "caxis": {
            "gridcolor": "#506784",
            "linecolor": "#506784",
            "ticks": ""
           }
          },
          "title": {
           "x": 0.05
          },
          "updatemenudefaults": {
           "bgcolor": "#506784",
           "borderwidth": 0
          },
          "xaxis": {
           "automargin": true,
           "gridcolor": "#283442",
           "linecolor": "#506784",
           "ticks": "",
           "title": {
            "standoff": 15
           },
           "zerolinecolor": "#283442",
           "zerolinewidth": 2
          },
          "yaxis": {
           "automargin": true,
           "gridcolor": "#283442",
           "linecolor": "#506784",
           "ticks": "",
           "title": {
            "standoff": 15
           },
           "zerolinecolor": "#283442",
           "zerolinewidth": 2
          }
         }
        },
        "title": {
         "text": "Premium by Expiring Contracts (0DTE and 1DTE)"
        },
        "xaxis": {
         "title": {
          "text": "Expiration Date"
         }
        },
        "yaxis": {
         "title": {
          "text": "Premium Amount"
         }
        }
       }
      }
     },
     "metadata": {},
     "output_type": "display_data"
    }
   ],
   "source": [
    "import pandas as pd\n",
    "import plotly.graph_objects as go\n",
    "\n",
    "# Load your Excel data\n",
    "file_path = 'Todays Python Workflow.xlsx'  # Replace with your path\n",
    "df = pd.read_excel(file_path)\n",
    "\n",
    "# Filter out rows where Qty equals 0\n",
    "df = df[df['Qty'] != 0]\n",
    "\n",
    "# Extract expiration dates from the 'Option' column and convert them to datetime format\n",
    "df['Expiration'] = pd.to_datetime(df['Option'].str.extract(r'(\\d{1,2} \\w{3} \\d{2})')[0], format='%d %b %y', errors='coerce')\n",
    "\n",
    "# Ensure the Premium is calculated correctly (Qty * Price * 100)\n",
    "df['Premium'] = df['Qty'] * df['Price'] * 100\n",
    "\n",
    "# Sort the data by Expiration to determine \"today\" and \"tomorrow\"\n",
    "df_sorted = df.sort_values(by='Expiration').reset_index(drop=True)\n",
    "\n",
    "# Identify the first two unique expiration dates (today and tomorrow)\n",
    "unique_expirations = df_sorted['Expiration'].dropna().unique()\n",
    "\n",
    "if len(unique_expirations) >= 2:\n",
    "    today_expiration = unique_expirations[0]  # \"Today\" is the first date\n",
    "    tomorrow_expiration = unique_expirations[1]  # \"Tomorrow\" is the second date\n",
    "else:\n",
    "    today_expiration = unique_expirations[0] if len(unique_expirations) == 1 else None\n",
    "    tomorrow_expiration = None\n",
    "\n",
    "# Filter the data for 0DTE (today) and 1DTE (tomorrow)\n",
    "df_0dte_1dte = df_sorted[(df_sorted['Expiration'] == today_expiration) | (df_sorted['Expiration'] == tomorrow_expiration)]\n",
    "\n",
    "# Clean up Bot/Sold column by stripping extra spaces and converting to uppercase using .loc[] to avoid warning\n",
    "df_0dte_1dte.loc[:, 'Bot/Sold'] = df_0dte_1dte['Bot/Sold'].str.strip().str.upper()\n",
    "\n",
    "# Separate the data for graph (excluding 'MID') and for total premium calculations (including 'MID')\n",
    "df_graph = df_0dte_1dte[df_0dte_1dte['Bot/Sold'].isin(['BOT', 'SOLD'])].copy()  # Using .copy() to avoid warnings\n",
    "df_total = df_0dte_1dte.copy()  # Includes 'MID' for total premium calculations\n",
    "\n",
    "# Classify trades into Bot/Sold Calls and Puts using .loc[] to avoid SettingWithCopyWarning\n",
    "def classify_trades(dataframe):\n",
    "    dataframe.loc[:, 'Bot Call'] = dataframe.apply(lambda row: row['Premium'] if row['Type'] == 'Call' and row['Bot/Sold'] == 'BOT' else 0, axis=1)\n",
    "    dataframe.loc[:, 'Sold Call'] = dataframe.apply(lambda row: row['Premium'] if row['Type'] == 'Call' and row['Bot/Sold'] == 'SOLD' else 0, axis=1)\n",
    "    dataframe.loc[:, 'Bot Put'] = dataframe.apply(lambda row: row['Premium'] if row['Type'] == 'Put' and row['Bot/Sold'] == 'BOT' else 0, axis=1)\n",
    "    dataframe.loc[:, 'Sold Put'] = dataframe.apply(lambda row: row['Premium'] if row['Type'] == 'Put' and row['Bot/Sold'] == 'SOLD' else 0, axis=1)\n",
    "    return dataframe\n",
    "\n",
    "# Classify trades for graph (excluding 'MID')\n",
    "df_graph = classify_trades(df_graph)\n",
    "\n",
    "# Classify trades for total calculation (including 'MID')\n",
    "df_total = classify_trades(df_total)\n",
    "\n",
    "# Check if 'Mid Calls Premium' and 'Mid Puts Premium' columns exist and contain data\n",
    "if 'Mid Call Premium' in df_total.columns:\n",
    "    total_mid_calls_premium = df_total['Mid Call Premium'].sum()\n",
    "else:\n",
    "    total_mid_calls_premium = 0\n",
    "\n",
    "if 'Mid Put Premium' in df_total.columns:\n",
    "    total_mid_puts_premium = df_total['Mid Put Premium'].sum()\n",
    "else:\n",
    "    total_mid_puts_premium = 0\n",
    "\n",
    "# Calculate the sum of all premiums (Bot, Sold, and Mid)\n",
    "total_premium = (\n",
    "    df_total['Premium'].sum() + total_mid_calls_premium + total_mid_puts_premium\n",
    ")\n",
    "\n",
    "# Calculate the total Call and Put premiums (including Bot, Sold, and Mid)\n",
    "total_call_premium = df_total['Bot Call'].sum() + df_total['Sold Call'].sum() + total_mid_calls_premium\n",
    "total_put_premium = df_total['Bot Put'].sum() + df_total['Sold Put'].sum() + total_mid_puts_premium\n",
    "\n",
    "# Calculate the percentage of Mid Calls and Mid Puts Premium of the total premium\n",
    "mid_calls_percentage_total = (total_mid_calls_premium / total_premium) * 100 if total_premium != 0 else 0\n",
    "mid_puts_percentage_total = (total_mid_puts_premium / total_premium) * 100 if total_premium != 0 else 0\n",
    "\n",
    "# Calculate the percentage of Mid Calls and Mid Puts Premium of the total Call/Put premium\n",
    "mid_calls_percentage_call = (total_mid_calls_premium / total_call_premium) * 100 if total_call_premium != 0 else 0\n",
    "mid_puts_percentage_put = (total_mid_puts_premium / total_put_premium) * 100 if total_put_premium != 0 else 0\n",
    "\n",
    "# Group the data by expiration date and sum the values for each category for graph\n",
    "grouped_data = df_graph.groupby('Expiration').agg({\n",
    "    'Bot Call': 'sum',\n",
    "    'Sold Call': 'sum',\n",
    "    'Bot Put': 'sum',\n",
    "    'Sold Put': 'sum'\n",
    "}).reset_index()\n",
    "\n",
    "# Create a bar chart with Bot Call (light blue), Sold Call (light red), Bot Put (light red), and Sold Put (light blue)\n",
    "fig = go.Figure()\n",
    "\n",
    "# Add bars for Bot Calls (light blue)\n",
    "fig.add_trace(go.Bar(\n",
    "    x=grouped_data['Expiration'],\n",
    "    y=grouped_data['Bot Call'],\n",
    "    name='Bot Call',\n",
    "    marker_color='blue',\n",
    "    offsetgroup=0\n",
    "))\n",
    "\n",
    "# Add bars for Sold Calls (light red)\n",
    "fig.add_trace(go.Bar(\n",
    "    x=grouped_data['Expiration'],\n",
    "    y=grouped_data['Sold Call'],\n",
    "    name='Sold Call',\n",
    "    marker_color='lightcoral',\n",
    "    offsetgroup=1\n",
    "))\n",
    "\n",
    "# Add bars for Bot Puts (light red)\n",
    "fig.add_trace(go.Bar(\n",
    "    x=grouped_data['Expiration'],\n",
    "    y=grouped_data['Bot Put'],\n",
    "    name='Bot Put',\n",
    "    marker_color='red',\n",
    "    offsetgroup=2\n",
    "))\n",
    "\n",
    "# Add bars for Sold Puts (light blue)\n",
    "fig.add_trace(go.Bar(\n",
    "    x=grouped_data['Expiration'],\n",
    "    y=grouped_data['Sold Put'],\n",
    "    name='Sold Put',\n",
    "    marker_color='lightblue',\n",
    "    offsetgroup=3\n",
    "))\n",
    "\n",
    "# Add the percentage annotations as a second \"legend-like\" box\n",
    "annotations_text = (\n",
    "    f\"Mid Calls (of total): {mid_calls_percentage_total:.2f}%<br>\"\n",
    "    f\"Mid Puts (of total): {mid_puts_percentage_total:.2f}%<br>\"\n",
    "    f\"Mid Calls (of Call): {mid_calls_percentage_call:.2f}%<br>\"\n",
    "    f\"Mid Puts (of Put): {mid_puts_percentage_put:.2f}%\"\n",
    ")\n",
    "\n",
    "fig.add_annotation(\n",
    "    text=annotations_text,\n",
    "    align='left',\n",
    "    showarrow=False,\n",
    "    xref=\"paper\",\n",
    "    yref=\"paper\",\n",
    "    x=0.50,  # Adjust to position to the right of the graph\n",
    "    y=1.25,\n",
    "    bordercolor=\"white\",\n",
    "    borderwidth=1,\n",
    "    bgcolor=\"black\",\n",
    "    opacity=0.8\n",
    ")\n",
    "\n",
    "# Update the layout\n",
    "fig.update_layout(\n",
    "    title='Premium by Expiring Contracts (0DTE and 1DTE)',\n",
    "    xaxis_title='Expiration Date',\n",
    "    yaxis_title='Premium Amount',\n",
    "    barmode='group',  # Group the columns together\n",
    "    template='plotly_dark'\n",
    ")\n",
    "\n",
    "# Show the chart\n",
    "fig.show()\n"
   ]
  }
 ],
 "metadata": {
  "kernelspec": {
   "display_name": "Python 3",
   "language": "python",
   "name": "python3"
  },
  "language_info": {
   "codemirror_mode": {
    "name": "ipython",
    "version": 3
   },
   "file_extension": ".py",
   "mimetype": "text/x-python",
   "name": "python",
   "nbconvert_exporter": "python",
   "pygments_lexer": "ipython3",
   "version": "3.12.5"
  }
 },
 "nbformat": 4,
 "nbformat_minor": 4
}
