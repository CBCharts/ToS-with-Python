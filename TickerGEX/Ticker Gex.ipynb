{
 "cells": [
  {
   "cell_type": "code",
   "execution_count": 6,
   "metadata": {},
   "outputs": [
    {
     "name": "stdout",
     "output_type": "stream",
     "text": [
      "Start row: 10, End row: 86\n"
     ]
    },
    {
     "data": {
      "application/vnd.plotly.v1+json": {
       "config": {
        "plotlyServerURL": "https://plot.ly"
       },
       "data": [
        {
         "marker": {
          "color": "blue"
         },
         "name": "Call Gamma",
         "type": "bar",
         "visible": true,
         "x": [
          85,
          90,
          95,
          96,
          97,
          98,
          99,
          100,
          101,
          102,
          103,
          104,
          105,
          106,
          107,
          108,
          109,
          110,
          111,
          112,
          113,
          114,
          115,
          116,
          117,
          118,
          119,
          120,
          121,
          122,
          123,
          124,
          125,
          126,
          127,
          128,
          129,
          130,
          131,
          132,
          133,
          134,
          135,
          136,
          137,
          138,
          139,
          140,
          141,
          142,
          143,
          144,
          145,
          146,
          147,
          148,
          149,
          150,
          152.5,
          155,
          160,
          165,
          170,
          175,
          180
         ],
         "y": [
          99.08320921720002,
          552.4306909789201,
          96.29172335224001,
          93.06406782088001,
          74.54866548220001,
          60.15506649100001,
          158.28778931017004,
          329.4171405486,
          236.83467673437002,
          327.2508312054801,
          195.36948044861,
          0,
          940.1782549140802,
          578.1719707909601,
          1009.3965635981501,
          1861.1396012760204,
          3530.28821964442,
          3660.5212125370203,
          1329.73410559119,
          2199.3419258553604,
          2583.1512411776503,
          2829.0964118189504,
          6874.38287819712,
          3317.5355606161606,
          4935.341557128451,
          11501.00899756848,
          7116.464312543561,
          77793.79869556737,
          13332.496331023742,
          13228.9351132315,
          0,
          0,
          40547.40443897391,
          65384.902537387294,
          0,
          0,
          0,
          507059.25184693583,
          857514.1057590515,
          621820.2689519965,
          583348.9303521643,
          664438.7559916736,
          1768868.8533833774,
          709253.7789323522,
          390145.5666050717,
          385575.52077830053,
          155564.61851920994,
          372409.8684315428,
          66891.17086333306,
          36610.22080703937,
          15645.202387923682,
          7392.26893159716,
          6781.64230287882,
          1227.0470445053602,
          1485.5284583084401,
          1046.2728915186601,
          886.4494215080401,
          2716.6391502057604,
          0,
          1202.4470753204002,
          350.6622380495,
          420.42212406935005,
          476.29727570880004,
          235.09545018960006,
          186.59338328592003
         ]
        },
        {
         "marker": {
          "color": "red"
         },
         "name": "Put Gamma",
         "type": "bar",
         "visible": true,
         "x": [
          85,
          90,
          95,
          96,
          97,
          98,
          99,
          100,
          101,
          102,
          103,
          104,
          105,
          106,
          107,
          108,
          109,
          110,
          111,
          112,
          113,
          114,
          115,
          116,
          117,
          118,
          119,
          120,
          121,
          122,
          123,
          124,
          125,
          126,
          127,
          128,
          129,
          130,
          131,
          132,
          133,
          134,
          135,
          136,
          137,
          138,
          139,
          140,
          141,
          142,
          143,
          144,
          145,
          146,
          147,
          148,
          149,
          150,
          152.5,
          155,
          160,
          165,
          170,
          175,
          180
         ],
         "y": [
          -1202.62517793418,
          -524.3849814294001,
          -518.73658424952,
          -210.088389316,
          -156.78118658748,
          -75.05753009300001,
          -465.84919482491,
          -861.0225473305301,
          -170.68409470398,
          -496.77907629350005,
          -205.02336906493005,
          -466.23266065662006,
          -1375.6900320672603,
          -492.89898363615004,
          -751.1713994740801,
          -394.26830044784003,
          -626.81942758344,
          -3896.256378237341,
          -587.22067399515,
          -2052.5054076618,
          -2427.284193516,
          -3326.3752658552003,
          -6827.18932029264,
          -6458.218860496001,
          -3581.2073934494006,
          -5926.711591889011,
          -4002.1220257670607,
          -36208.624856196,
          -13556.280447864703,
          -23742.096146095606,
          -20464.835402050652,
          -25250.450816945642,
          -61747.30022344598,
          -35267.06539733832,
          -46640.167640235006,
          -84485.13752113892,
          -78990.82818015637,
          -223515.48357817146,
          -139437.8593763501,
          -256487.456903638,
          -211681.66258615095,
          -171661.47096194356,
          -105856.90051053508,
          -40421.6967063702,
          -13920.36035527683,
          -5504.221296651481,
          -2299.1629887582203,
          -8617.507689360573,
          0,
          0,
          -157.97520104925002,
          0,
          0,
          -56.025993649080014,
          0,
          -23.67310864386,
          0,
          -16.056495844350003,
          0,
          0,
          0,
          -1.1812928465,
          0,
          0,
          0
         ]
        },
        {
         "marker": {
          "color": "blue"
         },
         "name": "Call Volume",
         "type": "bar",
         "visible": false,
         "x": [
          85,
          90,
          95,
          96,
          97,
          98,
          99,
          100,
          101,
          102,
          103,
          104,
          105,
          106,
          107,
          108,
          109,
          110,
          111,
          112,
          113,
          114,
          115,
          116,
          117,
          118,
          119,
          120,
          121,
          122,
          123,
          124,
          125,
          126,
          127,
          128,
          129,
          130,
          131,
          132,
          133,
          134,
          135,
          136,
          137,
          138,
          139,
          140,
          141,
          142,
          143,
          144,
          145,
          146,
          147,
          148,
          149,
          150,
          152.5,
          155,
          160,
          165,
          170,
          175,
          180
         ],
         "y": [
          68,
          421,
          37,
          39,
          75,
          23,
          3,
          180,
          57,
          117,
          45,
          16,
          93,
          37,
          82,
          169,
          89,
          1850,
          125,
          130,
          80,
          283,
          378,
          155,
          650,
          844,
          1517,
          1859,
          1106,
          1267,
          1623,
          2556,
          8703,
          4066,
          3883,
          19991,
          5258,
          37115,
          19074,
          81348,
          103417,
          193861,
          290957,
          96628,
          71382,
          54503,
          29026,
          78931,
          12962,
          11624,
          2676,
          2712,
          5269,
          850,
          912,
          115,
          19,
          252,
          1,
          273,
          1,
          200,
          7,
          "N/A",
          "N/A"
         ]
        },
        {
         "marker": {
          "color": "red"
         },
         "name": "Put Volume",
         "type": "bar",
         "visible": false,
         "x": [
          85,
          90,
          95,
          96,
          97,
          98,
          99,
          100,
          101,
          102,
          103,
          104,
          105,
          106,
          107,
          108,
          109,
          110,
          111,
          112,
          113,
          114,
          115,
          116,
          117,
          118,
          119,
          120,
          121,
          122,
          123,
          124,
          125,
          126,
          127,
          128,
          129,
          130,
          131,
          132,
          133,
          134,
          135,
          136,
          137,
          138,
          139,
          140,
          141,
          142,
          143,
          144,
          145,
          146,
          147,
          148,
          149,
          150,
          152.5,
          155,
          160,
          165,
          170,
          175,
          180
         ],
         "y": [
          284,
          86,
          85,
          312,
          253,
          123,
          25,
          271,
          162,
          38,
          73,
          145,
          650,
          383,
          410,
          881,
          1879,
          2898,
          2262,
          4091,
          1191,
          1820,
          10825,
          4199,
          2876,
          4736,
          3479,
          23779,
          9382,
          17540,
          6299,
          7915,
          33921,
          24343,
          15487,
          26345,
          24525,
          98983,
          60056,
          98760,
          91113,
          129553,
          86542,
          11783,
          3919,
          1507,
          683,
          1941,
          195,
          67,
          112,
          392,
          822,
          71,
          140,
          21,
          3,
          57,
          "N/A",
          87,
          78,
          "N/A",
          9,
          16,
          "N/A"
         ]
        },
        {
         "marker": {
          "color": "green"
         },
         "name": "Total Gamma",
         "type": "bar",
         "visible": false,
         "x": [
          85,
          90,
          95,
          96,
          97,
          98,
          99,
          100,
          101,
          102,
          103,
          104,
          105,
          106,
          107,
          108,
          109,
          110,
          111,
          112,
          113,
          114,
          115,
          116,
          117,
          118,
          119,
          120,
          121,
          122,
          123,
          124,
          125,
          126,
          127,
          128,
          129,
          130,
          131,
          132,
          133,
          134,
          135,
          136,
          137,
          138,
          139,
          140,
          141,
          142,
          143,
          144,
          145,
          146,
          147,
          148,
          149,
          150,
          152.5,
          155,
          160,
          165,
          170,
          175,
          180
         ],
         "y": [
          -1103.5419687169801,
          28.045709549519984,
          -422.44486089727997,
          -117.02432149511998,
          -82.23252110527999,
          -14.902463602000005,
          -307.56140551473993,
          -531.60540678193,
          66.15058203039001,
          -169.52824508801996,
          -9.653888616320046,
          -466.23266065662006,
          -435.5117771531801,
          85.2729871548101,
          258.22516412407003,
          1466.8713008281802,
          2903.4687920609804,
          -235.73516570032052,
          742.5134315960399,
          146.83651819356055,
          155.8670476616503,
          -497.27885403624987,
          47.19355790447935,
          -3140.6832998798404,
          1354.1341636790507,
          5574.297405679469,
          3114.3422867765007,
          41585.17383937137,
          -223.78411684096136,
          -10513.161032864105,
          -20464.835402050652,
          -25250.450816945642,
          -21199.89578447207,
          30117.83714004897,
          -46640.167640235006,
          -84485.13752113892,
          -78990.82818015637,
          283543.76826876437,
          718076.2463827014,
          365332.8120483585,
          371667.2677660134,
          492777.28502973,
          1663011.9528728423,
          668832.082225982,
          376225.20624979486,
          380071.29948164907,
          153265.45553045173,
          363792.36074218224,
          66891.17086333306,
          36610.22080703937,
          15487.227186874432,
          7392.26893159716,
          6781.64230287882,
          1171.0210508562802,
          1485.5284583084401,
          1022.5997828748001,
          886.4494215080401,
          2700.5826543614103,
          0,
          1202.4470753204002,
          350.6622380495,
          419.24083122285003,
          476.29727570880004,
          235.09545018960006,
          186.59338328592003
         ]
        },
        {
         "line": {
          "color": "black",
          "dash": "solid",
          "width": 3
         },
         "mode": "lines",
         "name": "NVDA Last Price: 134.81",
         "type": "scatter",
         "visible": true,
         "x": [
          134.81,
          134.81
         ],
         "y": [
          -256487.456903638,
          1768868.8533833774
         ]
        },
        {
         "line": {
          "color": "purple",
          "dash": "dash",
          "width": 3
         },
         "mode": "lines",
         "name": "Gamma Flip: 129.21788493830348",
         "type": "scatter",
         "visible": true,
         "x": [
          129.21788493830348,
          129.21788493830348
         ],
         "y": [
          -256487.456903638,
          1768868.8533833774
         ]
        }
       ],
       "layout": {
        "barmode": "group",
        "template": {
         "data": {
          "bar": [
           {
            "error_x": {
             "color": "#2a3f5f"
            },
            "error_y": {
             "color": "#2a3f5f"
            },
            "marker": {
             "line": {
              "color": "#E5ECF6",
              "width": 0.5
             },
             "pattern": {
              "fillmode": "overlay",
              "size": 10,
              "solidity": 0.2
             }
            },
            "type": "bar"
           }
          ],
          "barpolar": [
           {
            "marker": {
             "line": {
              "color": "#E5ECF6",
              "width": 0.5
             },
             "pattern": {
              "fillmode": "overlay",
              "size": 10,
              "solidity": 0.2
             }
            },
            "type": "barpolar"
           }
          ],
          "carpet": [
           {
            "aaxis": {
             "endlinecolor": "#2a3f5f",
             "gridcolor": "white",
             "linecolor": "white",
             "minorgridcolor": "white",
             "startlinecolor": "#2a3f5f"
            },
            "baxis": {
             "endlinecolor": "#2a3f5f",
             "gridcolor": "white",
             "linecolor": "white",
             "minorgridcolor": "white",
             "startlinecolor": "#2a3f5f"
            },
            "type": "carpet"
           }
          ],
          "choropleth": [
           {
            "colorbar": {
             "outlinewidth": 0,
             "ticks": ""
            },
            "type": "choropleth"
           }
          ],
          "contour": [
           {
            "colorbar": {
             "outlinewidth": 0,
             "ticks": ""
            },
            "colorscale": [
             [
              0,
              "#0d0887"
             ],
             [
              0.1111111111111111,
              "#46039f"
             ],
             [
              0.2222222222222222,
              "#7201a8"
             ],
             [
              0.3333333333333333,
              "#9c179e"
             ],
             [
              0.4444444444444444,
              "#bd3786"
             ],
             [
              0.5555555555555556,
              "#d8576b"
             ],
             [
              0.6666666666666666,
              "#ed7953"
             ],
             [
              0.7777777777777778,
              "#fb9f3a"
             ],
             [
              0.8888888888888888,
              "#fdca26"
             ],
             [
              1,
              "#f0f921"
             ]
            ],
            "type": "contour"
           }
          ],
          "contourcarpet": [
           {
            "colorbar": {
             "outlinewidth": 0,
             "ticks": ""
            },
            "type": "contourcarpet"
           }
          ],
          "heatmap": [
           {
            "colorbar": {
             "outlinewidth": 0,
             "ticks": ""
            },
            "colorscale": [
             [
              0,
              "#0d0887"
             ],
             [
              0.1111111111111111,
              "#46039f"
             ],
             [
              0.2222222222222222,
              "#7201a8"
             ],
             [
              0.3333333333333333,
              "#9c179e"
             ],
             [
              0.4444444444444444,
              "#bd3786"
             ],
             [
              0.5555555555555556,
              "#d8576b"
             ],
             [
              0.6666666666666666,
              "#ed7953"
             ],
             [
              0.7777777777777778,
              "#fb9f3a"
             ],
             [
              0.8888888888888888,
              "#fdca26"
             ],
             [
              1,
              "#f0f921"
             ]
            ],
            "type": "heatmap"
           }
          ],
          "heatmapgl": [
           {
            "colorbar": {
             "outlinewidth": 0,
             "ticks": ""
            },
            "colorscale": [
             [
              0,
              "#0d0887"
             ],
             [
              0.1111111111111111,
              "#46039f"
             ],
             [
              0.2222222222222222,
              "#7201a8"
             ],
             [
              0.3333333333333333,
              "#9c179e"
             ],
             [
              0.4444444444444444,
              "#bd3786"
             ],
             [
              0.5555555555555556,
              "#d8576b"
             ],
             [
              0.6666666666666666,
              "#ed7953"
             ],
             [
              0.7777777777777778,
              "#fb9f3a"
             ],
             [
              0.8888888888888888,
              "#fdca26"
             ],
             [
              1,
              "#f0f921"
             ]
            ],
            "type": "heatmapgl"
           }
          ],
          "histogram": [
           {
            "marker": {
             "pattern": {
              "fillmode": "overlay",
              "size": 10,
              "solidity": 0.2
             }
            },
            "type": "histogram"
           }
          ],
          "histogram2d": [
           {
            "colorbar": {
             "outlinewidth": 0,
             "ticks": ""
            },
            "colorscale": [
             [
              0,
              "#0d0887"
             ],
             [
              0.1111111111111111,
              "#46039f"
             ],
             [
              0.2222222222222222,
              "#7201a8"
             ],
             [
              0.3333333333333333,
              "#9c179e"
             ],
             [
              0.4444444444444444,
              "#bd3786"
             ],
             [
              0.5555555555555556,
              "#d8576b"
             ],
             [
              0.6666666666666666,
              "#ed7953"
             ],
             [
              0.7777777777777778,
              "#fb9f3a"
             ],
             [
              0.8888888888888888,
              "#fdca26"
             ],
             [
              1,
              "#f0f921"
             ]
            ],
            "type": "histogram2d"
           }
          ],
          "histogram2dcontour": [
           {
            "colorbar": {
             "outlinewidth": 0,
             "ticks": ""
            },
            "colorscale": [
             [
              0,
              "#0d0887"
             ],
             [
              0.1111111111111111,
              "#46039f"
             ],
             [
              0.2222222222222222,
              "#7201a8"
             ],
             [
              0.3333333333333333,
              "#9c179e"
             ],
             [
              0.4444444444444444,
              "#bd3786"
             ],
             [
              0.5555555555555556,
              "#d8576b"
             ],
             [
              0.6666666666666666,
              "#ed7953"
             ],
             [
              0.7777777777777778,
              "#fb9f3a"
             ],
             [
              0.8888888888888888,
              "#fdca26"
             ],
             [
              1,
              "#f0f921"
             ]
            ],
            "type": "histogram2dcontour"
           }
          ],
          "mesh3d": [
           {
            "colorbar": {
             "outlinewidth": 0,
             "ticks": ""
            },
            "type": "mesh3d"
           }
          ],
          "parcoords": [
           {
            "line": {
             "colorbar": {
              "outlinewidth": 0,
              "ticks": ""
             }
            },
            "type": "parcoords"
           }
          ],
          "pie": [
           {
            "automargin": true,
            "type": "pie"
           }
          ],
          "scatter": [
           {
            "fillpattern": {
             "fillmode": "overlay",
             "size": 10,
             "solidity": 0.2
            },
            "type": "scatter"
           }
          ],
          "scatter3d": [
           {
            "line": {
             "colorbar": {
              "outlinewidth": 0,
              "ticks": ""
             }
            },
            "marker": {
             "colorbar": {
              "outlinewidth": 0,
              "ticks": ""
             }
            },
            "type": "scatter3d"
           }
          ],
          "scattercarpet": [
           {
            "marker": {
             "colorbar": {
              "outlinewidth": 0,
              "ticks": ""
             }
            },
            "type": "scattercarpet"
           }
          ],
          "scattergeo": [
           {
            "marker": {
             "colorbar": {
              "outlinewidth": 0,
              "ticks": ""
             }
            },
            "type": "scattergeo"
           }
          ],
          "scattergl": [
           {
            "marker": {
             "colorbar": {
              "outlinewidth": 0,
              "ticks": ""
             }
            },
            "type": "scattergl"
           }
          ],
          "scattermapbox": [
           {
            "marker": {
             "colorbar": {
              "outlinewidth": 0,
              "ticks": ""
             }
            },
            "type": "scattermapbox"
           }
          ],
          "scatterpolar": [
           {
            "marker": {
             "colorbar": {
              "outlinewidth": 0,
              "ticks": ""
             }
            },
            "type": "scatterpolar"
           }
          ],
          "scatterpolargl": [
           {
            "marker": {
             "colorbar": {
              "outlinewidth": 0,
              "ticks": ""
             }
            },
            "type": "scatterpolargl"
           }
          ],
          "scatterternary": [
           {
            "marker": {
             "colorbar": {
              "outlinewidth": 0,
              "ticks": ""
             }
            },
            "type": "scatterternary"
           }
          ],
          "surface": [
           {
            "colorbar": {
             "outlinewidth": 0,
             "ticks": ""
            },
            "colorscale": [
             [
              0,
              "#0d0887"
             ],
             [
              0.1111111111111111,
              "#46039f"
             ],
             [
              0.2222222222222222,
              "#7201a8"
             ],
             [
              0.3333333333333333,
              "#9c179e"
             ],
             [
              0.4444444444444444,
              "#bd3786"
             ],
             [
              0.5555555555555556,
              "#d8576b"
             ],
             [
              0.6666666666666666,
              "#ed7953"
             ],
             [
              0.7777777777777778,
              "#fb9f3a"
             ],
             [
              0.8888888888888888,
              "#fdca26"
             ],
             [
              1,
              "#f0f921"
             ]
            ],
            "type": "surface"
           }
          ],
          "table": [
           {
            "cells": {
             "fill": {
              "color": "#EBF0F8"
             },
             "line": {
              "color": "white"
             }
            },
            "header": {
             "fill": {
              "color": "#C8D4E3"
             },
             "line": {
              "color": "white"
             }
            },
            "type": "table"
           }
          ]
         },
         "layout": {
          "annotationdefaults": {
           "arrowcolor": "#2a3f5f",
           "arrowhead": 0,
           "arrowwidth": 1
          },
          "autotypenumbers": "strict",
          "coloraxis": {
           "colorbar": {
            "outlinewidth": 0,
            "ticks": ""
           }
          },
          "colorscale": {
           "diverging": [
            [
             0,
             "#8e0152"
            ],
            [
             0.1,
             "#c51b7d"
            ],
            [
             0.2,
             "#de77ae"
            ],
            [
             0.3,
             "#f1b6da"
            ],
            [
             0.4,
             "#fde0ef"
            ],
            [
             0.5,
             "#f7f7f7"
            ],
            [
             0.6,
             "#e6f5d0"
            ],
            [
             0.7,
             "#b8e186"
            ],
            [
             0.8,
             "#7fbc41"
            ],
            [
             0.9,
             "#4d9221"
            ],
            [
             1,
             "#276419"
            ]
           ],
           "sequential": [
            [
             0,
             "#0d0887"
            ],
            [
             0.1111111111111111,
             "#46039f"
            ],
            [
             0.2222222222222222,
             "#7201a8"
            ],
            [
             0.3333333333333333,
             "#9c179e"
            ],
            [
             0.4444444444444444,
             "#bd3786"
            ],
            [
             0.5555555555555556,
             "#d8576b"
            ],
            [
             0.6666666666666666,
             "#ed7953"
            ],
            [
             0.7777777777777778,
             "#fb9f3a"
            ],
            [
             0.8888888888888888,
             "#fdca26"
            ],
            [
             1,
             "#f0f921"
            ]
           ],
           "sequentialminus": [
            [
             0,
             "#0d0887"
            ],
            [
             0.1111111111111111,
             "#46039f"
            ],
            [
             0.2222222222222222,
             "#7201a8"
            ],
            [
             0.3333333333333333,
             "#9c179e"
            ],
            [
             0.4444444444444444,
             "#bd3786"
            ],
            [
             0.5555555555555556,
             "#d8576b"
            ],
            [
             0.6666666666666666,
             "#ed7953"
            ],
            [
             0.7777777777777778,
             "#fb9f3a"
            ],
            [
             0.8888888888888888,
             "#fdca26"
            ],
            [
             1,
             "#f0f921"
            ]
           ]
          },
          "colorway": [
           "#636efa",
           "#EF553B",
           "#00cc96",
           "#ab63fa",
           "#FFA15A",
           "#19d3f3",
           "#FF6692",
           "#B6E880",
           "#FF97FF",
           "#FECB52"
          ],
          "font": {
           "color": "#2a3f5f"
          },
          "geo": {
           "bgcolor": "white",
           "lakecolor": "white",
           "landcolor": "#E5ECF6",
           "showlakes": true,
           "showland": true,
           "subunitcolor": "white"
          },
          "hoverlabel": {
           "align": "left"
          },
          "hovermode": "closest",
          "mapbox": {
           "style": "light"
          },
          "paper_bgcolor": "white",
          "plot_bgcolor": "#E5ECF6",
          "polar": {
           "angularaxis": {
            "gridcolor": "white",
            "linecolor": "white",
            "ticks": ""
           },
           "bgcolor": "#E5ECF6",
           "radialaxis": {
            "gridcolor": "white",
            "linecolor": "white",
            "ticks": ""
           }
          },
          "scene": {
           "xaxis": {
            "backgroundcolor": "#E5ECF6",
            "gridcolor": "white",
            "gridwidth": 2,
            "linecolor": "white",
            "showbackground": true,
            "ticks": "",
            "zerolinecolor": "white"
           },
           "yaxis": {
            "backgroundcolor": "#E5ECF6",
            "gridcolor": "white",
            "gridwidth": 2,
            "linecolor": "white",
            "showbackground": true,
            "ticks": "",
            "zerolinecolor": "white"
           },
           "zaxis": {
            "backgroundcolor": "#E5ECF6",
            "gridcolor": "white",
            "gridwidth": 2,
            "linecolor": "white",
            "showbackground": true,
            "ticks": "",
            "zerolinecolor": "white"
           }
          },
          "shapedefaults": {
           "line": {
            "color": "#2a3f5f"
           }
          },
          "ternary": {
           "aaxis": {
            "gridcolor": "white",
            "linecolor": "white",
            "ticks": ""
           },
           "baxis": {
            "gridcolor": "white",
            "linecolor": "white",
            "ticks": ""
           },
           "bgcolor": "#E5ECF6",
           "caxis": {
            "gridcolor": "white",
            "linecolor": "white",
            "ticks": ""
           }
          },
          "title": {
           "x": 0.05
          },
          "xaxis": {
           "automargin": true,
           "gridcolor": "white",
           "linecolor": "white",
           "ticks": "",
           "title": {
            "standoff": 15
           },
           "zerolinecolor": "white",
           "zerolinewidth": 2
          },
          "yaxis": {
           "automargin": true,
           "gridcolor": "white",
           "linecolor": "white",
           "ticks": "",
           "title": {
            "standoff": 15
           },
           "zerolinecolor": "white",
           "zerolinewidth": 2
          }
         }
        },
        "title": {
         "text": "Gamma Exposure by Strike Price (Call/Put) - NVDA - for the week of October 11, 2024"
        },
        "updatemenus": [
         {
          "active": 0,
          "buttons": [
           {
            "args": [
             {
              "visible": [
               true,
               true,
               false,
               false,
               false,
               true
              ]
             },
             {
              "title": "Gamma Exposure by Strike Price (Call/Put) - NVDA - for the week of October 11, 2024"
             }
            ],
            "label": "Gamma Exposure (Call/Put)",
            "method": "update"
           },
           {
            "args": [
             {
              "visible": [
               false,
               false,
               false,
               false,
               true,
               true
              ]
             },
             {
              "title": "Total Gamma Exposure by Strike Price - NVDA - for the week of October 11, 2024"
             }
            ],
            "label": "Total Gamma Exposure",
            "method": "update"
           },
           {
            "args": [
             {
              "visible": [
               false,
               false,
               true,
               true,
               false,
               true
              ]
             },
             {
              "title": "Volume Distribution by Strike Price - NVDA - for the week of October 11, 2024"
             }
            ],
            "label": "Volume Distribution",
            "method": "update"
           }
          ],
          "x": 1.15,
          "xanchor": "right",
          "y": 1.15
         }
        ],
        "xaxis": {
         "tickangle": -45,
         "title": {
          "text": "Strike Price"
         }
        },
        "yaxis": {
         "title": {
          "text": "Gamma Exposure"
         }
        }
       }
      }
     },
     "metadata": {},
     "output_type": "display_data"
    }
   ],
   "source": [
    "import xlwings as xw\n",
    "import pandas as pd\n",
    "import plotly.graph_objects as go\n",
    "import numpy as np\n",
    "from datetime import datetime\n",
    "\n",
    "# Connect to the open workbook \"TickerGEX.xlsx\"\n",
    "wb = xw.Book('TickerGEX.xlsx')  # Adjust to the correct file path\n",
    "\n",
    "# Access the sheet where data is stored, assuming a similar structure to the original SPX data\n",
    "ws_ticker = wb.sheets['Ticker Data']  # Replace 'Ticker Data' with the actual sheet name if different\n",
    "\n",
    "# Extract the stock ticker and date-related info from cell A1\n",
    "info_A1 = ws_ticker.range('A1').value\n",
    "ticker = info_A1.split(' for ')[1].split(' on ')[0]  # Derive the ticker (e.g., \"NVDA\")\n",
    "date_part = info_A1.split(' on ')[1].split(' ')[0]  # Extract the date\n",
    "\n",
    "# Extract the stock last price from A4\n",
    "stock_last_price = ws_ticker.range('A4').value\n",
    "\n",
    "# Extract the expiration date from cell P10\n",
    "expiration_date_str = ws_ticker.range('P10').value  # Modify this range if the expiration date is stored elsewhere\n",
    "expiration_date = datetime.strptime(expiration_date_str, '%Y-%m-%d')  # Assuming 'YYYY-MM-DD' format\n",
    "expiration_week_title = expiration_date.strftime('for the week of %B %d, %Y')  # Format \"for the week of [date]\"\n",
    "\n",
    "# Define the start row\n",
    "start_row = 10\n",
    "\n",
    "# Automatically detect the last row with useful data (assuming column C reliably contains data)\n",
    "row = start_row\n",
    "while True:\n",
    "    value = ws_ticker.range(f'C{row}').value\n",
    "    if not value:  # Stop when an empty cell is found\n",
    "        end_row = row - 1  # Set the end row to the last non-empty row\n",
    "        break\n",
    "    row += 1\n",
    "\n",
    "print(f\"Start row: {start_row}, End row: {end_row}\")\n",
    "\n",
    "# Initialize lists to store strikes and gamma exposures for Calls and Puts\n",
    "strikes = []\n",
    "call_gamma_exposure_list = []\n",
    "put_gamma_exposure_list = []\n",
    "call_volumes = []\n",
    "put_volumes = []\n",
    "\n",
    "# Loop through each row and extract relevant data for Calls and Puts\n",
    "for row in range(start_row, end_row + 1):\n",
    "    strike_price = ws_ticker.range(f'Q{row}').value\n",
    "    call_gamma = ws_ticker.range(f'I{row}').value\n",
    "    call_open_int = ws_ticker.range(f'K{row}').value\n",
    "    put_gamma = ws_ticker.range(f'AB{row}').value\n",
    "    put_open_int = ws_ticker.range(f'AD{row}').value\n",
    "    call_volume = ws_ticker.range(f'G{row}').value  # Volume for Calls\n",
    "    put_volume = ws_ticker.range(f'Z{row}').value  # Volume for Puts\n",
    "\n",
    "    if call_gamma and call_open_int:\n",
    "        call_gamma_exposure = call_gamma * call_open_int * (stock_last_price)**2 * 0.01\n",
    "    else:\n",
    "        call_gamma_exposure = 0\n",
    "\n",
    "    if put_gamma and put_open_int:\n",
    "        put_gamma_exposure = put_gamma * put_open_int * (stock_last_price)**2 * 0.01 * -1\n",
    "    else:\n",
    "        put_gamma_exposure = 0\n",
    "\n",
    "    strikes.append(strike_price)\n",
    "    call_gamma_exposure_list.append(call_gamma_exposure)\n",
    "    put_gamma_exposure_list.append(put_gamma_exposure)\n",
    "    call_volumes.append(call_volume)\n",
    "    put_volumes.append(put_volume)\n",
    "\n",
    "# Define the ±350 range from the stock last price\n",
    "min_strike = stock_last_price - 50\n",
    "max_strike = stock_last_price + 50\n",
    "\n",
    "# Create a DataFrame\n",
    "df = pd.DataFrame({\n",
    "    'Strike': strikes,\n",
    "    'Call Gamma Exposure': call_gamma_exposure_list,\n",
    "    'Put Gamma Exposure': put_gamma_exposure_list,\n",
    "    'Call Volume': call_volumes,\n",
    "    'Put Volume': put_volumes\n",
    "})\n",
    "\n",
    "# Filter the DataFrame to only show strikes within the ±350 range of stock last price\n",
    "df_filtered = df[(df['Strike'] >= min_strike) & (df['Strike'] <= max_strike)].copy()\n",
    "\n",
    "# Use .loc[] to avoid SettingWithCopyWarning\n",
    "df_filtered.loc[:, 'Total Gamma Exposure'] = df_filtered['Call Gamma Exposure'] + df_filtered['Put Gamma Exposure']\n",
    "\n",
    "# ---- Find Gamma Flip Point ----\n",
    "total_gamma_filtered = df_filtered['Total Gamma Exposure'].values\n",
    "levels_filtered = df_filtered['Strike'].values\n",
    "zero_cross_idx = np.where(np.diff(np.sign(total_gamma_filtered)))[0]\n",
    "\n",
    "# Check if there's any zero-crossing index\n",
    "if zero_cross_idx.size > 0:\n",
    "    # Store potential flip points\n",
    "    flip_points = []\n",
    "    for idx in zero_cross_idx:\n",
    "        neg_gamma = total_gamma_filtered[idx]\n",
    "        pos_gamma = total_gamma_filtered[idx + 1]\n",
    "        neg_strike = levels_filtered[idx]\n",
    "        pos_strike = levels_filtered[idx + 1]\n",
    "\n",
    "        # Linear interpolation to find the exact Gamma Flip point\n",
    "        interpolated_flip = pos_strike - ((pos_strike - neg_strike) * pos_gamma / (pos_gamma - neg_gamma))\n",
    "        flip_points.append(interpolated_flip)\n",
    "\n",
    "    # If multiple flip points, find the one closest to the stock last price\n",
    "    flip_points = np.array(flip_points)\n",
    "    closest_flip_idx = np.argmin(np.abs(flip_points - stock_last_price))\n",
    "    zero_gamma = flip_points[closest_flip_idx]\n",
    "else:\n",
    "    zero_gamma = None\n",
    "    print(\"Warning: No Gamma Flip Point found. Skipping the Gamma Flip line in the chart.\")\n",
    "\n",
    "# ---- Chart Creation Section ----\n",
    "\n",
    "# Initialize the figure\n",
    "fig = go.Figure()\n",
    "\n",
    "# Create the bar chart (Gamma Exposure: Call and Put)\n",
    "bar_chart_call = go.Bar(x=df_filtered['Strike'], y=df_filtered['Call Gamma Exposure'], name='Call Gamma', marker_color='blue')\n",
    "bar_chart_put = go.Bar(x=df_filtered['Strike'], y=df_filtered['Put Gamma Exposure'], name='Put Gamma', marker_color='red')\n",
    "\n",
    "# Create the bar chart (Total Gamma Exposure)\n",
    "bar_chart_total = go.Bar(x=df_filtered['Strike'], y=df_filtered['Total Gamma Exposure'], name='Total Gamma', marker_color='green')\n",
    "\n",
    "# Create the volume distribution chart (Volume by Strike Price)\n",
    "volume_call = go.Bar(x=df_filtered['Strike'], y=df_filtered['Call Volume'], name='Call Volume', marker_color='blue')\n",
    "volume_put = go.Bar(x=df_filtered['Strike'], y=df_filtered['Put Volume'], name='Put Volume', marker_color='red')\n",
    "\n",
    "# Add a vertical line for Stock Last Price\n",
    "y_min = min(df_filtered['Call Gamma Exposure'].min(), df_filtered['Put Gamma Exposure'].min())\n",
    "y_max = max(df_filtered['Call Gamma Exposure'].max(), df_filtered['Put Gamma Exposure'].max())\n",
    "spot_price_line = go.Scatter(\n",
    "    x=[stock_last_price, stock_last_price],  # Constant x (Stock Last Price)\n",
    "    y=[y_min, y_max],  # Updated y-range\n",
    "    mode='lines',\n",
    "    name=f'{ticker} Last Price: {stock_last_price}',\n",
    "    line=dict(color='black', width=3, dash='solid')  # Style the line\n",
    ")\n",
    "\n",
    "# ---- Add Gamma Flip line to all charts ----\n",
    "if zero_gamma:\n",
    "    gamma_flip_line = go.Scatter(\n",
    "        x=[zero_gamma, zero_gamma],  # Constant x (Gamma Flip Strike)\n",
    "        y=[y_min, y_max],  # Updated y-range\n",
    "        mode='lines',\n",
    "        name=f'Gamma Flip: {zero_gamma}',\n",
    "        line=dict(color='purple', width=3, dash='dash')  # Style the line\n",
    "    )\n",
    "\n",
    "# Add traces to the figure\n",
    "fig.add_traces([bar_chart_call, bar_chart_put, volume_call, volume_put, bar_chart_total, spot_price_line])\n",
    "\n",
    "# Add Gamma Flip line to all charts\n",
    "if zero_gamma:\n",
    "    fig.add_trace(gamma_flip_line)\n",
    "\n",
    "# Define the dropdown menu options\n",
    "dropdown_buttons = [\n",
    "    dict(label='Gamma Exposure (Call/Put)',\n",
    "         method='update',\n",
    "         args=[{'visible': [True, True, False, False, False, True]},\n",
    "               {'title': f'Gamma Exposure by Strike Price (Call/Put) - {ticker} - {expiration_week_title}'}]),\n",
    "    dict(label='Total Gamma Exposure',\n",
    "         method='update',\n",
    "         args=[{'visible': [False, False, False, False, True, True]},\n",
    "               {'title': f'Total Gamma Exposure by Strike Price - {ticker} - {expiration_week_title}'}]),\n",
    "    dict(label='Volume Distribution',\n",
    "         method='update',\n",
    "         args=[{'visible': [False, False, True, True, False, True]}, \n",
    "               {'title': f'Volume Distribution by Strike Price - {ticker} - {expiration_week_title}'}]),\n",
    "]\n",
    "\n",
    "# Initialize all traces to be invisible except the default (Call/Put Gamma Exposure bar chart)\n",
    "fig.update_traces(visible=False)\n",
    "fig.data[0].visible = True  # Call Gamma (Bar)\n",
    "fig.data[1].visible = True  # Put Gamma (Bar)\n",
    "fig.data[5].visible = True  # Stock Last Price Line\n",
    "if zero_gamma:\n",
    "    fig.data[-1].visible = True  # Gamma Flip line\n",
    "\n",
    "# Add dropdown menu\n",
    "fig.update_layout(\n",
    "    updatemenus=[go.layout.Updatemenu(\n",
    "        active=0,\n",
    "        buttons=dropdown_buttons,\n",
    "        x=1.15,  # Positioning the dropdown\n",
    "        y=1.15,\n",
    "        xanchor='right'\n",
    "    )]\n",
    ")\n",
    "\n",
    "# Update layout\n",
    "fig.update_layout(\n",
    "    title=f'Gamma Exposure by Strike Price (Call/Put) - {ticker} - {expiration_week_title}',\n",
    "    xaxis_title='Strike Price',\n",
    "    yaxis_title='Gamma Exposure',\n",
    "    barmode='group',\n",
    "    xaxis_tickangle=-45\n",
    ")\n",
    "\n",
    "# Show the figure with dropdown\n",
    "fig.show()\n"
   ]
  }
 ],
 "metadata": {
  "kernelspec": {
   "display_name": "Python 3",
   "language": "python",
   "name": "python3"
  },
  "language_info": {
   "codemirror_mode": {
    "name": "ipython",
    "version": 3
   },
   "file_extension": ".py",
   "mimetype": "text/x-python",
   "name": "python",
   "nbconvert_exporter": "python",
   "pygments_lexer": "ipython3",
   "version": "3.12.5"
  }
 },
 "nbformat": 4,
 "nbformat_minor": 2
}
