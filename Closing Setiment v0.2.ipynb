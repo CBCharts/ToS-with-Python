{
 "cells": [
  {
   "cell_type": "code",
   "execution_count": 1,
   "metadata": {},
   "outputs": [
    {
     "data": {
      "application/vnd.plotly.v1+json": {
       "config": {
        "plotlyServerURL": "https://plot.ly"
       },
       "data": [
        {
         "marker": {
          "color": "blue"
         },
         "name": "Gamma Exposure",
         "type": "bar",
         "x": [
          5485,
          5490,
          5495,
          5500,
          5505,
          5510,
          5520,
          5525,
          5530,
          5540,
          5550,
          5560,
          5570,
          5575,
          5580,
          5585,
          5590,
          5595,
          5600,
          5605,
          5610,
          5615,
          5620,
          5625,
          5630,
          5635,
          5640,
          5645,
          5650,
          5655,
          5660,
          5665,
          5670,
          5675,
          5680,
          5685,
          5690,
          5695,
          5700,
          5705,
          5710,
          5715,
          5720,
          5725,
          5730,
          5735,
          5740,
          5745,
          5750,
          5755,
          5760,
          5765,
          5770,
          5775,
          5780,
          5785,
          5790,
          5795,
          5800,
          5805,
          5810,
          5815,
          5820,
          5825,
          5830,
          5835,
          5840,
          5845,
          5850,
          5855,
          5860,
          5865,
          5870,
          5875,
          5880,
          5885,
          5890,
          5895,
          5900,
          5905,
          5910,
          5915,
          5920,
          5925,
          5930,
          5935,
          5940,
          5945,
          5950,
          5955,
          5960,
          5970,
          5975,
          5980,
          5990,
          6000,
          6010,
          6020,
          6025,
          6030,
          6040,
          6050,
          6060,
          6070,
          6075,
          6080
         ],
         "y": [
          -0.01188357265310375,
          -0.01032671438592738,
          -0.0024254916351288507,
          -0.0225978311570407,
          -0.0022083332931407307,
          -0.0025257185622002912,
          -0.0027729449823098436,
          -0.004710665572357687,
          -0.00209140187822405,
          -0.002071356492809762,
          -0.014572995196187395,
          -0.010751008377196477,
          -0.00839901648858668,
          -0.011031643772996511,
          -0.006033661009700695,
          -0.016818078362587655,
          -0.0269409979968031,
          -0.004560325181750525,
          -0.05157677667096308,
          -0.00881996958228673,
          -0.0025925365135812508,
          -0.005946797672905447,
          -0.014753403664915983,
          -0.056902167396025605,
          -0.009354513193334411,
          -0.023553327861788428,
          -0.030749621225517824,
          -0.01862216304987357,
          -0.09506524032726094,
          -0.020098839775392792,
          -0.015448310359277967,
          -0.018882753060259314,
          -0.06404500639865023,
          -0.06647049803377907,
          -0.042215581682490566,
          -0.020720246723235723,
          -0.13673625570599673,
          -0.0528596813374775,
          -0.031010211235903622,
          -0.010988212104598894,
          0.05871961567358772,
          -0.02886535499657476,
          -0.0374848707247186,
          -0.17024545832354818,
          -0.10046747169641157,
          -0.04082576829376665,
          -0.13731423098544204,
          -0.022865102962564544,
          0.13342208531750108,
          -0.07086043743950816,
          0.13584089515749184,
          0.1575233203806134,
          0.1935782869457794,
          0.746276335383667,
          0.6475461304231603,
          0.3006807812143204,
          0.6406505178406452,
          0.3032866813181778,
          1.7041918499713866,
          0.4952012012745712,
          0.41072994713876165,
          0.5179527137197882,
          0.5220854040127005,
          0.7937972624058057,
          0.3307655638235977,
          0.08847030852596018,
          0.19915090409095149,
          0.13082954880391987,
          0.12732828815155753,
          0.043899394057290764,
          0.06254160249257863,
          0,
          0.02377048620377655,
          0.049445284021910466,
          0.01755975762291631,
          0,
          0.020366111580916633,
          0,
          0.019945158487216584,
          0,
          0.012160867151334733,
          0,
          0.004683938391805302,
          0.007530383120634201,
          0.008292107766377146,
          0,
          0.0031771935881646516,
          0,
          0.00438659850816003,
          0,
          0.0021314926490526263,
          0.0010056101682834491,
          0.004039145160979037,
          0.0034077155204289638,
          0.0016403807064025702,
          0.010814485431008389,
          0.002539082152476483,
          0.00008686333679524809,
          0.00028731719093812836,
          0.00010356782464048812,
          0.0006648386162405529,
          0.0009488149096096331,
          0,
          0,
          0,
          0
         ]
        }
       ],
       "layout": {
        "height": 500,
        "legend": {
         "title": {
          "text": "Legend"
         }
        },
        "shapes": [
         {
          "line": {
           "color": "red",
           "width": 2
          },
          "name": "SPX Spot",
          "type": "line",
          "x0": 5780.0498,
          "x1": 5780.0498,
          "xref": "x",
          "y0": 0,
          "y1": 1,
          "yref": "y domain"
         }
        ],
        "showlegend": true,
        "template": {
         "data": {
          "bar": [
           {
            "error_x": {
             "color": "#2a3f5f"
            },
            "error_y": {
             "color": "#2a3f5f"
            },
            "marker": {
             "line": {
              "color": "#E5ECF6",
              "width": 0.5
             },
             "pattern": {
              "fillmode": "overlay",
              "size": 10,
              "solidity": 0.2
             }
            },
            "type": "bar"
           }
          ],
          "barpolar": [
           {
            "marker": {
             "line": {
              "color": "#E5ECF6",
              "width": 0.5
             },
             "pattern": {
              "fillmode": "overlay",
              "size": 10,
              "solidity": 0.2
             }
            },
            "type": "barpolar"
           }
          ],
          "carpet": [
           {
            "aaxis": {
             "endlinecolor": "#2a3f5f",
             "gridcolor": "white",
             "linecolor": "white",
             "minorgridcolor": "white",
             "startlinecolor": "#2a3f5f"
            },
            "baxis": {
             "endlinecolor": "#2a3f5f",
             "gridcolor": "white",
             "linecolor": "white",
             "minorgridcolor": "white",
             "startlinecolor": "#2a3f5f"
            },
            "type": "carpet"
           }
          ],
          "choropleth": [
           {
            "colorbar": {
             "outlinewidth": 0,
             "ticks": ""
            },
            "type": "choropleth"
           }
          ],
          "contour": [
           {
            "colorbar": {
             "outlinewidth": 0,
             "ticks": ""
            },
            "colorscale": [
             [
              0,
              "#0d0887"
             ],
             [
              0.1111111111111111,
              "#46039f"
             ],
             [
              0.2222222222222222,
              "#7201a8"
             ],
             [
              0.3333333333333333,
              "#9c179e"
             ],
             [
              0.4444444444444444,
              "#bd3786"
             ],
             [
              0.5555555555555556,
              "#d8576b"
             ],
             [
              0.6666666666666666,
              "#ed7953"
             ],
             [
              0.7777777777777778,
              "#fb9f3a"
             ],
             [
              0.8888888888888888,
              "#fdca26"
             ],
             [
              1,
              "#f0f921"
             ]
            ],
            "type": "contour"
           }
          ],
          "contourcarpet": [
           {
            "colorbar": {
             "outlinewidth": 0,
             "ticks": ""
            },
            "type": "contourcarpet"
           }
          ],
          "heatmap": [
           {
            "colorbar": {
             "outlinewidth": 0,
             "ticks": ""
            },
            "colorscale": [
             [
              0,
              "#0d0887"
             ],
             [
              0.1111111111111111,
              "#46039f"
             ],
             [
              0.2222222222222222,
              "#7201a8"
             ],
             [
              0.3333333333333333,
              "#9c179e"
             ],
             [
              0.4444444444444444,
              "#bd3786"
             ],
             [
              0.5555555555555556,
              "#d8576b"
             ],
             [
              0.6666666666666666,
              "#ed7953"
             ],
             [
              0.7777777777777778,
              "#fb9f3a"
             ],
             [
              0.8888888888888888,
              "#fdca26"
             ],
             [
              1,
              "#f0f921"
             ]
            ],
            "type": "heatmap"
           }
          ],
          "heatmapgl": [
           {
            "colorbar": {
             "outlinewidth": 0,
             "ticks": ""
            },
            "colorscale": [
             [
              0,
              "#0d0887"
             ],
             [
              0.1111111111111111,
              "#46039f"
             ],
             [
              0.2222222222222222,
              "#7201a8"
             ],
             [
              0.3333333333333333,
              "#9c179e"
             ],
             [
              0.4444444444444444,
              "#bd3786"
             ],
             [
              0.5555555555555556,
              "#d8576b"
             ],
             [
              0.6666666666666666,
              "#ed7953"
             ],
             [
              0.7777777777777778,
              "#fb9f3a"
             ],
             [
              0.8888888888888888,
              "#fdca26"
             ],
             [
              1,
              "#f0f921"
             ]
            ],
            "type": "heatmapgl"
           }
          ],
          "histogram": [
           {
            "marker": {
             "pattern": {
              "fillmode": "overlay",
              "size": 10,
              "solidity": 0.2
             }
            },
            "type": "histogram"
           }
          ],
          "histogram2d": [
           {
            "colorbar": {
             "outlinewidth": 0,
             "ticks": ""
            },
            "colorscale": [
             [
              0,
              "#0d0887"
             ],
             [
              0.1111111111111111,
              "#46039f"
             ],
             [
              0.2222222222222222,
              "#7201a8"
             ],
             [
              0.3333333333333333,
              "#9c179e"
             ],
             [
              0.4444444444444444,
              "#bd3786"
             ],
             [
              0.5555555555555556,
              "#d8576b"
             ],
             [
              0.6666666666666666,
              "#ed7953"
             ],
             [
              0.7777777777777778,
              "#fb9f3a"
             ],
             [
              0.8888888888888888,
              "#fdca26"
             ],
             [
              1,
              "#f0f921"
             ]
            ],
            "type": "histogram2d"
           }
          ],
          "histogram2dcontour": [
           {
            "colorbar": {
             "outlinewidth": 0,
             "ticks": ""
            },
            "colorscale": [
             [
              0,
              "#0d0887"
             ],
             [
              0.1111111111111111,
              "#46039f"
             ],
             [
              0.2222222222222222,
              "#7201a8"
             ],
             [
              0.3333333333333333,
              "#9c179e"
             ],
             [
              0.4444444444444444,
              "#bd3786"
             ],
             [
              0.5555555555555556,
              "#d8576b"
             ],
             [
              0.6666666666666666,
              "#ed7953"
             ],
             [
              0.7777777777777778,
              "#fb9f3a"
             ],
             [
              0.8888888888888888,
              "#fdca26"
             ],
             [
              1,
              "#f0f921"
             ]
            ],
            "type": "histogram2dcontour"
           }
          ],
          "mesh3d": [
           {
            "colorbar": {
             "outlinewidth": 0,
             "ticks": ""
            },
            "type": "mesh3d"
           }
          ],
          "parcoords": [
           {
            "line": {
             "colorbar": {
              "outlinewidth": 0,
              "ticks": ""
             }
            },
            "type": "parcoords"
           }
          ],
          "pie": [
           {
            "automargin": true,
            "type": "pie"
           }
          ],
          "scatter": [
           {
            "fillpattern": {
             "fillmode": "overlay",
             "size": 10,
             "solidity": 0.2
            },
            "type": "scatter"
           }
          ],
          "scatter3d": [
           {
            "line": {
             "colorbar": {
              "outlinewidth": 0,
              "ticks": ""
             }
            },
            "marker": {
             "colorbar": {
              "outlinewidth": 0,
              "ticks": ""
             }
            },
            "type": "scatter3d"
           }
          ],
          "scattercarpet": [
           {
            "marker": {
             "colorbar": {
              "outlinewidth": 0,
              "ticks": ""
             }
            },
            "type": "scattercarpet"
           }
          ],
          "scattergeo": [
           {
            "marker": {
             "colorbar": {
              "outlinewidth": 0,
              "ticks": ""
             }
            },
            "type": "scattergeo"
           }
          ],
          "scattergl": [
           {
            "marker": {
             "colorbar": {
              "outlinewidth": 0,
              "ticks": ""
             }
            },
            "type": "scattergl"
           }
          ],
          "scattermapbox": [
           {
            "marker": {
             "colorbar": {
              "outlinewidth": 0,
              "ticks": ""
             }
            },
            "type": "scattermapbox"
           }
          ],
          "scatterpolar": [
           {
            "marker": {
             "colorbar": {
              "outlinewidth": 0,
              "ticks": ""
             }
            },
            "type": "scatterpolar"
           }
          ],
          "scatterpolargl": [
           {
            "marker": {
             "colorbar": {
              "outlinewidth": 0,
              "ticks": ""
             }
            },
            "type": "scatterpolargl"
           }
          ],
          "scatterternary": [
           {
            "marker": {
             "colorbar": {
              "outlinewidth": 0,
              "ticks": ""
             }
            },
            "type": "scatterternary"
           }
          ],
          "surface": [
           {
            "colorbar": {
             "outlinewidth": 0,
             "ticks": ""
            },
            "colorscale": [
             [
              0,
              "#0d0887"
             ],
             [
              0.1111111111111111,
              "#46039f"
             ],
             [
              0.2222222222222222,
              "#7201a8"
             ],
             [
              0.3333333333333333,
              "#9c179e"
             ],
             [
              0.4444444444444444,
              "#bd3786"
             ],
             [
              0.5555555555555556,
              "#d8576b"
             ],
             [
              0.6666666666666666,
              "#ed7953"
             ],
             [
              0.7777777777777778,
              "#fb9f3a"
             ],
             [
              0.8888888888888888,
              "#fdca26"
             ],
             [
              1,
              "#f0f921"
             ]
            ],
            "type": "surface"
           }
          ],
          "table": [
           {
            "cells": {
             "fill": {
              "color": "#EBF0F8"
             },
             "line": {
              "color": "white"
             }
            },
            "header": {
             "fill": {
              "color": "#C8D4E3"
             },
             "line": {
              "color": "white"
             }
            },
            "type": "table"
           }
          ]
         },
         "layout": {
          "annotationdefaults": {
           "arrowcolor": "#2a3f5f",
           "arrowhead": 0,
           "arrowwidth": 1
          },
          "autotypenumbers": "strict",
          "coloraxis": {
           "colorbar": {
            "outlinewidth": 0,
            "ticks": ""
           }
          },
          "colorscale": {
           "diverging": [
            [
             0,
             "#8e0152"
            ],
            [
             0.1,
             "#c51b7d"
            ],
            [
             0.2,
             "#de77ae"
            ],
            [
             0.3,
             "#f1b6da"
            ],
            [
             0.4,
             "#fde0ef"
            ],
            [
             0.5,
             "#f7f7f7"
            ],
            [
             0.6,
             "#e6f5d0"
            ],
            [
             0.7,
             "#b8e186"
            ],
            [
             0.8,
             "#7fbc41"
            ],
            [
             0.9,
             "#4d9221"
            ],
            [
             1,
             "#276419"
            ]
           ],
           "sequential": [
            [
             0,
             "#0d0887"
            ],
            [
             0.1111111111111111,
             "#46039f"
            ],
            [
             0.2222222222222222,
             "#7201a8"
            ],
            [
             0.3333333333333333,
             "#9c179e"
            ],
            [
             0.4444444444444444,
             "#bd3786"
            ],
            [
             0.5555555555555556,
             "#d8576b"
            ],
            [
             0.6666666666666666,
             "#ed7953"
            ],
            [
             0.7777777777777778,
             "#fb9f3a"
            ],
            [
             0.8888888888888888,
             "#fdca26"
            ],
            [
             1,
             "#f0f921"
            ]
           ],
           "sequentialminus": [
            [
             0,
             "#0d0887"
            ],
            [
             0.1111111111111111,
             "#46039f"
            ],
            [
             0.2222222222222222,
             "#7201a8"
            ],
            [
             0.3333333333333333,
             "#9c179e"
            ],
            [
             0.4444444444444444,
             "#bd3786"
            ],
            [
             0.5555555555555556,
             "#d8576b"
            ],
            [
             0.6666666666666666,
             "#ed7953"
            ],
            [
             0.7777777777777778,
             "#fb9f3a"
            ],
            [
             0.8888888888888888,
             "#fdca26"
            ],
            [
             1,
             "#f0f921"
            ]
           ]
          },
          "colorway": [
           "#636efa",
           "#EF553B",
           "#00cc96",
           "#ab63fa",
           "#FFA15A",
           "#19d3f3",
           "#FF6692",
           "#B6E880",
           "#FF97FF",
           "#FECB52"
          ],
          "font": {
           "color": "#2a3f5f"
          },
          "geo": {
           "bgcolor": "white",
           "lakecolor": "white",
           "landcolor": "#E5ECF6",
           "showlakes": true,
           "showland": true,
           "subunitcolor": "white"
          },
          "hoverlabel": {
           "align": "left"
          },
          "hovermode": "closest",
          "mapbox": {
           "style": "light"
          },
          "paper_bgcolor": "white",
          "plot_bgcolor": "#E5ECF6",
          "polar": {
           "angularaxis": {
            "gridcolor": "white",
            "linecolor": "white",
            "ticks": ""
           },
           "bgcolor": "#E5ECF6",
           "radialaxis": {
            "gridcolor": "white",
            "linecolor": "white",
            "ticks": ""
           }
          },
          "scene": {
           "xaxis": {
            "backgroundcolor": "#E5ECF6",
            "gridcolor": "white",
            "gridwidth": 2,
            "linecolor": "white",
            "showbackground": true,
            "ticks": "",
            "zerolinecolor": "white"
           },
           "yaxis": {
            "backgroundcolor": "#E5ECF6",
            "gridcolor": "white",
            "gridwidth": 2,
            "linecolor": "white",
            "showbackground": true,
            "ticks": "",
            "zerolinecolor": "white"
           },
           "zaxis": {
            "backgroundcolor": "#E5ECF6",
            "gridcolor": "white",
            "gridwidth": 2,
            "linecolor": "white",
            "showbackground": true,
            "ticks": "",
            "zerolinecolor": "white"
           }
          },
          "shapedefaults": {
           "line": {
            "color": "#2a3f5f"
           }
          },
          "ternary": {
           "aaxis": {
            "gridcolor": "white",
            "linecolor": "white",
            "ticks": ""
           },
           "baxis": {
            "gridcolor": "white",
            "linecolor": "white",
            "ticks": ""
           },
           "bgcolor": "#E5ECF6",
           "caxis": {
            "gridcolor": "white",
            "linecolor": "white",
            "ticks": ""
           }
          },
          "title": {
           "x": 0.05
          },
          "xaxis": {
           "automargin": true,
           "gridcolor": "white",
           "linecolor": "white",
           "ticks": "",
           "title": {
            "standoff": 15
           },
           "zerolinecolor": "white",
           "zerolinewidth": 2
          },
          "yaxis": {
           "automargin": true,
           "gridcolor": "white",
           "linecolor": "white",
           "ticks": "",
           "title": {
            "standoff": 15
           },
           "zerolinecolor": "white",
           "zerolinewidth": 2
          }
         }
        },
        "title": {
         "text": "Total Gamma: $7.27 Bn per 1% SPX Move"
        },
        "width": 900,
        "xaxis": {
         "range": [
          5480.0498,
          6080.0498
         ],
         "title": {
          "text": "Strike"
         }
        },
        "yaxis": {
         "title": {
          "text": "Spot Gamma Exposure ($ billions/1% move)"
         }
        }
       }
      }
     },
     "metadata": {},
     "output_type": "display_data"
    },
    {
     "data": {
      "application/vnd.plotly.v1+json": {
       "config": {
        "plotlyServerURL": "https://plot.ly"
       },
       "data": [
        {
         "mode": "lines",
         "name": "1DTE Gamma Exposure",
         "type": "scatter",
         "x": [
          4624.03984,
          4663.226618305085,
          4702.41339661017,
          4741.600174915255,
          4780.7869532203395,
          4819.973731525424,
          4859.160509830509,
          4898.347288135594,
          4937.5340664406785,
          4976.720844745763,
          5015.907623050847,
          5055.094401355932,
          5094.281179661017,
          5133.4679579661015,
          5172.654736271186,
          5211.841514576271,
          5251.028292881356,
          5290.215071186441,
          5329.401849491525,
          5368.58862779661,
          5407.775406101695,
          5446.96218440678,
          5486.148962711864,
          5525.335741016949,
          5564.522519322034,
          5603.709297627119,
          5642.8960759322035,
          5682.082854237287,
          5721.269632542373,
          5760.456410847457,
          5799.643189152542,
          5838.8299674576265,
          5878.016745762711,
          5917.203524067796,
          5956.390302372881,
          5995.577080677966,
          6034.76385898305,
          6073.950637288135,
          6113.13741559322,
          6152.324193898305,
          6191.510972203389,
          6230.697750508474,
          6269.884528813559,
          6309.071307118644,
          6348.258085423728,
          6387.444863728813,
          6426.631642033897,
          6465.818420338983,
          6505.005198644067,
          6544.1919769491515,
          6583.378755254236,
          6622.565533559321,
          6661.752311864406,
          6700.939090169491,
          6740.125868474575,
          6779.31264677966,
          6818.499425084745,
          6857.68620338983,
          6896.872981694914,
          6936.059759999999
         ],
         "y": [
          -5.568244861566086,
          -5.794439348843941,
          -5.983212693277884,
          -6.138301198117308,
          -6.266763988395504,
          -6.378485787441356,
          -6.485203328141745,
          -6.5990982488437195,
          -6.731115428635076,
          -6.889291166793924,
          -7.077473566368836,
          -7.294842123131342,
          -7.536539795860633,
          -7.795481052965467,
          -8.064948990008533,
          -8.340877694658278,
          -8.621826284461573,
          -8.904494387974445,
          -9.175433856369098,
          -9.406735454649942,
          -9.569041056184636,
          -9.664395659616568,
          -9.749713620197557,
          -9.901415322780485,
          -10.107140743767754,
          -10.144135499598427,
          -9.568556910261055,
          -7.832182935666769,
          -4.133106765867065,
          2.236154349863024,
          9.519215200752592,
          13.151386047030673,
          10.847277616010487,
          6.638123922622624,
          4.194387019696644,
          2.9491023535986294,
          2.088082222537432,
          1.4050226542150288,
          0.9166379755987687,
          0.6256804992412238,
          0.47118707688006556,
          0.3818592556627788,
          0.3144264532641821,
          0.2530283655748833,
          0.19582801157458976,
          0.14534465676087388,
          0.10398609938919925,
          0.07256289884989911,
          0.05028847426172237,
          0.03541321077063647,
          0.025931318829516062,
          0.020064931681537418,
          0.016468453282994476,
          0.014230797890783324,
          0.01278238336944379,
          0.011785167160163102,
          0.01104349074525698,
          0.010444332679994634,
          0.009921788249250928,
          0.009437383162210699
         ]
        },
        {
         "hovertemplate": "SPX Spot Price: 5780",
         "line": {
          "color": "red",
          "width": 2
         },
         "mode": "lines",
         "name": "SPX Spot: 5780",
         "type": "scatter",
         "x": [
          5780.0498,
          5780.0498
         ],
         "y": [
          -10.644135499598427,
          13.651386047030673
         ]
        },
        {
         "hovertemplate": "Gamma Flip Point: 5747",
         "line": {
          "color": "black",
          "width": 2
         },
         "mode": "lines",
         "name": "Gamma Flip Point: 5747",
         "type": "scatter",
         "x": [
          5746.698506567537,
          5746.698506567537
         ],
         "y": [
          -10.644135499598427,
          13.651386047030673
         ]
        }
       ],
       "layout": {
        "height": 500,
        "plot_bgcolor": "rgba(255, 255, 255, 1)",
        "shapes": [
         {
          "fillcolor": "rgba(255, 192, 203, 0.2)",
          "line": {
           "width": 0
          },
          "type": "rect",
          "x0": 4624.03984,
          "x1": 5746.698506567537,
          "y0": -10,
          "y1": 10
         },
         {
          "fillcolor": "rgba(144, 238, 144, 0.2)",
          "line": {
           "width": 0
          },
          "type": "rect",
          "x0": 5746.698506567537,
          "x1": 6936.059759999999,
          "y0": -10,
          "y1": 10
         }
        ],
        "template": {
         "data": {
          "bar": [
           {
            "error_x": {
             "color": "#2a3f5f"
            },
            "error_y": {
             "color": "#2a3f5f"
            },
            "marker": {
             "line": {
              "color": "#E5ECF6",
              "width": 0.5
             },
             "pattern": {
              "fillmode": "overlay",
              "size": 10,
              "solidity": 0.2
             }
            },
            "type": "bar"
           }
          ],
          "barpolar": [
           {
            "marker": {
             "line": {
              "color": "#E5ECF6",
              "width": 0.5
             },
             "pattern": {
              "fillmode": "overlay",
              "size": 10,
              "solidity": 0.2
             }
            },
            "type": "barpolar"
           }
          ],
          "carpet": [
           {
            "aaxis": {
             "endlinecolor": "#2a3f5f",
             "gridcolor": "white",
             "linecolor": "white",
             "minorgridcolor": "white",
             "startlinecolor": "#2a3f5f"
            },
            "baxis": {
             "endlinecolor": "#2a3f5f",
             "gridcolor": "white",
             "linecolor": "white",
             "minorgridcolor": "white",
             "startlinecolor": "#2a3f5f"
            },
            "type": "carpet"
           }
          ],
          "choropleth": [
           {
            "colorbar": {
             "outlinewidth": 0,
             "ticks": ""
            },
            "type": "choropleth"
           }
          ],
          "contour": [
           {
            "colorbar": {
             "outlinewidth": 0,
             "ticks": ""
            },
            "colorscale": [
             [
              0,
              "#0d0887"
             ],
             [
              0.1111111111111111,
              "#46039f"
             ],
             [
              0.2222222222222222,
              "#7201a8"
             ],
             [
              0.3333333333333333,
              "#9c179e"
             ],
             [
              0.4444444444444444,
              "#bd3786"
             ],
             [
              0.5555555555555556,
              "#d8576b"
             ],
             [
              0.6666666666666666,
              "#ed7953"
             ],
             [
              0.7777777777777778,
              "#fb9f3a"
             ],
             [
              0.8888888888888888,
              "#fdca26"
             ],
             [
              1,
              "#f0f921"
             ]
            ],
            "type": "contour"
           }
          ],
          "contourcarpet": [
           {
            "colorbar": {
             "outlinewidth": 0,
             "ticks": ""
            },
            "type": "contourcarpet"
           }
          ],
          "heatmap": [
           {
            "colorbar": {
             "outlinewidth": 0,
             "ticks": ""
            },
            "colorscale": [
             [
              0,
              "#0d0887"
             ],
             [
              0.1111111111111111,
              "#46039f"
             ],
             [
              0.2222222222222222,
              "#7201a8"
             ],
             [
              0.3333333333333333,
              "#9c179e"
             ],
             [
              0.4444444444444444,
              "#bd3786"
             ],
             [
              0.5555555555555556,
              "#d8576b"
             ],
             [
              0.6666666666666666,
              "#ed7953"
             ],
             [
              0.7777777777777778,
              "#fb9f3a"
             ],
             [
              0.8888888888888888,
              "#fdca26"
             ],
             [
              1,
              "#f0f921"
             ]
            ],
            "type": "heatmap"
           }
          ],
          "heatmapgl": [
           {
            "colorbar": {
             "outlinewidth": 0,
             "ticks": ""
            },
            "colorscale": [
             [
              0,
              "#0d0887"
             ],
             [
              0.1111111111111111,
              "#46039f"
             ],
             [
              0.2222222222222222,
              "#7201a8"
             ],
             [
              0.3333333333333333,
              "#9c179e"
             ],
             [
              0.4444444444444444,
              "#bd3786"
             ],
             [
              0.5555555555555556,
              "#d8576b"
             ],
             [
              0.6666666666666666,
              "#ed7953"
             ],
             [
              0.7777777777777778,
              "#fb9f3a"
             ],
             [
              0.8888888888888888,
              "#fdca26"
             ],
             [
              1,
              "#f0f921"
             ]
            ],
            "type": "heatmapgl"
           }
          ],
          "histogram": [
           {
            "marker": {
             "pattern": {
              "fillmode": "overlay",
              "size": 10,
              "solidity": 0.2
             }
            },
            "type": "histogram"
           }
          ],
          "histogram2d": [
           {
            "colorbar": {
             "outlinewidth": 0,
             "ticks": ""
            },
            "colorscale": [
             [
              0,
              "#0d0887"
             ],
             [
              0.1111111111111111,
              "#46039f"
             ],
             [
              0.2222222222222222,
              "#7201a8"
             ],
             [
              0.3333333333333333,
              "#9c179e"
             ],
             [
              0.4444444444444444,
              "#bd3786"
             ],
             [
              0.5555555555555556,
              "#d8576b"
             ],
             [
              0.6666666666666666,
              "#ed7953"
             ],
             [
              0.7777777777777778,
              "#fb9f3a"
             ],
             [
              0.8888888888888888,
              "#fdca26"
             ],
             [
              1,
              "#f0f921"
             ]
            ],
            "type": "histogram2d"
           }
          ],
          "histogram2dcontour": [
           {
            "colorbar": {
             "outlinewidth": 0,
             "ticks": ""
            },
            "colorscale": [
             [
              0,
              "#0d0887"
             ],
             [
              0.1111111111111111,
              "#46039f"
             ],
             [
              0.2222222222222222,
              "#7201a8"
             ],
             [
              0.3333333333333333,
              "#9c179e"
             ],
             [
              0.4444444444444444,
              "#bd3786"
             ],
             [
              0.5555555555555556,
              "#d8576b"
             ],
             [
              0.6666666666666666,
              "#ed7953"
             ],
             [
              0.7777777777777778,
              "#fb9f3a"
             ],
             [
              0.8888888888888888,
              "#fdca26"
             ],
             [
              1,
              "#f0f921"
             ]
            ],
            "type": "histogram2dcontour"
           }
          ],
          "mesh3d": [
           {
            "colorbar": {
             "outlinewidth": 0,
             "ticks": ""
            },
            "type": "mesh3d"
           }
          ],
          "parcoords": [
           {
            "line": {
             "colorbar": {
              "outlinewidth": 0,
              "ticks": ""
             }
            },
            "type": "parcoords"
           }
          ],
          "pie": [
           {
            "automargin": true,
            "type": "pie"
           }
          ],
          "scatter": [
           {
            "fillpattern": {
             "fillmode": "overlay",
             "size": 10,
             "solidity": 0.2
            },
            "type": "scatter"
           }
          ],
          "scatter3d": [
           {
            "line": {
             "colorbar": {
              "outlinewidth": 0,
              "ticks": ""
             }
            },
            "marker": {
             "colorbar": {
              "outlinewidth": 0,
              "ticks": ""
             }
            },
            "type": "scatter3d"
           }
          ],
          "scattercarpet": [
           {
            "marker": {
             "colorbar": {
              "outlinewidth": 0,
              "ticks": ""
             }
            },
            "type": "scattercarpet"
           }
          ],
          "scattergeo": [
           {
            "marker": {
             "colorbar": {
              "outlinewidth": 0,
              "ticks": ""
             }
            },
            "type": "scattergeo"
           }
          ],
          "scattergl": [
           {
            "marker": {
             "colorbar": {
              "outlinewidth": 0,
              "ticks": ""
             }
            },
            "type": "scattergl"
           }
          ],
          "scattermapbox": [
           {
            "marker": {
             "colorbar": {
              "outlinewidth": 0,
              "ticks": ""
             }
            },
            "type": "scattermapbox"
           }
          ],
          "scatterpolar": [
           {
            "marker": {
             "colorbar": {
              "outlinewidth": 0,
              "ticks": ""
             }
            },
            "type": "scatterpolar"
           }
          ],
          "scatterpolargl": [
           {
            "marker": {
             "colorbar": {
              "outlinewidth": 0,
              "ticks": ""
             }
            },
            "type": "scatterpolargl"
           }
          ],
          "scatterternary": [
           {
            "marker": {
             "colorbar": {
              "outlinewidth": 0,
              "ticks": ""
             }
            },
            "type": "scatterternary"
           }
          ],
          "surface": [
           {
            "colorbar": {
             "outlinewidth": 0,
             "ticks": ""
            },
            "colorscale": [
             [
              0,
              "#0d0887"
             ],
             [
              0.1111111111111111,
              "#46039f"
             ],
             [
              0.2222222222222222,
              "#7201a8"
             ],
             [
              0.3333333333333333,
              "#9c179e"
             ],
             [
              0.4444444444444444,
              "#bd3786"
             ],
             [
              0.5555555555555556,
              "#d8576b"
             ],
             [
              0.6666666666666666,
              "#ed7953"
             ],
             [
              0.7777777777777778,
              "#fb9f3a"
             ],
             [
              0.8888888888888888,
              "#fdca26"
             ],
             [
              1,
              "#f0f921"
             ]
            ],
            "type": "surface"
           }
          ],
          "table": [
           {
            "cells": {
             "fill": {
              "color": "#EBF0F8"
             },
             "line": {
              "color": "white"
             }
            },
            "header": {
             "fill": {
              "color": "#C8D4E3"
             },
             "line": {
              "color": "white"
             }
            },
            "type": "table"
           }
          ]
         },
         "layout": {
          "annotationdefaults": {
           "arrowcolor": "#2a3f5f",
           "arrowhead": 0,
           "arrowwidth": 1
          },
          "autotypenumbers": "strict",
          "coloraxis": {
           "colorbar": {
            "outlinewidth": 0,
            "ticks": ""
           }
          },
          "colorscale": {
           "diverging": [
            [
             0,
             "#8e0152"
            ],
            [
             0.1,
             "#c51b7d"
            ],
            [
             0.2,
             "#de77ae"
            ],
            [
             0.3,
             "#f1b6da"
            ],
            [
             0.4,
             "#fde0ef"
            ],
            [
             0.5,
             "#f7f7f7"
            ],
            [
             0.6,
             "#e6f5d0"
            ],
            [
             0.7,
             "#b8e186"
            ],
            [
             0.8,
             "#7fbc41"
            ],
            [
             0.9,
             "#4d9221"
            ],
            [
             1,
             "#276419"
            ]
           ],
           "sequential": [
            [
             0,
             "#0d0887"
            ],
            [
             0.1111111111111111,
             "#46039f"
            ],
            [
             0.2222222222222222,
             "#7201a8"
            ],
            [
             0.3333333333333333,
             "#9c179e"
            ],
            [
             0.4444444444444444,
             "#bd3786"
            ],
            [
             0.5555555555555556,
             "#d8576b"
            ],
            [
             0.6666666666666666,
             "#ed7953"
            ],
            [
             0.7777777777777778,
             "#fb9f3a"
            ],
            [
             0.8888888888888888,
             "#fdca26"
            ],
            [
             1,
             "#f0f921"
            ]
           ],
           "sequentialminus": [
            [
             0,
             "#0d0887"
            ],
            [
             0.1111111111111111,
             "#46039f"
            ],
            [
             0.2222222222222222,
             "#7201a8"
            ],
            [
             0.3333333333333333,
             "#9c179e"
            ],
            [
             0.4444444444444444,
             "#bd3786"
            ],
            [
             0.5555555555555556,
             "#d8576b"
            ],
            [
             0.6666666666666666,
             "#ed7953"
            ],
            [
             0.7777777777777778,
             "#fb9f3a"
            ],
            [
             0.8888888888888888,
             "#fdca26"
            ],
            [
             1,
             "#f0f921"
            ]
           ]
          },
          "colorway": [
           "#636efa",
           "#EF553B",
           "#00cc96",
           "#ab63fa",
           "#FFA15A",
           "#19d3f3",
           "#FF6692",
           "#B6E880",
           "#FF97FF",
           "#FECB52"
          ],
          "font": {
           "color": "#2a3f5f"
          },
          "geo": {
           "bgcolor": "white",
           "lakecolor": "white",
           "landcolor": "#E5ECF6",
           "showlakes": true,
           "showland": true,
           "subunitcolor": "white"
          },
          "hoverlabel": {
           "align": "left"
          },
          "hovermode": "closest",
          "mapbox": {
           "style": "light"
          },
          "paper_bgcolor": "white",
          "plot_bgcolor": "#E5ECF6",
          "polar": {
           "angularaxis": {
            "gridcolor": "white",
            "linecolor": "white",
            "ticks": ""
           },
           "bgcolor": "#E5ECF6",
           "radialaxis": {
            "gridcolor": "white",
            "linecolor": "white",
            "ticks": ""
           }
          },
          "scene": {
           "xaxis": {
            "backgroundcolor": "#E5ECF6",
            "gridcolor": "white",
            "gridwidth": 2,
            "linecolor": "white",
            "showbackground": true,
            "ticks": "",
            "zerolinecolor": "white"
           },
           "yaxis": {
            "backgroundcolor": "#E5ECF6",
            "gridcolor": "white",
            "gridwidth": 2,
            "linecolor": "white",
            "showbackground": true,
            "ticks": "",
            "zerolinecolor": "white"
           },
           "zaxis": {
            "backgroundcolor": "#E5ECF6",
            "gridcolor": "white",
            "gridwidth": 2,
            "linecolor": "white",
            "showbackground": true,
            "ticks": "",
            "zerolinecolor": "white"
           }
          },
          "shapedefaults": {
           "line": {
            "color": "#2a3f5f"
           }
          },
          "ternary": {
           "aaxis": {
            "gridcolor": "white",
            "linecolor": "white",
            "ticks": ""
           },
           "baxis": {
            "gridcolor": "white",
            "linecolor": "white",
            "ticks": ""
           },
           "bgcolor": "#E5ECF6",
           "caxis": {
            "gridcolor": "white",
            "linecolor": "white",
            "ticks": ""
           }
          },
          "title": {
           "x": 0.05
          },
          "xaxis": {
           "automargin": true,
           "gridcolor": "white",
           "linecolor": "white",
           "ticks": "",
           "title": {
            "standoff": 15
           },
           "zerolinecolor": "white",
           "zerolinewidth": 2
          },
          "yaxis": {
           "automargin": true,
           "gridcolor": "white",
           "linecolor": "white",
           "ticks": "",
           "title": {
            "standoff": 15
           },
           "zerolinecolor": "white",
           "zerolinewidth": 2
          }
         }
        },
        "title": {
         "text": "Gamma Exposure Profile, SPX (1DTE), 10 Oct 2024"
        },
        "width": 900,
        "xaxis": {
         "range": [
          4624.03984,
          6936.059759999999
         ],
         "title": {
          "text": "Index Price"
         }
        },
        "yaxis": {
         "range": [
          -10.644135499598427,
          13.651386047030673
         ],
         "title": {
          "text": "Gamma Exposure ($ billions/1% move)"
         }
        }
       }
      }
     },
     "metadata": {},
     "output_type": "display_data"
    },
    {
     "data": {
      "application/vnd.plotly.v1+json": {
       "config": {
        "plotlyServerURL": "https://plot.ly"
       },
       "data": [
        {
         "marker": {
          "color": "blue"
         },
         "name": "Gamma Exposure",
         "type": "bar",
         "x": [
          5485,
          5490,
          5495,
          5500,
          5505,
          5510,
          5520,
          5525,
          5530,
          5540,
          5550,
          5560,
          5570,
          5575,
          5580,
          5585,
          5590,
          5595,
          5600,
          5605,
          5610,
          5615,
          5620,
          5625,
          5630,
          5635,
          5640,
          5645,
          5650,
          5655,
          5660,
          5665,
          5670,
          5675,
          5680,
          5685,
          5690,
          5695,
          5700,
          5705,
          5710,
          5715,
          5720,
          5725,
          5730,
          5735,
          5740,
          5745,
          5750,
          5755,
          5760,
          5765,
          5770,
          5775,
          5780,
          5785,
          5790,
          5795,
          5800,
          5805,
          5810,
          5815,
          5820,
          5825,
          5830,
          5835,
          5840,
          5845,
          5850,
          5855,
          5860,
          5865,
          5870,
          5875,
          5880,
          5885,
          5890,
          5895,
          5900,
          5905,
          5910,
          5915,
          5920,
          5925,
          5930,
          5935,
          5940,
          5945,
          5950,
          5955,
          5960,
          5970,
          5975,
          5980,
          5990,
          6000,
          6010,
          6020,
          6025,
          6030,
          6040,
          6050,
          6060,
          6070,
          6075,
          6080
         ],
         "y": [
          -0.01188357265310375,
          -0.01032671438592738,
          -0.0024254916351288507,
          -0.0225978311570407,
          -0.0022083332931407307,
          -0.0025257185622002912,
          -0.0027729449823098436,
          -0.004710665572357687,
          -0.00209140187822405,
          -0.002071356492809762,
          -0.014572995196187395,
          -0.010751008377196477,
          -0.00839901648858668,
          -0.011031643772996511,
          -0.006033661009700695,
          -0.016818078362587655,
          -0.0269409979968031,
          -0.004560325181750525,
          -0.05157677667096308,
          -0.00881996958228673,
          -0.0025925365135812508,
          -0.005946797672905447,
          -0.014753403664915983,
          -0.056902167396025605,
          -0.009354513193334411,
          -0.023553327861788428,
          -0.030749621225517824,
          -0.01862216304987357,
          -0.09506524032726094,
          -0.020098839775392792,
          -0.015448310359277967,
          -0.018882753060259314,
          -0.06404500639865023,
          -0.06647049803377907,
          -0.042215581682490566,
          -0.020720246723235723,
          -0.13673625570599673,
          -0.0528596813374775,
          -0.031010211235903622,
          -0.010988212104598894,
          0.05871961567358772,
          -0.02886535499657476,
          -0.0374848707247186,
          -0.17024545832354818,
          -0.10046747169641157,
          -0.04082576829376665,
          -0.13731423098544204,
          -0.022865102962564544,
          0.13342208531750108,
          -0.07086043743950816,
          0.13584089515749184,
          0.1575233203806134,
          0.1935782869457794,
          0.746276335383667,
          0.6475461304231603,
          0.3006807812143204,
          0.6406505178406452,
          0.3032866813181778,
          1.7041918499713866,
          0.4952012012745712,
          0.41072994713876165,
          0.5179527137197882,
          0.5220854040127005,
          0.7937972624058057,
          0.3307655638235977,
          0.08847030852596018,
          0.19915090409095149,
          0.13082954880391987,
          0.12732828815155753,
          0.043899394057290764,
          0.06254160249257863,
          0,
          0.02377048620377655,
          0.049445284021910466,
          0.01755975762291631,
          0,
          0.020366111580916633,
          0,
          0.019945158487216584,
          0,
          0.012160867151334733,
          0,
          0.004683938391805302,
          0.007530383120634201,
          0.008292107766377146,
          0,
          0.0031771935881646516,
          0,
          0.00438659850816003,
          0,
          0.0021314926490526263,
          0.0010056101682834491,
          0.004039145160979037,
          0.0034077155204289638,
          0.0016403807064025702,
          0.010814485431008389,
          0.002539082152476483,
          0.00008686333679524809,
          0.00028731719093812836,
          0.00010356782464048812,
          0.0006648386162405529,
          0.0009488149096096331,
          0,
          0,
          0,
          0
         ]
        },
        {
         "marker": {
          "color": "green",
          "size": 10
         },
         "mode": "markers",
         "name": "Top Strike: 5800",
         "type": "scatter",
         "x": [
          5800
         ],
         "y": [
          1.7041918499713866
         ]
        },
        {
         "marker": {
          "color": "green",
          "size": 10
         },
         "mode": "markers",
         "name": "Top Strike: 5825",
         "type": "scatter",
         "x": [
          5825
         ],
         "y": [
          0.7937972624058057
         ]
        },
        {
         "marker": {
          "color": "green",
          "size": 10
         },
         "mode": "markers",
         "name": "Top Strike: 5775",
         "type": "scatter",
         "x": [
          5775
         ],
         "y": [
          0.746276335383667
         ]
        },
        {
         "marker": {
          "color": "green",
          "size": 10
         },
         "mode": "markers",
         "name": "Top Strike: 5780",
         "type": "scatter",
         "x": [
          5780
         ],
         "y": [
          0.6475461304231603
         ]
        },
        {
         "marker": {
          "color": "green",
          "size": 10
         },
         "mode": "markers",
         "name": "Top Strike: 5790",
         "type": "scatter",
         "x": [
          5790
         ],
         "y": [
          0.6406505178406452
         ]
        },
        {
         "marker": {
          "color": "green",
          "size": 10
         },
         "mode": "markers",
         "name": "Top Strike: 5820",
         "type": "scatter",
         "x": [
          5820
         ],
         "y": [
          0.5220854040127005
         ]
        },
        {
         "marker": {
          "color": "green",
          "size": 10
         },
         "mode": "markers",
         "name": "Top Strike: 5815",
         "type": "scatter",
         "x": [
          5815
         ],
         "y": [
          0.5179527137197882
         ]
        },
        {
         "marker": {
          "color": "green",
          "size": 10
         },
         "mode": "markers",
         "name": "Top Strike: 5805",
         "type": "scatter",
         "x": [
          5805
         ],
         "y": [
          0.4952012012745712
         ]
        },
        {
         "marker": {
          "color": "green",
          "size": 10
         },
         "mode": "markers",
         "name": "Top Strike: 5810",
         "type": "scatter",
         "x": [
          5810
         ],
         "y": [
          0.41072994713876165
         ]
        },
        {
         "marker": {
          "color": "green",
          "size": 10
         },
         "mode": "markers",
         "name": "Top Strike: 5830",
         "type": "scatter",
         "x": [
          5830
         ],
         "y": [
          0.3307655638235977
         ]
        },
        {
         "marker": {
          "color": "blue",
          "size": 10
         },
         "mode": "markers",
         "name": "Low Strike: 5725",
         "type": "scatter",
         "x": [
          5725
         ],
         "y": [
          -0.17024545832354818
         ]
        },
        {
         "marker": {
          "color": "blue",
          "size": 10
         },
         "mode": "markers",
         "name": "Low Strike: 5740",
         "type": "scatter",
         "x": [
          5740
         ],
         "y": [
          -0.13731423098544204
         ]
        },
        {
         "marker": {
          "color": "blue",
          "size": 10
         },
         "mode": "markers",
         "name": "Low Strike: 5690",
         "type": "scatter",
         "x": [
          5690
         ],
         "y": [
          -0.13673625570599673
         ]
        },
        {
         "marker": {
          "color": "blue",
          "size": 10
         },
         "mode": "markers",
         "name": "Low Strike: 5730",
         "type": "scatter",
         "x": [
          5730
         ],
         "y": [
          -0.10046747169641157
         ]
        },
        {
         "marker": {
          "color": "blue",
          "size": 10
         },
         "mode": "markers",
         "name": "Low Strike: 5650",
         "type": "scatter",
         "x": [
          5650
         ],
         "y": [
          -0.09506524032726094
         ]
        },
        {
         "marker": {
          "color": "blue",
          "size": 10
         },
         "mode": "markers",
         "name": "Low Strike: 5755",
         "type": "scatter",
         "x": [
          5755
         ],
         "y": [
          -0.07086043743950816
         ]
        },
        {
         "marker": {
          "color": "blue",
          "size": 10
         },
         "mode": "markers",
         "name": "Low Strike: 5675",
         "type": "scatter",
         "x": [
          5675
         ],
         "y": [
          -0.06647049803377907
         ]
        },
        {
         "marker": {
          "color": "blue",
          "size": 10
         },
         "mode": "markers",
         "name": "Low Strike: 5670",
         "type": "scatter",
         "x": [
          5670
         ],
         "y": [
          -0.06404500639865023
         ]
        },
        {
         "marker": {
          "color": "blue",
          "size": 10
         },
         "mode": "markers",
         "name": "Low Strike: 5625",
         "type": "scatter",
         "x": [
          5625
         ],
         "y": [
          -0.056902167396025605
         ]
        },
        {
         "marker": {
          "color": "blue",
          "size": 10
         },
         "mode": "markers",
         "name": "Low Strike: 5695",
         "type": "scatter",
         "x": [
          5695
         ],
         "y": [
          -0.0528596813374775
         ]
        }
       ],
       "layout": {
        "height": 500,
        "shapes": [
         {
          "line": {
           "color": "red",
           "width": 2
          },
          "name": "SPX Spot: 5780",
          "type": "line",
          "x0": 5780.0498,
          "x1": 5780.0498,
          "xref": "x",
          "y0": 0,
          "y1": 1,
          "yref": "y domain"
         }
        ],
        "showlegend": true,
        "template": {
         "data": {
          "bar": [
           {
            "error_x": {
             "color": "#2a3f5f"
            },
            "error_y": {
             "color": "#2a3f5f"
            },
            "marker": {
             "line": {
              "color": "#E5ECF6",
              "width": 0.5
             },
             "pattern": {
              "fillmode": "overlay",
              "size": 10,
              "solidity": 0.2
             }
            },
            "type": "bar"
           }
          ],
          "barpolar": [
           {
            "marker": {
             "line": {
              "color": "#E5ECF6",
              "width": 0.5
             },
             "pattern": {
              "fillmode": "overlay",
              "size": 10,
              "solidity": 0.2
             }
            },
            "type": "barpolar"
           }
          ],
          "carpet": [
           {
            "aaxis": {
             "endlinecolor": "#2a3f5f",
             "gridcolor": "white",
             "linecolor": "white",
             "minorgridcolor": "white",
             "startlinecolor": "#2a3f5f"
            },
            "baxis": {
             "endlinecolor": "#2a3f5f",
             "gridcolor": "white",
             "linecolor": "white",
             "minorgridcolor": "white",
             "startlinecolor": "#2a3f5f"
            },
            "type": "carpet"
           }
          ],
          "choropleth": [
           {
            "colorbar": {
             "outlinewidth": 0,
             "ticks": ""
            },
            "type": "choropleth"
           }
          ],
          "contour": [
           {
            "colorbar": {
             "outlinewidth": 0,
             "ticks": ""
            },
            "colorscale": [
             [
              0,
              "#0d0887"
             ],
             [
              0.1111111111111111,
              "#46039f"
             ],
             [
              0.2222222222222222,
              "#7201a8"
             ],
             [
              0.3333333333333333,
              "#9c179e"
             ],
             [
              0.4444444444444444,
              "#bd3786"
             ],
             [
              0.5555555555555556,
              "#d8576b"
             ],
             [
              0.6666666666666666,
              "#ed7953"
             ],
             [
              0.7777777777777778,
              "#fb9f3a"
             ],
             [
              0.8888888888888888,
              "#fdca26"
             ],
             [
              1,
              "#f0f921"
             ]
            ],
            "type": "contour"
           }
          ],
          "contourcarpet": [
           {
            "colorbar": {
             "outlinewidth": 0,
             "ticks": ""
            },
            "type": "contourcarpet"
           }
          ],
          "heatmap": [
           {
            "colorbar": {
             "outlinewidth": 0,
             "ticks": ""
            },
            "colorscale": [
             [
              0,
              "#0d0887"
             ],
             [
              0.1111111111111111,
              "#46039f"
             ],
             [
              0.2222222222222222,
              "#7201a8"
             ],
             [
              0.3333333333333333,
              "#9c179e"
             ],
             [
              0.4444444444444444,
              "#bd3786"
             ],
             [
              0.5555555555555556,
              "#d8576b"
             ],
             [
              0.6666666666666666,
              "#ed7953"
             ],
             [
              0.7777777777777778,
              "#fb9f3a"
             ],
             [
              0.8888888888888888,
              "#fdca26"
             ],
             [
              1,
              "#f0f921"
             ]
            ],
            "type": "heatmap"
           }
          ],
          "heatmapgl": [
           {
            "colorbar": {
             "outlinewidth": 0,
             "ticks": ""
            },
            "colorscale": [
             [
              0,
              "#0d0887"
             ],
             [
              0.1111111111111111,
              "#46039f"
             ],
             [
              0.2222222222222222,
              "#7201a8"
             ],
             [
              0.3333333333333333,
              "#9c179e"
             ],
             [
              0.4444444444444444,
              "#bd3786"
             ],
             [
              0.5555555555555556,
              "#d8576b"
             ],
             [
              0.6666666666666666,
              "#ed7953"
             ],
             [
              0.7777777777777778,
              "#fb9f3a"
             ],
             [
              0.8888888888888888,
              "#fdca26"
             ],
             [
              1,
              "#f0f921"
             ]
            ],
            "type": "heatmapgl"
           }
          ],
          "histogram": [
           {
            "marker": {
             "pattern": {
              "fillmode": "overlay",
              "size": 10,
              "solidity": 0.2
             }
            },
            "type": "histogram"
           }
          ],
          "histogram2d": [
           {
            "colorbar": {
             "outlinewidth": 0,
             "ticks": ""
            },
            "colorscale": [
             [
              0,
              "#0d0887"
             ],
             [
              0.1111111111111111,
              "#46039f"
             ],
             [
              0.2222222222222222,
              "#7201a8"
             ],
             [
              0.3333333333333333,
              "#9c179e"
             ],
             [
              0.4444444444444444,
              "#bd3786"
             ],
             [
              0.5555555555555556,
              "#d8576b"
             ],
             [
              0.6666666666666666,
              "#ed7953"
             ],
             [
              0.7777777777777778,
              "#fb9f3a"
             ],
             [
              0.8888888888888888,
              "#fdca26"
             ],
             [
              1,
              "#f0f921"
             ]
            ],
            "type": "histogram2d"
           }
          ],
          "histogram2dcontour": [
           {
            "colorbar": {
             "outlinewidth": 0,
             "ticks": ""
            },
            "colorscale": [
             [
              0,
              "#0d0887"
             ],
             [
              0.1111111111111111,
              "#46039f"
             ],
             [
              0.2222222222222222,
              "#7201a8"
             ],
             [
              0.3333333333333333,
              "#9c179e"
             ],
             [
              0.4444444444444444,
              "#bd3786"
             ],
             [
              0.5555555555555556,
              "#d8576b"
             ],
             [
              0.6666666666666666,
              "#ed7953"
             ],
             [
              0.7777777777777778,
              "#fb9f3a"
             ],
             [
              0.8888888888888888,
              "#fdca26"
             ],
             [
              1,
              "#f0f921"
             ]
            ],
            "type": "histogram2dcontour"
           }
          ],
          "mesh3d": [
           {
            "colorbar": {
             "outlinewidth": 0,
             "ticks": ""
            },
            "type": "mesh3d"
           }
          ],
          "parcoords": [
           {
            "line": {
             "colorbar": {
              "outlinewidth": 0,
              "ticks": ""
             }
            },
            "type": "parcoords"
           }
          ],
          "pie": [
           {
            "automargin": true,
            "type": "pie"
           }
          ],
          "scatter": [
           {
            "fillpattern": {
             "fillmode": "overlay",
             "size": 10,
             "solidity": 0.2
            },
            "type": "scatter"
           }
          ],
          "scatter3d": [
           {
            "line": {
             "colorbar": {
              "outlinewidth": 0,
              "ticks": ""
             }
            },
            "marker": {
             "colorbar": {
              "outlinewidth": 0,
              "ticks": ""
             }
            },
            "type": "scatter3d"
           }
          ],
          "scattercarpet": [
           {
            "marker": {
             "colorbar": {
              "outlinewidth": 0,
              "ticks": ""
             }
            },
            "type": "scattercarpet"
           }
          ],
          "scattergeo": [
           {
            "marker": {
             "colorbar": {
              "outlinewidth": 0,
              "ticks": ""
             }
            },
            "type": "scattergeo"
           }
          ],
          "scattergl": [
           {
            "marker": {
             "colorbar": {
              "outlinewidth": 0,
              "ticks": ""
             }
            },
            "type": "scattergl"
           }
          ],
          "scattermapbox": [
           {
            "marker": {
             "colorbar": {
              "outlinewidth": 0,
              "ticks": ""
             }
            },
            "type": "scattermapbox"
           }
          ],
          "scatterpolar": [
           {
            "marker": {
             "colorbar": {
              "outlinewidth": 0,
              "ticks": ""
             }
            },
            "type": "scatterpolar"
           }
          ],
          "scatterpolargl": [
           {
            "marker": {
             "colorbar": {
              "outlinewidth": 0,
              "ticks": ""
             }
            },
            "type": "scatterpolargl"
           }
          ],
          "scatterternary": [
           {
            "marker": {
             "colorbar": {
              "outlinewidth": 0,
              "ticks": ""
             }
            },
            "type": "scatterternary"
           }
          ],
          "surface": [
           {
            "colorbar": {
             "outlinewidth": 0,
             "ticks": ""
            },
            "colorscale": [
             [
              0,
              "#0d0887"
             ],
             [
              0.1111111111111111,
              "#46039f"
             ],
             [
              0.2222222222222222,
              "#7201a8"
             ],
             [
              0.3333333333333333,
              "#9c179e"
             ],
             [
              0.4444444444444444,
              "#bd3786"
             ],
             [
              0.5555555555555556,
              "#d8576b"
             ],
             [
              0.6666666666666666,
              "#ed7953"
             ],
             [
              0.7777777777777778,
              "#fb9f3a"
             ],
             [
              0.8888888888888888,
              "#fdca26"
             ],
             [
              1,
              "#f0f921"
             ]
            ],
            "type": "surface"
           }
          ],
          "table": [
           {
            "cells": {
             "fill": {
              "color": "#EBF0F8"
             },
             "line": {
              "color": "white"
             }
            },
            "header": {
             "fill": {
              "color": "#C8D4E3"
             },
             "line": {
              "color": "white"
             }
            },
            "type": "table"
           }
          ]
         },
         "layout": {
          "annotationdefaults": {
           "arrowcolor": "#2a3f5f",
           "arrowhead": 0,
           "arrowwidth": 1
          },
          "autotypenumbers": "strict",
          "coloraxis": {
           "colorbar": {
            "outlinewidth": 0,
            "ticks": ""
           }
          },
          "colorscale": {
           "diverging": [
            [
             0,
             "#8e0152"
            ],
            [
             0.1,
             "#c51b7d"
            ],
            [
             0.2,
             "#de77ae"
            ],
            [
             0.3,
             "#f1b6da"
            ],
            [
             0.4,
             "#fde0ef"
            ],
            [
             0.5,
             "#f7f7f7"
            ],
            [
             0.6,
             "#e6f5d0"
            ],
            [
             0.7,
             "#b8e186"
            ],
            [
             0.8,
             "#7fbc41"
            ],
            [
             0.9,
             "#4d9221"
            ],
            [
             1,
             "#276419"
            ]
           ],
           "sequential": [
            [
             0,
             "#0d0887"
            ],
            [
             0.1111111111111111,
             "#46039f"
            ],
            [
             0.2222222222222222,
             "#7201a8"
            ],
            [
             0.3333333333333333,
             "#9c179e"
            ],
            [
             0.4444444444444444,
             "#bd3786"
            ],
            [
             0.5555555555555556,
             "#d8576b"
            ],
            [
             0.6666666666666666,
             "#ed7953"
            ],
            [
             0.7777777777777778,
             "#fb9f3a"
            ],
            [
             0.8888888888888888,
             "#fdca26"
            ],
            [
             1,
             "#f0f921"
            ]
           ],
           "sequentialminus": [
            [
             0,
             "#0d0887"
            ],
            [
             0.1111111111111111,
             "#46039f"
            ],
            [
             0.2222222222222222,
             "#7201a8"
            ],
            [
             0.3333333333333333,
             "#9c179e"
            ],
            [
             0.4444444444444444,
             "#bd3786"
            ],
            [
             0.5555555555555556,
             "#d8576b"
            ],
            [
             0.6666666666666666,
             "#ed7953"
            ],
            [
             0.7777777777777778,
             "#fb9f3a"
            ],
            [
             0.8888888888888888,
             "#fdca26"
            ],
            [
             1,
             "#f0f921"
            ]
           ]
          },
          "colorway": [
           "#636efa",
           "#EF553B",
           "#00cc96",
           "#ab63fa",
           "#FFA15A",
           "#19d3f3",
           "#FF6692",
           "#B6E880",
           "#FF97FF",
           "#FECB52"
          ],
          "font": {
           "color": "#2a3f5f"
          },
          "geo": {
           "bgcolor": "white",
           "lakecolor": "white",
           "landcolor": "#E5ECF6",
           "showlakes": true,
           "showland": true,
           "subunitcolor": "white"
          },
          "hoverlabel": {
           "align": "left"
          },
          "hovermode": "closest",
          "mapbox": {
           "style": "light"
          },
          "paper_bgcolor": "white",
          "plot_bgcolor": "#E5ECF6",
          "polar": {
           "angularaxis": {
            "gridcolor": "white",
            "linecolor": "white",
            "ticks": ""
           },
           "bgcolor": "#E5ECF6",
           "radialaxis": {
            "gridcolor": "white",
            "linecolor": "white",
            "ticks": ""
           }
          },
          "scene": {
           "xaxis": {
            "backgroundcolor": "#E5ECF6",
            "gridcolor": "white",
            "gridwidth": 2,
            "linecolor": "white",
            "showbackground": true,
            "ticks": "",
            "zerolinecolor": "white"
           },
           "yaxis": {
            "backgroundcolor": "#E5ECF6",
            "gridcolor": "white",
            "gridwidth": 2,
            "linecolor": "white",
            "showbackground": true,
            "ticks": "",
            "zerolinecolor": "white"
           },
           "zaxis": {
            "backgroundcolor": "#E5ECF6",
            "gridcolor": "white",
            "gridwidth": 2,
            "linecolor": "white",
            "showbackground": true,
            "ticks": "",
            "zerolinecolor": "white"
           }
          },
          "shapedefaults": {
           "line": {
            "color": "#2a3f5f"
           }
          },
          "ternary": {
           "aaxis": {
            "gridcolor": "white",
            "linecolor": "white",
            "ticks": ""
           },
           "baxis": {
            "gridcolor": "white",
            "linecolor": "white",
            "ticks": ""
           },
           "bgcolor": "#E5ECF6",
           "caxis": {
            "gridcolor": "white",
            "linecolor": "white",
            "ticks": ""
           }
          },
          "title": {
           "x": 0.05
          },
          "xaxis": {
           "automargin": true,
           "gridcolor": "white",
           "linecolor": "white",
           "ticks": "",
           "title": {
            "standoff": 15
           },
           "zerolinecolor": "white",
           "zerolinewidth": 2
          },
          "yaxis": {
           "automargin": true,
           "gridcolor": "white",
           "linecolor": "white",
           "ticks": "",
           "title": {
            "standoff": 15
           },
           "zerolinecolor": "white",
           "zerolinewidth": 2
          }
         }
        },
        "title": {
         "text": "Top 10 Highest and Lowest Gamma Exposure Levels (1DTE)"
        },
        "width": 900,
        "xaxis": {
         "range": [
          5480.0498,
          6080.0498
         ],
         "title": {
          "text": "Strike"
         }
        },
        "yaxis": {
         "title": {
          "text": "Spot Gamma Exposure ($ billions/1% move)"
         }
        }
       }
      }
     },
     "metadata": {},
     "output_type": "display_data"
    }
   ],
   "source": [
    "import pandas as pd\n",
    "import numpy as np\n",
    "from scipy.stats import norm\n",
    "import plotly.graph_objects as go\n",
    "from datetime import datetime, timedelta\n",
    "\n",
    "pd.options.display.float_format = '{:,.4f}'.format\n",
    "\n",
    "# Inputs and Parameters\n",
    "filename = 'copy_spx_quotedata.csv'\n",
    "\n",
    "# Black-Scholes European-Options Gamma\n",
    "def calcGammaEx(S, K, vol, T, r, q, optType, OI):\n",
    "    if T == 0 or vol == 0:\n",
    "        return 0\n",
    "    dp = (np.log(S/K) + (r - q + 0.5*vol**2)*T) / (vol*np.sqrt(T))\n",
    "    dm = dp - vol*np.sqrt(T) \n",
    "    gamma = np.exp(-q*T) * norm.pdf(dp) / (S * vol * np.sqrt(T))\n",
    "    return OI * 100 * S * S * 0.01 * gamma \n",
    "\n",
    "# Read file and parse the first few lines to find the SPX spot and today's date\n",
    "optionsFile = open(filename)\n",
    "optionsFileData = optionsFile.readlines()\n",
    "optionsFile.close()\n",
    "\n",
    "spotPrice = float([line.split('Last: ')[1].split(',')[0].strip().replace(',', '') for line in optionsFileData if 'Last: ' in line][0])\n",
    "todayDate = datetime.strptime([line.split('Date: ')[1].split(' at')[0].strip() for line in optionsFileData if 'Date: ' in line][0], '%B %d, %Y')\n",
    "\n",
    "fromStrike = 0.8 * spotPrice\n",
    "toStrike = 1.2 * spotPrice\n",
    "\n",
    "# Get SPX Options Data\n",
    "df = pd.read_csv(filename, sep=\",\", header=None, skiprows=4)\n",
    "df.columns = ['ExpirationDate','Calls','CallLastSale','CallNet','CallBid','CallAsk','CallVol',\n",
    "              'CallIV','CallDelta','CallGamma','CallOpenInt','StrikePrice','Puts','PutLastSale',\n",
    "              'PutNet','PutBid','PutAsk','PutVol','PutIV','PutDelta','PutGamma','PutOpenInt']\n",
    "\n",
    "df['ExpirationDate'] = pd.to_datetime(df['ExpirationDate'], format='%a %b %d %Y')\n",
    "df['StrikePrice'] = df['StrikePrice'].astype(float)\n",
    "df['CallIV'] = df['CallIV'].astype(float)\n",
    "df['PutIV'] = df['PutIV'].astype(float)\n",
    "df['CallGamma'] = df['CallGamma'].astype(float)\n",
    "df['PutGamma'] = df['PutGamma'].astype(float)\n",
    "df['CallOpenInt'] = df['CallOpenInt'].astype(float)\n",
    "df['PutOpenInt'] = df['PutOpenInt'].astype(float)\n",
    "\n",
    "# Filter for 1DTE options only (expiring tomorrow)\n",
    "tomorrowDate = todayDate + timedelta(days=1)\n",
    "df = df[df['ExpirationDate'].dt.date == tomorrowDate.date()]\n",
    "\n",
    "# ---=== CALCULATE SPOT GAMMA ===---\n",
    "df['CallGEX'] = df['CallGamma'] * df['CallOpenInt'] * 100 * spotPrice * spotPrice * 0.01\n",
    "df['PutGEX'] = df['PutGamma'] * df['PutOpenInt'] * 100 * spotPrice * spotPrice * 0.01 * -1\n",
    "\n",
    "df['TotalGamma'] = (df['CallGEX'] + df['PutGEX']) / 10**9\n",
    "dfAgg = df.groupby(['StrikePrice']).agg({'TotalGamma': 'sum'})\n",
    "strikes = dfAgg.index.values\n",
    "\n",
    "# Define the range of strikes to display (300 points above and below SPX spot price)\n",
    "lower_bound = spotPrice - 300\n",
    "upper_bound = spotPrice + 300\n",
    "\n",
    "# Filter dfAgg to include only strikes within the defined range\n",
    "filtered_dfAgg = dfAgg[(dfAgg.index >= lower_bound) & (dfAgg.index <= upper_bound)]\n",
    "\n",
    "# Filter the strikes array to match the filtered dataframe\n",
    "filtered_strikes = filtered_dfAgg.index.values\n",
    "\n",
    "# Chart 1: Absolute Gamma Exposure with Plotly (filtered by strike price range)\n",
    "fig1 = go.Figure()\n",
    "\n",
    "# Add Gamma Exposure bars\n",
    "fig1.add_trace(go.Bar(\n",
    "    x=filtered_strikes,\n",
    "    y=filtered_dfAgg['TotalGamma'].to_numpy(),\n",
    "    marker_color='blue',\n",
    "    name=\"Gamma Exposure\"\n",
    "))\n",
    "\n",
    "# Add SPX Spot line\n",
    "fig1.add_vline(x=spotPrice, line=dict(color='red', width=2), name=\"SPX Spot\")\n",
    "\n",
    "# Layout settings\n",
    "fig1.update_layout(\n",
    "    title=f\"Total Gamma: ${df['TotalGamma'].sum():.2f} Bn per 1% SPX Move\",\n",
    "    xaxis_title=\"Strike\",\n",
    "    yaxis_title=\"Spot Gamma Exposure ($ billions/1% move)\",\n",
    "    legend_title=\"Legend\",\n",
    "    showlegend=True,\n",
    "    width=900,\n",
    "    height=500,\n",
    "    xaxis=dict(range=[lower_bound, upper_bound])  # Set x-axis to only show the filtered range\n",
    ")\n",
    "\n",
    "fig1.show()\n",
    "\n",
    "# ---=== CALCULATE GAMMA PROFILE FOR 1DTE ===---\n",
    "levels = np.linspace(fromStrike, toStrike, 60)\n",
    "totalGamma = []\n",
    "\n",
    "# For each spot level, calculate gamma exposure at that point using 1DTE data\n",
    "for level in levels:\n",
    "    df['callGammaEx'] = df.apply(lambda row: calcGammaEx(level, row['StrikePrice'], row['CallIV'], \n",
    "                                                         1/365, 0, 0, \"call\", row['CallOpenInt']), axis=1)\n",
    "    df['putGammaEx'] = df.apply(lambda row: calcGammaEx(level, row['StrikePrice'], row['PutIV'], \n",
    "                                                        1/365, 0, 0, \"put\", row['PutOpenInt']), axis=1)    \n",
    "\n",
    "    totalGamma.append(df['callGammaEx'].sum() - df['putGammaEx'].sum())\n",
    "\n",
    "totalGamma = np.array(totalGamma) / 10**9  # Normalize to billions\n",
    "\n",
    "# Find Gamma Flip Point\n",
    "zeroCrossIdx = np.where(np.diff(np.sign(totalGamma)))[0]\n",
    "\n",
    "if zeroCrossIdx.size > 0:\n",
    "    gammaFlipPoint = np.interp(0, totalGamma[zeroCrossIdx[0]:zeroCrossIdx[0]+2], levels[zeroCrossIdx[0]:zeroCrossIdx[0]+2])\n",
    "else:\n",
    "    gammaFlipPoint = None  # Handle the case where no zero-crossing is found\n",
    "\n",
    "# Chart 2: Gamma Exposure Profile for 1DTE with dual background colors and hover functionality\n",
    "fig2 = go.Figure()\n",
    "\n",
    "# Add Gamma Exposure line\n",
    "fig2.add_trace(go.Scatter(\n",
    "    x=levels,\n",
    "    y=totalGamma,\n",
    "    mode='lines',\n",
    "    name=\"1DTE Gamma Exposure\"\n",
    "))\n",
    "\n",
    "# Add SPX Spot line as a vertical scatter line with hover functionality\n",
    "fig2.add_trace(go.Scatter(\n",
    "    x=[spotPrice, spotPrice],\n",
    "    y=[min(totalGamma) - 0.5, max(totalGamma) + 0.5],\n",
    "    mode='lines',\n",
    "    line=dict(color='red', width=2),\n",
    "    name=f\"SPX Spot: {spotPrice:.0f}\",\n",
    "    hovertemplate=f\"SPX Spot Price: {spotPrice:.0f}\"\n",
    "))\n",
    "\n",
    "# Add Gamma Flip Point line as a vertical scatter line with hover functionality\n",
    "if gammaFlipPoint is not None:\n",
    "    fig2.add_trace(go.Scatter(\n",
    "        x=[gammaFlipPoint, gammaFlipPoint],\n",
    "        y=[min(totalGamma) - 0.5, max(totalGamma) + 0.5],\n",
    "        mode='lines',\n",
    "        line=dict(color='black', width=2),\n",
    "        name=f\"Gamma Flip Point: {gammaFlipPoint:.0f}\",\n",
    "        hovertemplate=f\"Gamma Flip Point: {gammaFlipPoint:.0f}\"\n",
    "    ))\n",
    "\n",
    "# Add shaded background on the left (before Gamma Flip Point)\n",
    "fig2.add_shape(type=\"rect\",\n",
    "               x0=fromStrike, x1=gammaFlipPoint if gammaFlipPoint is not None else spotPrice,\n",
    "               y0=-10, y1=10,\n",
    "               fillcolor=\"rgba(255, 192, 203, 0.2)\",  # light red (similar to pink)\n",
    "               line_width=0)\n",
    "\n",
    "# Add shaded background on the right (after Gamma Flip Point)\n",
    "fig2.add_shape(type=\"rect\",\n",
    "               x0=gammaFlipPoint if gammaFlipPoint is not None else spotPrice, x1=toStrike,\n",
    "               y0=-10, y1=10,\n",
    "               fillcolor=\"rgba(144, 238, 144, 0.2)\",  # light green\n",
    "               line_width=0)\n",
    "\n",
    "# Layout settings with dual background and hover-enabled lines\n",
    "fig2.update_layout(\n",
    "    title=f\"Gamma Exposure Profile, SPX (1DTE), {todayDate.strftime('%d %b %Y')}\",\n",
    "    xaxis_title=\"Index Price\",\n",
    "    yaxis_title=\"Gamma Exposure ($ billions/1% move)\",\n",
    "    width=900,\n",
    "    height=500,\n",
    "    xaxis=dict(range=[fromStrike, toStrike]),\n",
    "    yaxis=dict(range=[min(totalGamma) - 0.5, max(totalGamma) + 0.5]),\n",
    "    plot_bgcolor='rgba(255, 255, 255, 1)',  # White background\n",
    ")\n",
    "\n",
    "fig2.show()\n",
    "\n",
    "\n",
    "# Define the range of strikes to display (300 points above and below SPX spot price)\n",
    "lower_bound = spotPrice - 300\n",
    "upper_bound = spotPrice + 300\n",
    "\n",
    "# Filter dfAgg to include only strikes within the defined range\n",
    "filtered_dfAgg = dfAgg[(dfAgg.index >= lower_bound) & (dfAgg.index <= upper_bound)]\n",
    "\n",
    "# Filter the strikes array to match the filtered dataframe\n",
    "filtered_strikes = filtered_dfAgg.index.values\n",
    "\n",
    "# Filter top 5 below and above SPX spot price within the defined range\n",
    "top_5_below = filtered_dfAgg[filtered_dfAgg.index < spotPrice].nsmallest(5, 'TotalGamma')\n",
    "top_5_above = filtered_dfAgg[filtered_dfAgg.index > spotPrice].nlargest(5, 'TotalGamma')\n",
    "\n",
    "# Define the range of strikes to display (300 points above and below SPX spot price)\n",
    "lower_bound = spotPrice - 300\n",
    "upper_bound = spotPrice + 300\n",
    "\n",
    "# Filter dfAgg to include only strikes within the defined range\n",
    "filtered_dfAgg = dfAgg[(dfAgg.index >= lower_bound) & (dfAgg.index <= upper_bound)]\n",
    "\n",
    "# Filter the strikes array to match the filtered dataframe\n",
    "filtered_strikes = filtered_dfAgg.index.values\n",
    "\n",
    "# Get the top 10 highest and lowest gamma exposure levels within the defined range\n",
    "top_10_gamma = filtered_dfAgg.nlargest(10, 'TotalGamma')\n",
    "lowest_10_gamma = filtered_dfAgg.nsmallest(10, 'TotalGamma')\n",
    "\n",
    "# Chart 3: Highlight Top 10 and Lowest 10 Gamma Exposure Levels with Plotly (filtered by strike price range)\n",
    "fig3 = go.Figure()\n",
    "\n",
    "# Add Gamma Exposure bars (without strike labels on the bars themselves)\n",
    "fig3.add_trace(go.Bar(\n",
    "    x=filtered_strikes,\n",
    "    y=filtered_dfAgg['TotalGamma'].to_numpy(),\n",
    "    marker_color='blue',\n",
    "    name=\"Gamma Exposure\"\n",
    "))\n",
    "\n",
    "# Highlight and label the top 10 gamma exposure levels\n",
    "for idx, row in top_10_gamma.iterrows():\n",
    "    fig3.add_trace(go.Scatter(\n",
    "        x=[row.name], y=[row['TotalGamma']], mode='markers',\n",
    "        marker=dict(color='green', size=10),\n",
    "        name=f\"Top Strike: {row.name:.0f}\"\n",
    "    ))\n",
    "\n",
    "# Highlight and label the lowest 10 gamma exposure levels\n",
    "for idx, row in lowest_10_gamma.iterrows():\n",
    "    fig3.add_trace(go.Scatter(\n",
    "        x=[row.name], y=[row['TotalGamma']], mode='markers',\n",
    "        marker=dict(color='blue', size=10),\n",
    "        name=f\"Low Strike: {row.name:.0f}\"\n",
    "    ))\n",
    "\n",
    "# Add SPX Spot line\n",
    "fig3.add_vline(x=spotPrice, line=dict(color='red', width=2), name=f\"SPX Spot: {spotPrice:.0f}\")\n",
    "\n",
    "# Layout settings\n",
    "fig3.update_layout(\n",
    "    title=\"Top 10 Highest and Lowest Gamma Exposure Levels (1DTE)\",\n",
    "    xaxis_title=\"Strike\",\n",
    "    yaxis_title=\"Spot Gamma Exposure ($ billions/1% move)\",\n",
    "    width=900,\n",
    "    height=500,\n",
    "    xaxis=dict(range=[lower_bound, upper_bound]),  # Set x-axis to only show the filtered range\n",
    "    showlegend=True  # Show the legend with the strikes labeled\n",
    ")\n",
    "\n",
    "fig3.show()\n"
   ]
  }
 ],
 "metadata": {
  "kernelspec": {
   "display_name": "Python 3",
   "language": "python",
   "name": "python3"
  },
  "language_info": {
   "codemirror_mode": {
    "name": "ipython",
    "version": 3
   },
   "file_extension": ".py",
   "mimetype": "text/x-python",
   "name": "python",
   "nbconvert_exporter": "python",
   "pygments_lexer": "ipython3",
   "version": "3.12.5"
  }
 },
 "nbformat": 4,
 "nbformat_minor": 2
}
